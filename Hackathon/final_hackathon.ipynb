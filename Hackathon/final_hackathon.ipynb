{
 "cells": [
  {
   "cell_type": "markdown",
   "metadata": {},
   "source": [
    "# Final Hackathon Project"
   ]
  },
  {
   "cell_type": "markdown",
   "metadata": {},
   "source": [
    "## Description\n",
    "\n",
    "Artificial Intelligence is an integral part of all major e-commerce companies today. Today's online retail platforms are heavily powered by algorithms and applications that use AI. Machine learning is used in a variety of ways, from inventory control and quality assurance in the warehouse to product recommendations and sales demographics on the website.\n",
    "\n",
    "Let’s say you want to create a promotional campaign for an e-commerce store and offer discounts to customers in the hopes that this might increase your sales.\n",
    "\n",
    "You have been provided descriptions of products on Amazon and Flipkart, including details like product title, ratings, reviews, and actual prices. In this challenge, you will predict discounted prices of the listed products based on their ratings and actual prices. "
   ]
  },
  {
   "cell_type": "markdown",
   "metadata": {},
   "source": [
    "## Introduction\n",
    "\n",
    "Columns\n",
    "\n",
    "    title - Name of the product\n",
    "    Rating- average rating given to a product\n",
    "    maincateg - category that the product is listed under(men/women)\n",
    "    platform - platform on which it is sold on (Eg. Amazon, Flipkart)\n",
    "    price1 - Discounted Price of the listed product\n",
    "    actprice1 - Actual price of the listed product\n",
    "    Offer % - Discount percent\n",
    "    norating1 - number of ratings available for a particular product\n",
    "    noreviews1 - number of reviews available for a particular product\n",
    "    star_5f - number of five star ratings given to a particular product\n",
    "    star_4f - number of four star ratings given to a particular product\n",
    "    star_3f - number of three star ratings given to a particular product\n",
    "    star_2f - number of two star ratings given to a particular product\n",
    "    star_1f - number of one star ratings given to a particular product\n",
    "    fulfilled1- whether it is Amazon fulfilled or not\n"
   ]
  },
  {
   "cell_type": "markdown",
   "metadata": {},
   "source": [
    "## imports and renaming"
   ]
  },
  {
   "cell_type": "code",
   "execution_count": 2,
   "metadata": {},
   "outputs": [],
   "source": [
    "import pandas as pd\n",
    "import numpy as np\n",
    "import matplotlib.pyplot as plt\n",
    "import seaborn as sns\n",
    "import math"
   ]
  },
  {
   "cell_type": "code",
   "execution_count": 2,
   "metadata": {},
   "outputs": [],
   "source": [
    "df_train = pd.read_csv('data/train.csv')\n",
    "df_test = pd.read_csv('data/test.csv')"
   ]
  },
  {
   "cell_type": "code",
   "execution_count": 4,
   "metadata": {},
   "outputs": [
    {
     "data": {
      "text/html": [
       "<div>\n",
       "<style scoped>\n",
       "    .dataframe tbody tr th:only-of-type {\n",
       "        vertical-align: middle;\n",
       "    }\n",
       "\n",
       "    .dataframe tbody tr th {\n",
       "        vertical-align: top;\n",
       "    }\n",
       "\n",
       "    .dataframe thead th {\n",
       "        text-align: right;\n",
       "    }\n",
       "</style>\n",
       "<table border=\"1\" class=\"dataframe\">\n",
       "  <thead>\n",
       "    <tr style=\"text-align: right;\">\n",
       "      <th></th>\n",
       "      <th>id</th>\n",
       "      <th>title</th>\n",
       "      <th>Rating</th>\n",
       "      <th>maincateg</th>\n",
       "      <th>platform</th>\n",
       "      <th>price1</th>\n",
       "      <th>actprice1</th>\n",
       "      <th>Offer %</th>\n",
       "      <th>norating1</th>\n",
       "      <th>noreviews1</th>\n",
       "      <th>star_5f</th>\n",
       "      <th>star_4f</th>\n",
       "      <th>star_3f</th>\n",
       "      <th>star_2f</th>\n",
       "      <th>star_1f</th>\n",
       "      <th>fulfilled1</th>\n",
       "    </tr>\n",
       "  </thead>\n",
       "  <tbody>\n",
       "    <tr>\n",
       "      <th>0</th>\n",
       "      <td>16695</td>\n",
       "      <td>Fashionable &amp; Comfortable Bellies For Women  (...</td>\n",
       "      <td>3.9</td>\n",
       "      <td>Women</td>\n",
       "      <td>Flipkart</td>\n",
       "      <td>698</td>\n",
       "      <td>999</td>\n",
       "      <td>30.13%</td>\n",
       "      <td>38.0</td>\n",
       "      <td>7.0</td>\n",
       "      <td>17.0</td>\n",
       "      <td>9.0</td>\n",
       "      <td>6.0</td>\n",
       "      <td>3</td>\n",
       "      <td>3</td>\n",
       "      <td>0</td>\n",
       "    </tr>\n",
       "    <tr>\n",
       "      <th>1</th>\n",
       "      <td>5120</td>\n",
       "      <td>Combo Pack of 4 Casual Shoes Sneakers For Men ...</td>\n",
       "      <td>3.8</td>\n",
       "      <td>Men</td>\n",
       "      <td>Flipkart</td>\n",
       "      <td>999</td>\n",
       "      <td>1999</td>\n",
       "      <td>50.03%</td>\n",
       "      <td>531.0</td>\n",
       "      <td>69.0</td>\n",
       "      <td>264.0</td>\n",
       "      <td>92.0</td>\n",
       "      <td>73.0</td>\n",
       "      <td>29</td>\n",
       "      <td>73</td>\n",
       "      <td>1</td>\n",
       "    </tr>\n",
       "    <tr>\n",
       "      <th>2</th>\n",
       "      <td>18391</td>\n",
       "      <td>Cilia Mode Leo Sneakers For Women  (White)</td>\n",
       "      <td>4.4</td>\n",
       "      <td>Women</td>\n",
       "      <td>Flipkart</td>\n",
       "      <td>2749</td>\n",
       "      <td>4999</td>\n",
       "      <td>45.01%</td>\n",
       "      <td>17.0</td>\n",
       "      <td>4.0</td>\n",
       "      <td>11.0</td>\n",
       "      <td>3.0</td>\n",
       "      <td>2.0</td>\n",
       "      <td>1</td>\n",
       "      <td>0</td>\n",
       "      <td>1</td>\n",
       "    </tr>\n",
       "    <tr>\n",
       "      <th>3</th>\n",
       "      <td>495</td>\n",
       "      <td>Men Black Sports Sandal</td>\n",
       "      <td>4.2</td>\n",
       "      <td>Men</td>\n",
       "      <td>Flipkart</td>\n",
       "      <td>518</td>\n",
       "      <td>724</td>\n",
       "      <td>15.85%</td>\n",
       "      <td>46413.0</td>\n",
       "      <td>6229.0</td>\n",
       "      <td>1045.0</td>\n",
       "      <td>12416.0</td>\n",
       "      <td>5352.0</td>\n",
       "      <td>701</td>\n",
       "      <td>4595</td>\n",
       "      <td>1</td>\n",
       "    </tr>\n",
       "    <tr>\n",
       "      <th>4</th>\n",
       "      <td>16408</td>\n",
       "      <td>Men Green Sports Sandal</td>\n",
       "      <td>3.9</td>\n",
       "      <td>Men</td>\n",
       "      <td>Flipkart</td>\n",
       "      <td>1379</td>\n",
       "      <td>2299</td>\n",
       "      <td>40.02%</td>\n",
       "      <td>77.0</td>\n",
       "      <td>3.0</td>\n",
       "      <td>35.0</td>\n",
       "      <td>21.0</td>\n",
       "      <td>7.0</td>\n",
       "      <td>7</td>\n",
       "      <td>7</td>\n",
       "      <td>1</td>\n",
       "    </tr>\n",
       "    <tr>\n",
       "      <th>5</th>\n",
       "      <td>2692</td>\n",
       "      <td>Women Pink Flats Sandal</td>\n",
       "      <td>4.1</td>\n",
       "      <td>Women</td>\n",
       "      <td>Flipkart</td>\n",
       "      <td>359</td>\n",
       "      <td>499</td>\n",
       "      <td>28.06%</td>\n",
       "      <td>274.0</td>\n",
       "      <td>25.0</td>\n",
       "      <td>153.0</td>\n",
       "      <td>49.0</td>\n",
       "      <td>34.0</td>\n",
       "      <td>15</td>\n",
       "      <td>23</td>\n",
       "      <td>0</td>\n",
       "    </tr>\n",
       "    <tr>\n",
       "      <th>6</th>\n",
       "      <td>3236</td>\n",
       "      <td>Women Navy Heels Sandal</td>\n",
       "      <td>4.0</td>\n",
       "      <td>Women</td>\n",
       "      <td>Flipkart</td>\n",
       "      <td>499</td>\n",
       "      <td>999</td>\n",
       "      <td>50.05%</td>\n",
       "      <td>249.0</td>\n",
       "      <td>31.0</td>\n",
       "      <td>130.0</td>\n",
       "      <td>52.0</td>\n",
       "      <td>27.0</td>\n",
       "      <td>9</td>\n",
       "      <td>28</td>\n",
       "      <td>1</td>\n",
       "    </tr>\n",
       "    <tr>\n",
       "      <th>7</th>\n",
       "      <td>14633</td>\n",
       "      <td>Women Blue Wedges Sandal</td>\n",
       "      <td>3.9</td>\n",
       "      <td>Women</td>\n",
       "      <td>Flipkart</td>\n",
       "      <td>209</td>\n",
       "      <td>1299</td>\n",
       "      <td>83.91%</td>\n",
       "      <td>121.0</td>\n",
       "      <td>17.0</td>\n",
       "      <td>63.0</td>\n",
       "      <td>25.0</td>\n",
       "      <td>14.0</td>\n",
       "      <td>9</td>\n",
       "      <td>12</td>\n",
       "      <td>0</td>\n",
       "    </tr>\n",
       "    <tr>\n",
       "      <th>8</th>\n",
       "      <td>1872</td>\n",
       "      <td>Sneakers For Women  (Pink)</td>\n",
       "      <td>4.2</td>\n",
       "      <td>Women</td>\n",
       "      <td>Flipkart</td>\n",
       "      <td>549</td>\n",
       "      <td>999</td>\n",
       "      <td>45.05%</td>\n",
       "      <td>191.0</td>\n",
       "      <td>30.0</td>\n",
       "      <td>120.0</td>\n",
       "      <td>25.0</td>\n",
       "      <td>31.0</td>\n",
       "      <td>7</td>\n",
       "      <td>12</td>\n",
       "      <td>1</td>\n",
       "    </tr>\n",
       "    <tr>\n",
       "      <th>9</th>\n",
       "      <td>1668</td>\n",
       "      <td>Men Black, Beige Sandal</td>\n",
       "      <td>4.1</td>\n",
       "      <td>Men</td>\n",
       "      <td>Flipkart</td>\n",
       "      <td>809</td>\n",
       "      <td>899</td>\n",
       "      <td>10.01%</td>\n",
       "      <td>36126.0</td>\n",
       "      <td>5028.0</td>\n",
       "      <td>18688.0</td>\n",
       "      <td>9899.0</td>\n",
       "      <td>3709.0</td>\n",
       "      <td>1272</td>\n",
       "      <td>2558</td>\n",
       "      <td>0</td>\n",
       "    </tr>\n",
       "  </tbody>\n",
       "</table>\n",
       "</div>"
      ],
      "text/plain": [
       "      id                                              title  Rating maincateg  \\\n",
       "0  16695  Fashionable & Comfortable Bellies For Women  (...     3.9     Women   \n",
       "1   5120  Combo Pack of 4 Casual Shoes Sneakers For Men ...     3.8       Men   \n",
       "2  18391         Cilia Mode Leo Sneakers For Women  (White)     4.4     Women   \n",
       "3    495                            Men Black Sports Sandal     4.2       Men   \n",
       "4  16408                            Men Green Sports Sandal     3.9       Men   \n",
       "5   2692                            Women Pink Flats Sandal     4.1     Women   \n",
       "6   3236                            Women Navy Heels Sandal     4.0     Women   \n",
       "7  14633                           Women Blue Wedges Sandal     3.9     Women   \n",
       "8   1872                         Sneakers For Women  (Pink)     4.2     Women   \n",
       "9   1668                            Men Black, Beige Sandal     4.1       Men   \n",
       "\n",
       "   platform  price1  actprice1 Offer %  norating1  noreviews1  star_5f  \\\n",
       "0  Flipkart     698        999  30.13%       38.0         7.0     17.0   \n",
       "1  Flipkart     999       1999  50.03%      531.0        69.0    264.0   \n",
       "2  Flipkart    2749       4999  45.01%       17.0         4.0     11.0   \n",
       "3  Flipkart     518        724  15.85%    46413.0      6229.0   1045.0   \n",
       "4  Flipkart    1379       2299  40.02%       77.0         3.0     35.0   \n",
       "5  Flipkart     359        499  28.06%      274.0        25.0    153.0   \n",
       "6  Flipkart     499        999  50.05%      249.0        31.0    130.0   \n",
       "7  Flipkart     209       1299  83.91%      121.0        17.0     63.0   \n",
       "8  Flipkart     549        999  45.05%      191.0        30.0    120.0   \n",
       "9  Flipkart     809        899  10.01%    36126.0      5028.0  18688.0   \n",
       "\n",
       "   star_4f  star_3f  star_2f  star_1f  fulfilled1  \n",
       "0      9.0      6.0        3        3           0  \n",
       "1     92.0     73.0       29       73           1  \n",
       "2      3.0      2.0        1        0           1  \n",
       "3  12416.0   5352.0      701     4595           1  \n",
       "4     21.0      7.0        7        7           1  \n",
       "5     49.0     34.0       15       23           0  \n",
       "6     52.0     27.0        9       28           1  \n",
       "7     25.0     14.0        9       12           0  \n",
       "8     25.0     31.0        7       12           1  \n",
       "9   9899.0   3709.0     1272     2558           0  "
      ]
     },
     "execution_count": 4,
     "metadata": {},
     "output_type": "execute_result"
    }
   ],
   "source": [
    "df_train.head(5)"
   ]
  },
  {
   "cell_type": "markdown",
   "metadata": {},
   "source": [
    "- Renaming the columns name"
   ]
  },
  {
   "cell_type": "code",
   "execution_count": 5,
   "metadata": {},
   "outputs": [],
   "source": [
    "col = ['id', 'title', 'rating', 'main_category', 'platform', 'final_price', 'actual_price',\n",
    "       'offer_per', 'norating', 'noreviews', 'five_star', 'four_star', 'three_star',\n",
    "       'two_star', 'one_star', 'fulfilled']\n",
    "df_train.columns = col"
   ]
  },
  {
   "cell_type": "code",
   "execution_count": 6,
   "metadata": {},
   "outputs": [],
   "source": [
    "col = ['id', 'title', 'rating', 'main_category', 'platform', 'actual_price',\n",
    "       'norating', 'noreviews', 'five_star', 'four_star', 'three_star', 'two_star',\n",
    "       'one_star', 'fulfilled']\n",
    "df_test.columns = col"
   ]
  },
  {
   "cell_type": "markdown",
   "metadata": {},
   "source": [
    "## Cleaning the data"
   ]
  },
  {
   "cell_type": "markdown",
   "metadata": {},
   "source": [
    "- Removing the % symbol from the offer_per feature and converting it to float"
   ]
  },
  {
   "cell_type": "code",
   "execution_count": 7,
   "metadata": {},
   "outputs": [],
   "source": [
    "df_train['offer_per'] =df_train.offer_per.apply(lambda x: x.replace('%', '')).astype(float)"
   ]
  },
  {
   "cell_type": "code",
   "execution_count": 8,
   "metadata": {},
   "outputs": [
    {
     "name": "stdout",
     "output_type": "stream",
     "text": [
      "<class 'pandas.core.frame.DataFrame'>\n",
      "RangeIndex: 15730 entries, 0 to 15729\n",
      "Data columns (total 16 columns):\n",
      " #   Column         Non-Null Count  Dtype  \n",
      "---  ------         --------------  -----  \n",
      " 0   id             15730 non-null  int64  \n",
      " 1   title          15730 non-null  object \n",
      " 2   rating         15730 non-null  float64\n",
      " 3   main_category  15204 non-null  object \n",
      " 4   platform       15730 non-null  object \n",
      " 5   final_price    15730 non-null  int64  \n",
      " 6   actual_price   15730 non-null  int64  \n",
      " 7   offer_per      15730 non-null  float64\n",
      " 8   norating       15052 non-null  float64\n",
      " 9   noreviews      15152 non-null  float64\n",
      " 10  five_star      15142 non-null  float64\n",
      " 11  four_star      15191 non-null  float64\n",
      " 12  three_star     15499 non-null  float64\n",
      " 13  two_star       15730 non-null  int64  \n",
      " 14  one_star       15730 non-null  int64  \n",
      " 15  fulfilled      15730 non-null  int64  \n",
      "dtypes: float64(7), int64(6), object(3)\n",
      "memory usage: 1.9+ MB\n"
     ]
    }
   ],
   "source": [
    "df_train.info()"
   ]
  },
  {
   "cell_type": "code",
   "execution_count": 9,
   "metadata": {},
   "outputs": [
    {
     "data": {
      "text/plain": [
       "id                 0\n",
       "title              0\n",
       "rating             0\n",
       "main_category    526\n",
       "platform           0\n",
       "final_price        0\n",
       "actual_price       0\n",
       "offer_per          0\n",
       "norating         678\n",
       "noreviews        578\n",
       "five_star        588\n",
       "four_star        539\n",
       "three_star       231\n",
       "two_star           0\n",
       "one_star           0\n",
       "fulfilled          0\n",
       "dtype: int64"
      ]
     },
     "execution_count": 9,
     "metadata": {},
     "output_type": "execute_result"
    }
   ],
   "source": [
    "df_train.isna().sum()"
   ]
  },
  {
   "cell_type": "code",
   "execution_count": 10,
   "metadata": {},
   "outputs": [
    {
     "data": {
      "text/plain": [
       "id                 0\n",
       "title              0\n",
       "rating           203\n",
       "main_category     67\n",
       "platform           0\n",
       "actual_price       0\n",
       "norating           0\n",
       "noreviews          0\n",
       "five_star         68\n",
       "four_star          0\n",
       "three_star         0\n",
       "two_star           0\n",
       "one_star         186\n",
       "fulfilled          0\n",
       "dtype: int64"
      ]
     },
     "execution_count": 10,
     "metadata": {},
     "output_type": "execute_result"
    }
   ],
   "source": [
    "df_test.isna().sum()"
   ]
  },
  {
   "cell_type": "markdown",
   "metadata": {},
   "source": [
    "- Both test and train data have missing values."
   ]
  },
  {
   "cell_type": "markdown",
   "metadata": {},
   "source": [
    "### Maincategory"
   ]
  },
  {
   "cell_type": "markdown",
   "metadata": {},
   "source": [
    "Collecting the Keywords ('Men and Women') from the title "
   ]
  },
  {
   "cell_type": "code",
   "execution_count": 11,
   "metadata": {},
   "outputs": [],
   "source": [
    "def get_keword(title):\n",
    "    if ( \"women\"  in title.lower() ) or ( \"girl\"  in title.lower() ): # Checking Women first as Men word is present in Women\n",
    "        return \"Women\"\n",
    "    elif ( \"men\"  in title.lower() ) or ( \"boy\"  in title.lower() ):\n",
    "        return \"Men\"\n",
    "    else:  #if Neither Men nor Women is in main_category then returning Other\n",
    "        return 'Other'"
   ]
  },
  {
   "cell_type": "code",
   "execution_count": 12,
   "metadata": {},
   "outputs": [
    {
     "data": {
      "text/plain": [
       "(array(['Men', 'Other', 'Women'], dtype='<U5'), array([5851, 1590, 8289]))"
      ]
     },
     "execution_count": 12,
     "metadata": {},
     "output_type": "execute_result"
    }
   ],
   "source": [
    "np.unique(np.vectorize(get_keword)(df_train['title']), return_counts=True)"
   ]
  },
  {
   "cell_type": "code",
   "execution_count": 13,
   "metadata": {},
   "outputs": [],
   "source": [
    "def main_category(cat,title_):\n",
    "    if pd.notna(cat):\n",
    "        return cat\n",
    "    elif pd.isna(cat):  # Replacing the main_category with the keyword only if it is Nan type\n",
    "        return get_keword(title_)  "
   ]
  },
  {
   "cell_type": "code",
   "execution_count": 14,
   "metadata": {},
   "outputs": [
    {
     "data": {
      "text/plain": [
       "(array(['Men', 'Other', 'Women'], dtype='<U5'), array([6615,   56, 9059]))"
      ]
     },
     "execution_count": 14,
     "metadata": {},
     "output_type": "execute_result"
    }
   ],
   "source": [
    "np.unique(np.vectorize(main_category)(df_train['main_category'],df_train['title']), return_counts=True)"
   ]
  },
  {
   "cell_type": "markdown",
   "metadata": {},
   "source": [
    "- As we see that after applying this only 56  'nan' main_category will remain left names as 'Other' hence going for this"
   ]
  },
  {
   "cell_type": "code",
   "execution_count": 15,
   "metadata": {},
   "outputs": [],
   "source": [
    "df_train['main_category'] = np.vectorize(main_category)(df_train['main_category'],df_train['title'])"
   ]
  },
  {
   "cell_type": "markdown",
   "metadata": {},
   "source": [
    "- Applying the same for test dataset"
   ]
  },
  {
   "cell_type": "code",
   "execution_count": 16,
   "metadata": {},
   "outputs": [
    {
     "data": {
      "text/plain": [
       "(array(['Men', 'Other', 'Women'], dtype='<U5'), array([2169,    7, 3068]))"
      ]
     },
     "execution_count": 16,
     "metadata": {},
     "output_type": "execute_result"
    }
   ],
   "source": [
    "np.unique(np.vectorize(main_category)(df_test['main_category'],df_test['title']), return_counts=True)"
   ]
  },
  {
   "cell_type": "code",
   "execution_count": 17,
   "metadata": {},
   "outputs": [],
   "source": [
    "df_test['main_category'] = np.vectorize(main_category)(df_test['main_category'],df_test['title'])"
   ]
  },
  {
   "cell_type": "code",
   "execution_count": 18,
   "metadata": {},
   "outputs": [
    {
     "data": {
      "text/plain": [
       "(0.0, 60.0)"
      ]
     },
     "execution_count": 18,
     "metadata": {},
     "output_type": "execute_result"
    },
    {
     "data": {
      "image/png": "[encoded data removed]",
      "text/plain": [
       "<Figure size 1152x432 with 2 Axes>"
      ]
     },
     "metadata": {
      "needs_background": "light"
     },
     "output_type": "display_data"
    }
   ],
   "source": [
    "fig, ax = plt.subplots(figsize=(16,6), ncols=2)\n",
    "sns.countplot(x='platform', data=df_train,hue='main_category', ax=ax[0])\n",
    "sns.countplot(x='platform', data=df_train,hue='main_category', ax=ax[1])\n",
    "plt.ylim(0,60)"
   ]
  },
  {
   "cell_type": "markdown",
   "metadata": {},
   "source": [
    "- Found That very few products are sold on Amazon"
   ]
  },
  {
   "cell_type": "code",
   "execution_count": 19,
   "metadata": {},
   "outputs": [
    {
     "data": {
      "text/plain": [
       "<AxesSubplot:xlabel='main_category', ylabel='offer_per'>"
      ]
     },
     "execution_count": 19,
     "metadata": {},
     "output_type": "execute_result"
    },
    {
     "data": {
      "image/png": "[encoded data removed]",
      "text/plain": [
       "<Figure size 432x288 with 1 Axes>"
      ]
     },
     "metadata": {
      "needs_background": "light"
     },
     "output_type": "display_data"
    }
   ],
   "source": [
    "sns.boxplot(x='main_category', y='offer_per', data=df_train,hue='platform')"
   ]
  },
  {
   "cell_type": "markdown",
   "metadata": {},
   "source": [
    "- No pattern is found in the above analysis,\n",
    "let's see if we can find anything in the data"
   ]
  },
  {
   "cell_type": "markdown",
   "metadata": {},
   "source": [
    "- Found that there are few keywords used in the title of the products"
   ]
  },
  {
   "cell_type": "code",
   "execution_count": 20,
   "metadata": {},
   "outputs": [
    {
     "data": {
      "text/plain": [
       "Men      330\n",
       "Women    248\n",
       "Other     17\n",
       "Name: main_category, dtype: int64"
      ]
     },
     "execution_count": 20,
     "metadata": {},
     "output_type": "execute_result"
    }
   ],
   "source": [
    "df_train[df_train.apply(lambda x:True if 'Slides' in x['title'] else False, axis=1)]['main_category'].value_counts()"
   ]
  },
  {
   "cell_type": "code",
   "execution_count": 21,
   "metadata": {},
   "outputs": [
    {
     "data": {
      "text/plain": [
       "Women    355\n",
       "Men      266\n",
       "Other     18\n",
       "Name: main_category, dtype: int64"
      ]
     },
     "execution_count": 21,
     "metadata": {},
     "output_type": "execute_result"
    }
   ],
   "source": [
    "df_train[df_train.apply(lambda x:True if 'Slippers' in x['title'] else False, axis=1)]['main_category'].value_counts()"
   ]
  },
  {
   "cell_type": "code",
   "execution_count": 22,
   "metadata": {},
   "outputs": [
    {
     "data": {
      "text/plain": [
       "Women    436\n",
       "Men      410\n",
       "Other     18\n",
       "Name: main_category, dtype: int64"
      ]
     },
     "execution_count": 22,
     "metadata": {},
     "output_type": "execute_result"
    }
   ],
   "source": [
    "df_train[df_train.apply(lambda x:True if 'Flip Flop' in x['title'] else False, axis=1)]['main_category'].value_counts()"
   ]
  },
  {
   "cell_type": "code",
   "execution_count": 23,
   "metadata": {},
   "outputs": [
    {
     "data": {
      "text/plain": [
       "Women    3\n",
       "Other    1\n",
       "Name: main_category, dtype: int64"
      ]
     },
     "execution_count": 23,
     "metadata": {},
     "output_type": "execute_result"
    }
   ],
   "source": [
    "df_train[df_train.apply(lambda x:True if 'Gliders' in x['title'] else False, axis=1)]['main_category'].value_counts()"
   ]
  },
  {
   "cell_type": "markdown",
   "metadata": {},
   "source": [
    "- from above we can fill the main_category by the mode of the main_category in the train dataset on the basis of the keywords in the title like ('Slippers' , 'Slides' , 'Flip Flop')"
   ]
  },
  {
   "cell_type": "code",
   "execution_count": 24,
   "metadata": {},
   "outputs": [],
   "source": [
    "def find_mode(word):\n",
    "    return df_train[df_train.apply(lambda x:True if word in x['title'] else False, axis=1)]['main_category'].mode()[0]\n",
    "\n",
    "def replace_by_other_keywords(cat, title):\n",
    "    if cat == \"Other\":\n",
    "        \n",
    "        if 'Slippers' in title:\n",
    "            return find_mode('Slippers')\n",
    "        elif 'Flip Flop' in title:\n",
    "            return find_mode('Flip Flop')\n",
    "        elif 'Gliders' in title:\n",
    "            return find_mode('Gliders')\n",
    "        elif 'Slides' in title:\n",
    "            return find_mode('Slides')\n",
    "        else:\n",
    "            return cat\n",
    "    else:\n",
    "        return cat"
   ]
  },
  {
   "cell_type": "code",
   "execution_count": 25,
   "metadata": {},
   "outputs": [],
   "source": [
    "df_train['main_category'] = np.vectorize(replace_by_other_keywords)(df_train['main_category'],df_train['title'])"
   ]
  },
  {
   "cell_type": "code",
   "execution_count": 26,
   "metadata": {},
   "outputs": [
    {
     "data": {
      "text/plain": [
       "Women    9096\n",
       "Men      6632\n",
       "Other       2\n",
       "Name: main_category, dtype: int64"
      ]
     },
     "execution_count": 26,
     "metadata": {},
     "output_type": "execute_result"
    }
   ],
   "source": [
    "df_train['main_category'].value_counts()"
   ]
  },
  {
   "cell_type": "code",
   "execution_count": 27,
   "metadata": {},
   "outputs": [],
   "source": [
    "df_test['main_category'] = np.vectorize(replace_by_other_keywords)(df_test['main_category'],df_test['title'])"
   ]
  },
  {
   "cell_type": "code",
   "execution_count": 28,
   "metadata": {},
   "outputs": [
    {
     "data": {
      "text/plain": [
       "Women    3073\n",
       "Men      2171\n",
       "Name: main_category, dtype: int64"
      ]
     },
     "execution_count": 28,
     "metadata": {},
     "output_type": "execute_result"
    }
   ],
   "source": [
    "df_test['main_category'].value_counts()"
   ]
  },
  {
   "cell_type": "markdown",
   "metadata": {},
   "source": [
    "- As of now we hve filled almost all the missing values in the main_category column , except 2 left in trainingset, let's see them in detail"
   ]
  },
  {
   "cell_type": "code",
   "execution_count": 29,
   "metadata": {},
   "outputs": [
    {
     "data": {
      "text/html": [
       "<div>\n",
       "<style scoped>\n",
       "    .dataframe tbody tr th:only-of-type {\n",
       "        vertical-align: middle;\n",
       "    }\n",
       "\n",
       "    .dataframe tbody tr th {\n",
       "        vertical-align: top;\n",
       "    }\n",
       "\n",
       "    .dataframe thead th {\n",
       "        text-align: right;\n",
       "    }\n",
       "</style>\n",
       "<table border=\"1\" class=\"dataframe\">\n",
       "  <thead>\n",
       "    <tr style=\"text-align: right;\">\n",
       "      <th></th>\n",
       "      <th>id</th>\n",
       "      <th>title</th>\n",
       "      <th>rating</th>\n",
       "      <th>main_category</th>\n",
       "      <th>platform</th>\n",
       "      <th>final_price</th>\n",
       "      <th>actual_price</th>\n",
       "      <th>offer_per</th>\n",
       "      <th>norating</th>\n",
       "      <th>noreviews</th>\n",
       "      <th>five_star</th>\n",
       "      <th>four_star</th>\n",
       "      <th>three_star</th>\n",
       "      <th>two_star</th>\n",
       "      <th>one_star</th>\n",
       "      <th>fulfilled</th>\n",
       "    </tr>\n",
       "  </thead>\n",
       "  <tbody>\n",
       "    <tr>\n",
       "      <th>5885</th>\n",
       "      <td>17515</td>\n",
       "      <td>crocs Unisex's Classic Clogs</td>\n",
       "      <td>4.3</td>\n",
       "      <td>Other</td>\n",
       "      <td>Amazon</td>\n",
       "      <td>1494</td>\n",
       "      <td>2495</td>\n",
       "      <td>40.12</td>\n",
       "      <td>NaN</td>\n",
       "      <td>NaN</td>\n",
       "      <td>NaN</td>\n",
       "      <td>NaN</td>\n",
       "      <td>NaN</td>\n",
       "      <td>23</td>\n",
       "      <td>62</td>\n",
       "      <td>0</td>\n",
       "    </tr>\n",
       "    <tr>\n",
       "      <th>10461</th>\n",
       "      <td>9108</td>\n",
       "      <td>ASIAN Captain-12 Latest Casual Sneakers,Lace u...</td>\n",
       "      <td>3.7</td>\n",
       "      <td>Other</td>\n",
       "      <td>Amazon</td>\n",
       "      <td>599</td>\n",
       "      <td>674</td>\n",
       "      <td>11.13</td>\n",
       "      <td>NaN</td>\n",
       "      <td>NaN</td>\n",
       "      <td>NaN</td>\n",
       "      <td>NaN</td>\n",
       "      <td>12.0</td>\n",
       "      <td>34</td>\n",
       "      <td>32</td>\n",
       "      <td>1</td>\n",
       "    </tr>\n",
       "  </tbody>\n",
       "</table>\n",
       "</div>"
      ],
      "text/plain": [
       "          id                                              title  rating  \\\n",
       "5885   17515                       crocs Unisex's Classic Clogs     4.3   \n",
       "10461   9108  ASIAN Captain-12 Latest Casual Sneakers,Lace u...     3.7   \n",
       "\n",
       "      main_category platform  final_price  actual_price  offer_per  norating  \\\n",
       "5885          Other   Amazon         1494          2495      40.12       NaN   \n",
       "10461         Other   Amazon          599           674      11.13       NaN   \n",
       "\n",
       "       noreviews  five_star  four_star  three_star  two_star  one_star  \\\n",
       "5885         NaN        NaN        NaN         NaN        23        62   \n",
       "10461        NaN        NaN        NaN        12.0        34        32   \n",
       "\n",
       "       fulfilled  \n",
       "5885           0  \n",
       "10461          1  "
      ]
     },
     "execution_count": 29,
     "metadata": {},
     "output_type": "execute_result"
    }
   ],
   "source": [
    "df_train[df_train['main_category'] == 'Other']"
   ]
  },
  {
   "cell_type": "markdown",
   "metadata": {},
   "source": [
    "- As both of them are likely to be a Unisex Product and most of the values are missing in both of them , we don't have any such product in Test dataset, hence Dopping them"
   ]
  },
  {
   "cell_type": "code",
   "execution_count": 30,
   "metadata": {},
   "outputs": [],
   "source": [
    "df_train = df_train.drop(index=[5885,10461])"
   ]
  },
  {
   "cell_type": "markdown",
   "metadata": {},
   "source": [
    "- Hence it's done with the main_category column let's move to another column"
   ]
  },
  {
   "cell_type": "markdown",
   "metadata": {},
   "source": [
    "### one_star / two_star / three_star / four_star / five_star"
   ]
  },
  {
   "cell_type": "markdown",
   "metadata": {},
   "source": [
    "- Rows where all the stars values are zero but rating and no. of rating is non zero"
   ]
  },
  {
   "cell_type": "code",
   "execution_count": 31,
   "metadata": {},
   "outputs": [
    {
     "data": {
      "text/html": [
       "<div>\n",
       "<style scoped>\n",
       "    .dataframe tbody tr th:only-of-type {\n",
       "        vertical-align: middle;\n",
       "    }\n",
       "\n",
       "    .dataframe tbody tr th {\n",
       "        vertical-align: top;\n",
       "    }\n",
       "\n",
       "    .dataframe thead th {\n",
       "        text-align: right;\n",
       "    }\n",
       "</style>\n",
       "<table border=\"1\" class=\"dataframe\">\n",
       "  <thead>\n",
       "    <tr style=\"text-align: right;\">\n",
       "      <th></th>\n",
       "      <th>id</th>\n",
       "      <th>title</th>\n",
       "      <th>rating</th>\n",
       "      <th>main_category</th>\n",
       "      <th>platform</th>\n",
       "      <th>final_price</th>\n",
       "      <th>actual_price</th>\n",
       "      <th>offer_per</th>\n",
       "      <th>norating</th>\n",
       "      <th>noreviews</th>\n",
       "      <th>five_star</th>\n",
       "      <th>four_star</th>\n",
       "      <th>three_star</th>\n",
       "      <th>two_star</th>\n",
       "      <th>one_star</th>\n",
       "      <th>fulfilled</th>\n",
       "    </tr>\n",
       "  </thead>\n",
       "  <tbody>\n",
       "    <tr>\n",
       "      <th>1197</th>\n",
       "      <td>1099</td>\n",
       "      <td>DOCTOR EXTRA SOFT Ortho Care Diabetic Orthopae...</td>\n",
       "      <td>4.0</td>\n",
       "      <td>Men</td>\n",
       "      <td>Flipkart</td>\n",
       "      <td>499</td>\n",
       "      <td>799</td>\n",
       "      <td>37.55</td>\n",
       "      <td>3046.0</td>\n",
       "      <td>425.0</td>\n",
       "      <td>0.0</td>\n",
       "      <td>0.0</td>\n",
       "      <td>0.0</td>\n",
       "      <td>0</td>\n",
       "      <td>0</td>\n",
       "      <td>1</td>\n",
       "    </tr>\n",
       "    <tr>\n",
       "      <th>1413</th>\n",
       "      <td>12126</td>\n",
       "      <td>Jutis For Men  (Tan)</td>\n",
       "      <td>4.3</td>\n",
       "      <td>Men</td>\n",
       "      <td>Flipkart</td>\n",
       "      <td>1530</td>\n",
       "      <td>1699</td>\n",
       "      <td>9.95</td>\n",
       "      <td>22.0</td>\n",
       "      <td>5.0</td>\n",
       "      <td>0.0</td>\n",
       "      <td>0.0</td>\n",
       "      <td>0.0</td>\n",
       "      <td>0</td>\n",
       "      <td>0</td>\n",
       "      <td>0</td>\n",
       "    </tr>\n",
       "  </tbody>\n",
       "</table>\n",
       "</div>"
      ],
      "text/plain": [
       "         id                                              title  rating  \\\n",
       "1197   1099  DOCTOR EXTRA SOFT Ortho Care Diabetic Orthopae...     4.0   \n",
       "1413  12126                               Jutis For Men  (Tan)     4.3   \n",
       "\n",
       "     main_category  platform  final_price  actual_price  offer_per  norating  \\\n",
       "1197           Men  Flipkart          499           799      37.55    3046.0   \n",
       "1413           Men  Flipkart         1530          1699       9.95      22.0   \n",
       "\n",
       "      noreviews  five_star  four_star  three_star  two_star  one_star  \\\n",
       "1197      425.0        0.0        0.0         0.0         0         0   \n",
       "1413        5.0        0.0        0.0         0.0         0         0   \n",
       "\n",
       "      fulfilled  \n",
       "1197          1  \n",
       "1413          0  "
      ]
     },
     "execution_count": 31,
     "metadata": {},
     "output_type": "execute_result"
    }
   ],
   "source": [
    "df_train[(df_train['five_star']==0) & (df_train['four_star']==0) & (df_train['three_star']==0) & (df_train['two_star']==0) & (df_train['one_star']==0)].head(2)"
   ]
  },
  {
   "cell_type": "code",
   "execution_count": 32,
   "metadata": {},
   "outputs": [
    {
     "data": {
      "text/html": [
       "<div>\n",
       "<style scoped>\n",
       "    .dataframe tbody tr th:only-of-type {\n",
       "        vertical-align: middle;\n",
       "    }\n",
       "\n",
       "    .dataframe tbody tr th {\n",
       "        vertical-align: top;\n",
       "    }\n",
       "\n",
       "    .dataframe thead th {\n",
       "        text-align: right;\n",
       "    }\n",
       "</style>\n",
       "<table border=\"1\" class=\"dataframe\">\n",
       "  <thead>\n",
       "    <tr style=\"text-align: right;\">\n",
       "      <th></th>\n",
       "      <th>id</th>\n",
       "      <th>title</th>\n",
       "      <th>rating</th>\n",
       "      <th>main_category</th>\n",
       "      <th>platform</th>\n",
       "      <th>actual_price</th>\n",
       "      <th>norating</th>\n",
       "      <th>noreviews</th>\n",
       "      <th>five_star</th>\n",
       "      <th>four_star</th>\n",
       "      <th>three_star</th>\n",
       "      <th>two_star</th>\n",
       "      <th>one_star</th>\n",
       "      <th>fulfilled</th>\n",
       "    </tr>\n",
       "  </thead>\n",
       "  <tbody>\n",
       "    <tr>\n",
       "      <th>161</th>\n",
       "      <td>11131</td>\n",
       "      <td>Stylish and Comfortable Shoes For Man | Casual...</td>\n",
       "      <td>4.2</td>\n",
       "      <td>Men</td>\n",
       "      <td>Flipkart</td>\n",
       "      <td>999</td>\n",
       "      <td>416</td>\n",
       "      <td>56</td>\n",
       "      <td>0.0</td>\n",
       "      <td>0</td>\n",
       "      <td>0</td>\n",
       "      <td>0</td>\n",
       "      <td>0.0</td>\n",
       "      <td>0</td>\n",
       "    </tr>\n",
       "    <tr>\n",
       "      <th>165</th>\n",
       "      <td>14464</td>\n",
       "      <td>Slip On For Men  (Black)</td>\n",
       "      <td>4.3</td>\n",
       "      <td>Men</td>\n",
       "      <td>Flipkart</td>\n",
       "      <td>799</td>\n",
       "      <td>382</td>\n",
       "      <td>55</td>\n",
       "      <td>0.0</td>\n",
       "      <td>0</td>\n",
       "      <td>0</td>\n",
       "      <td>0</td>\n",
       "      <td>0.0</td>\n",
       "      <td>0</td>\n",
       "    </tr>\n",
       "  </tbody>\n",
       "</table>\n",
       "</div>"
      ],
      "text/plain": [
       "        id                                              title  rating  \\\n",
       "161  11131  Stylish and Comfortable Shoes For Man | Casual...     4.2   \n",
       "165  14464                           Slip On For Men  (Black)     4.3   \n",
       "\n",
       "    main_category  platform  actual_price  norating  noreviews  five_star  \\\n",
       "161           Men  Flipkart           999       416         56        0.0   \n",
       "165           Men  Flipkart           799       382         55        0.0   \n",
       "\n",
       "     four_star  three_star  two_star  one_star  fulfilled  \n",
       "161          0           0         0       0.0          0  \n",
       "165          0           0         0       0.0          0  "
      ]
     },
     "execution_count": 32,
     "metadata": {},
     "output_type": "execute_result"
    }
   ],
   "source": [
    "df_test[(df_test['five_star']==0) & (df_test['four_star']==0) & (df_test['three_star']==0) & (df_test['two_star']==0) & (df_test['one_star']==0)].head(2)"
   ]
  },
  {
   "cell_type": "code",
   "execution_count": 33,
   "metadata": {},
   "outputs": [
    {
     "data": {
      "text/html": [
       "<div>\n",
       "<style scoped>\n",
       "    .dataframe tbody tr th:only-of-type {\n",
       "        vertical-align: middle;\n",
       "    }\n",
       "\n",
       "    .dataframe tbody tr th {\n",
       "        vertical-align: top;\n",
       "    }\n",
       "\n",
       "    .dataframe thead th {\n",
       "        text-align: right;\n",
       "    }\n",
       "</style>\n",
       "<table border=\"1\" class=\"dataframe\">\n",
       "  <thead>\n",
       "    <tr style=\"text-align: right;\">\n",
       "      <th></th>\n",
       "      <th>id</th>\n",
       "      <th>rating</th>\n",
       "      <th>actual_price</th>\n",
       "      <th>norating</th>\n",
       "      <th>noreviews</th>\n",
       "      <th>five_star</th>\n",
       "      <th>four_star</th>\n",
       "      <th>three_star</th>\n",
       "      <th>two_star</th>\n",
       "      <th>one_star</th>\n",
       "      <th>fulfilled</th>\n",
       "    </tr>\n",
       "  </thead>\n",
       "  <tbody>\n",
       "    <tr>\n",
       "      <th>count</th>\n",
       "      <td>4391.000000</td>\n",
       "      <td>4391.000000</td>\n",
       "      <td>4391.000000</td>\n",
       "      <td>4391.000000</td>\n",
       "      <td>4391.000000</td>\n",
       "      <td>4374.000000</td>\n",
       "      <td>4391.000000</td>\n",
       "      <td>4391.000000</td>\n",
       "      <td>4391.000000</td>\n",
       "      <td>4357.000000</td>\n",
       "      <td>4391.000000</td>\n",
       "    </tr>\n",
       "    <tr>\n",
       "      <th>mean</th>\n",
       "      <td>10438.913459</td>\n",
       "      <td>3.995058</td>\n",
       "      <td>1300.737190</td>\n",
       "      <td>3382.058529</td>\n",
       "      <td>469.059895</td>\n",
       "      <td>1762.908779</td>\n",
       "      <td>723.884992</td>\n",
       "      <td>404.123434</td>\n",
       "      <td>175.257117</td>\n",
       "      <td>311.663759</td>\n",
       "      <td>0.629242</td>\n",
       "    </tr>\n",
       "    <tr>\n",
       "      <th>std</th>\n",
       "      <td>6006.102257</td>\n",
       "      <td>0.232890</td>\n",
       "      <td>1145.278016</td>\n",
       "      <td>13223.281129</td>\n",
       "      <td>1952.454435</td>\n",
       "      <td>6739.075068</td>\n",
       "      <td>3052.302524</td>\n",
       "      <td>1685.641259</td>\n",
       "      <td>632.006441</td>\n",
       "      <td>1109.351599</td>\n",
       "      <td>0.483063</td>\n",
       "    </tr>\n",
       "    <tr>\n",
       "      <th>min</th>\n",
       "      <td>0.000000</td>\n",
       "      <td>2.800000</td>\n",
       "      <td>162.000000</td>\n",
       "      <td>1.000000</td>\n",
       "      <td>0.000000</td>\n",
       "      <td>1.000000</td>\n",
       "      <td>1.000000</td>\n",
       "      <td>1.000000</td>\n",
       "      <td>1.000000</td>\n",
       "      <td>1.000000</td>\n",
       "      <td>0.000000</td>\n",
       "    </tr>\n",
       "    <tr>\n",
       "      <th>25%</th>\n",
       "      <td>5212.500000</td>\n",
       "      <td>3.900000</td>\n",
       "      <td>699.000000</td>\n",
       "      <td>122.500000</td>\n",
       "      <td>17.000000</td>\n",
       "      <td>60.000000</td>\n",
       "      <td>24.000000</td>\n",
       "      <td>13.000000</td>\n",
       "      <td>7.000000</td>\n",
       "      <td>11.000000</td>\n",
       "      <td>0.000000</td>\n",
       "    </tr>\n",
       "    <tr>\n",
       "      <th>50%</th>\n",
       "      <td>10518.000000</td>\n",
       "      <td>4.000000</td>\n",
       "      <td>999.000000</td>\n",
       "      <td>430.000000</td>\n",
       "      <td>59.000000</td>\n",
       "      <td>220.000000</td>\n",
       "      <td>87.000000</td>\n",
       "      <td>49.000000</td>\n",
       "      <td>22.000000</td>\n",
       "      <td>41.000000</td>\n",
       "      <td>1.000000</td>\n",
       "    </tr>\n",
       "    <tr>\n",
       "      <th>75%</th>\n",
       "      <td>15582.500000</td>\n",
       "      <td>4.200000</td>\n",
       "      <td>1299.000000</td>\n",
       "      <td>1938.000000</td>\n",
       "      <td>276.500000</td>\n",
       "      <td>1011.750000</td>\n",
       "      <td>397.500000</td>\n",
       "      <td>217.500000</td>\n",
       "      <td>97.000000</td>\n",
       "      <td>167.000000</td>\n",
       "      <td>1.000000</td>\n",
       "    </tr>\n",
       "    <tr>\n",
       "      <th>max</th>\n",
       "      <td>20964.000000</td>\n",
       "      <td>5.000000</td>\n",
       "      <td>10999.000000</td>\n",
       "      <td>289973.000000</td>\n",
       "      <td>45448.000000</td>\n",
       "      <td>151193.000000</td>\n",
       "      <td>74037.000000</td>\n",
       "      <td>49924.000000</td>\n",
       "      <td>12629.000000</td>\n",
       "      <td>23139.000000</td>\n",
       "      <td>1.000000</td>\n",
       "    </tr>\n",
       "  </tbody>\n",
       "</table>\n",
       "</div>"
      ],
      "text/plain": [
       "                 id       rating  actual_price       norating     noreviews  \\\n",
       "count   4391.000000  4391.000000   4391.000000    4391.000000   4391.000000   \n",
       "mean   10438.913459     3.995058   1300.737190    3382.058529    469.059895   \n",
       "std     6006.102257     0.232890   1145.278016   13223.281129   1952.454435   \n",
       "min        0.000000     2.800000    162.000000       1.000000      0.000000   \n",
       "25%     5212.500000     3.900000    699.000000     122.500000     17.000000   \n",
       "50%    10518.000000     4.000000    999.000000     430.000000     59.000000   \n",
       "75%    15582.500000     4.200000   1299.000000    1938.000000    276.500000   \n",
       "max    20964.000000     5.000000  10999.000000  289973.000000  45448.000000   \n",
       "\n",
       "           five_star     four_star    three_star      two_star      one_star  \\\n",
       "count    4374.000000   4391.000000   4391.000000   4391.000000   4357.000000   \n",
       "mean     1762.908779    723.884992    404.123434    175.257117    311.663759   \n",
       "std      6739.075068   3052.302524   1685.641259    632.006441   1109.351599   \n",
       "min         1.000000      1.000000      1.000000      1.000000      1.000000   \n",
       "25%        60.000000     24.000000     13.000000      7.000000     11.000000   \n",
       "50%       220.000000     87.000000     49.000000     22.000000     41.000000   \n",
       "75%      1011.750000    397.500000    217.500000     97.000000    167.000000   \n",
       "max    151193.000000  74037.000000  49924.000000  12629.000000  23139.000000   \n",
       "\n",
       "         fulfilled  \n",
       "count  4391.000000  \n",
       "mean      0.629242  \n",
       "std       0.483063  \n",
       "min       0.000000  \n",
       "25%       0.000000  \n",
       "50%       1.000000  \n",
       "75%       1.000000  \n",
       "max       1.000000  "
      ]
     },
     "execution_count": 33,
     "metadata": {},
     "output_type": "execute_result"
    }
   ],
   "source": [
    "df_test[(df_test['five_star']!=0) & (df_test['four_star']!=0) & (df_test['three_star']!=0) & (df_test['two_star']!=0) & (df_test['one_star']!=0) & (df_test['rating'] > 2.5)].describe()"
   ]
  },
  {
   "cell_type": "markdown",
   "metadata": {},
   "source": [
    "- There are many rows in which rating and no. of rating are given but all the stars value are missing, hence we will fill the missing values with the 1/2 as five star , 1/4.5 as four star , 1/8 as three star , 1/19 as two star , 1/11 as one star \n",
    "- These ratios are calculated using the formula : (no. of ratings given)/(no. of ratings available) for those rows in which each 7 features were available and were having rating greater than 2.5 as above data have the same condition"
   ]
  },
  {
   "cell_type": "code",
   "execution_count": 34,
   "metadata": {},
   "outputs": [],
   "source": [
    "def fill_all_missing_star(row):\n",
    "    if (( row['one_star'] ==0) & ( row['two_star'] ==0) & ( row['three_star'] ==0) & ( row['four_star'] ==0) & ( row['five_star'] ==0) & ( math.isnan(row['rating']) == False)):\n",
    "        row['one_star'] = math.ceil(row['norating']/11)\n",
    "        row['two_star'] = math.ceil(row['norating']/20)\n",
    "        row['three_star'] = math.ceil(row['norating']/8)\n",
    "        row['four_star'] = math.ceil(row['norating']/4.6)\n",
    "        row['five_star'] = math.ceil(row['norating']/2)\n",
    "        return row\n",
    "    else:\n",
    "        return row"
   ]
  },
  {
   "cell_type": "code",
   "execution_count": 35,
   "metadata": {},
   "outputs": [],
   "source": [
    "df_train = df_train.apply(lambda x: fill_all_missing_star(x), axis=1)"
   ]
  },
  {
   "cell_type": "code",
   "execution_count": 36,
   "metadata": {},
   "outputs": [],
   "source": [
    "df_test = df_test.apply(lambda x: fill_all_missing_star(x), axis=1)"
   ]
  },
  {
   "cell_type": "markdown",
   "metadata": {},
   "source": [
    "- Now analysing rest of missing stars values in the dataset"
   ]
  },
  {
   "cell_type": "code",
   "execution_count": 37,
   "metadata": {},
   "outputs": [
    {
     "data": {
      "text/plain": [
       "rating          0\n",
       "norating      676\n",
       "five_star     586\n",
       "four_star     537\n",
       "three_star    230\n",
       "two_star        0\n",
       "one_star        0\n",
       "dtype: int64"
      ]
     },
     "execution_count": 37,
     "metadata": {},
     "output_type": "execute_result"
    }
   ],
   "source": [
    "df_train[['rating','norating','five_star','four_star','three_star','two_star','one_star']].isna().sum()"
   ]
  },
  {
   "cell_type": "code",
   "execution_count": 38,
   "metadata": {},
   "outputs": [
    {
     "data": {
      "text/plain": [
       "rating        203\n",
       "norating        0\n",
       "five_star      68\n",
       "four_star       0\n",
       "three_star      0\n",
       "two_star        0\n",
       "one_star      186\n",
       "dtype: int64"
      ]
     },
     "execution_count": 38,
     "metadata": {},
     "output_type": "execute_result"
    }
   ],
   "source": [
    "df_test[['rating','norating','five_star','four_star','three_star','two_star','one_star']].isna().sum()"
   ]
  },
  {
   "cell_type": "markdown",
   "metadata": {},
   "source": [
    "- We know that norating is the sum of one_star, two_star, three_star, four_star, five_star\n",
    "- Hence calculating those star values in which any one of the star has missing values provided that norating is not zero"
   ]
  },
  {
   "cell_type": "code",
   "execution_count": 39,
   "metadata": {},
   "outputs": [],
   "source": [
    "import math"
   ]
  },
  {
   "cell_type": "code",
   "execution_count": 40,
   "metadata": {},
   "outputs": [],
   "source": [
    "def fill_single_star(df):\n",
    "    if not math.isnan(df['norating']):\n",
    "        stars = ['one_star','two_star','three_star','four_star','five_star']\n",
    "        for i in range(len(stars)):\n",
    "            if pd.isna(df[stars[i%5]]) & pd.notna(df[stars[(i+1)%5]]) & pd.notna(df[stars[(i+2)%5]]) & pd.notna(df[stars[(i+3)%5]]) & pd.notna(df[stars[(i+4)%5]]):\n",
    "                sum = df[stars[(i+1)%5]] + df[stars[(i+2)%5]] + df[stars[(i+3)%5]] + df[stars[(i+4)%5]]\n",
    "                df[stars[i%5]] = df['norating'] - sum\n",
    "        return df\n",
    "    else:\n",
    "        return df"
   ]
  },
  {
   "cell_type": "code",
   "execution_count": 41,
   "metadata": {},
   "outputs": [],
   "source": [
    "df_train = df_train.apply(lambda x: fill_single_star(x), axis=1)"
   ]
  },
  {
   "cell_type": "code",
   "execution_count": 42,
   "metadata": {},
   "outputs": [
    {
     "data": {
      "text/plain": [
       "rating          0\n",
       "norating      676\n",
       "five_star     567\n",
       "four_star     526\n",
       "three_star    225\n",
       "two_star        0\n",
       "one_star        0\n",
       "dtype: int64"
      ]
     },
     "execution_count": 42,
     "metadata": {},
     "output_type": "execute_result"
    }
   ],
   "source": [
    "df_train[['rating','norating','five_star','four_star','three_star','two_star','one_star']].isna().sum()"
   ]
  },
  {
   "cell_type": "code",
   "execution_count": 43,
   "metadata": {},
   "outputs": [],
   "source": [
    "df_test = df_test.apply(lambda x: fill_single_star(x), axis=1)"
   ]
  },
  {
   "cell_type": "code",
   "execution_count": 44,
   "metadata": {},
   "outputs": [
    {
     "data": {
      "text/plain": [
       "rating        203\n",
       "norating        0\n",
       "five_star      45\n",
       "four_star       0\n",
       "three_star      0\n",
       "two_star        0\n",
       "one_star       45\n",
       "dtype: int64"
      ]
     },
     "execution_count": 44,
     "metadata": {},
     "output_type": "execute_result"
    }
   ],
   "source": [
    "df_test[['rating','norating','five_star','four_star','three_star','two_star','one_star']].isna().sum()"
   ]
  },
  {
   "cell_type": "markdown",
   "metadata": {},
   "source": [
    "- Now considering those rows where norating and rating both are not null and two of the stars are null\n",
    "- In this case we have two equation and two variable , hence we can solve that equation and find the stars value"
   ]
  },
  {
   "cell_type": "code",
   "execution_count": 45,
   "metadata": {},
   "outputs": [],
   "source": [
    "def fill_double_star(df):\n",
    "    if (not math.isnan(df['norating'])) & (not math.isnan(df['rating'])):\n",
    "        stars = ['one_star','two_star','three_star','four_star','five_star']\n",
    "        value = {'one_star':1,'two_star':2,'three_star':3,'four_star':4,'five_star':5}\n",
    "        for i in range(len(stars) - 1):\n",
    "            for j in range(i+1, len(stars)):\n",
    "                if pd.isna(df[stars[i%5]]) & pd.isna(df[stars[(j)%5]]) & pd.notna(df[stars[(j+1)%5]]) & pd.notna(df[stars[(j+2)%5]]) & pd.notna(df[stars[(j+3)%5]]):\n",
    "                    sum = df[stars[(j+1)%5]] + df[stars[(j+2)%5]] + df[stars[(j+3)%5]]\n",
    "                    weighted_sum = value[stars[(j+1)%5]]*df[stars[(j+1)%5]] +  value[stars[(j+2)%5]]*df[stars[(j+2)%5]] +  value[stars[(j+3)%5]]*df[stars[(j+3)%5]]\n",
    "                    \n",
    "                    \n",
    "                    left_sum = df['norating'] - sum                     #             df[stars[i%5]] +             df[stars[j%5]] = left_sum \n",
    "                    left_weighted_sum = df['norating']*df['rating'] - weighted_sum   # ( (i+1)%5 )*df[stars[i%5]] + ( (j+1)%5 )*df[stars[j%5]] = left_weighted_sum\n",
    "\n",
    "\n",
    "                    df[stars[i%5]] = (-( (j+1)%6 )*left_sum + left_weighted_sum  )/ ( (i-j) )\n",
    "                    df[stars[j%5]] = (-( (i+1)%6 )*left_sum + left_weighted_sum  )/ ( (j-i) )\n",
    "        return df\n",
    "    else:\n",
    "        return df"
   ]
  },
  {
   "cell_type": "code",
   "execution_count": 46,
   "metadata": {},
   "outputs": [],
   "source": [
    "df_train = df_train.apply(lambda x: fill_double_star(x), axis=1)"
   ]
  },
  {
   "cell_type": "code",
   "execution_count": 47,
   "metadata": {},
   "outputs": [
    {
     "data": {
      "text/plain": [
       "rating          0\n",
       "norating      676\n",
       "five_star     531\n",
       "four_star     482\n",
       "three_star    217\n",
       "two_star        0\n",
       "one_star        0\n",
       "dtype: int64"
      ]
     },
     "execution_count": 47,
     "metadata": {},
     "output_type": "execute_result"
    }
   ],
   "source": [
    "df_train[['rating','norating','five_star','four_star','three_star','two_star','one_star']].isna().sum()"
   ]
  },
  {
   "cell_type": "code",
   "execution_count": 48,
   "metadata": {},
   "outputs": [],
   "source": [
    "df_test = df_test.apply(lambda x: fill_double_star(x), axis=1)"
   ]
  },
  {
   "cell_type": "code",
   "execution_count": 49,
   "metadata": {},
   "outputs": [
    {
     "data": {
      "text/plain": [
       "rating        203\n",
       "norating        0\n",
       "five_star      45\n",
       "four_star       0\n",
       "three_star      0\n",
       "two_star        0\n",
       "one_star       45\n",
       "dtype: int64"
      ]
     },
     "execution_count": 49,
     "metadata": {},
     "output_type": "execute_result"
    }
   ],
   "source": [
    "df_test[['rating','norating','five_star','four_star','three_star','two_star','one_star']].isna().sum()"
   ]
  },
  {
   "cell_type": "markdown",
   "metadata": {},
   "source": [
    "- By this way we got very less values filled by this technique, let's see if we can do anything else"
   ]
  },
  {
   "cell_type": "code",
   "execution_count": 50,
   "metadata": {},
   "outputs": [
    {
     "data": {
      "text/html": [
       "<div>\n",
       "<style scoped>\n",
       "    .dataframe tbody tr th:only-of-type {\n",
       "        vertical-align: middle;\n",
       "    }\n",
       "\n",
       "    .dataframe tbody tr th {\n",
       "        vertical-align: top;\n",
       "    }\n",
       "\n",
       "    .dataframe thead th {\n",
       "        text-align: right;\n",
       "    }\n",
       "</style>\n",
       "<table border=\"1\" class=\"dataframe\">\n",
       "  <thead>\n",
       "    <tr style=\"text-align: right;\">\n",
       "      <th></th>\n",
       "      <th>id</th>\n",
       "      <th>title</th>\n",
       "      <th>rating</th>\n",
       "      <th>main_category</th>\n",
       "      <th>platform</th>\n",
       "      <th>final_price</th>\n",
       "      <th>actual_price</th>\n",
       "      <th>offer_per</th>\n",
       "      <th>norating</th>\n",
       "      <th>noreviews</th>\n",
       "      <th>five_star</th>\n",
       "      <th>four_star</th>\n",
       "      <th>three_star</th>\n",
       "      <th>two_star</th>\n",
       "      <th>one_star</th>\n",
       "      <th>fulfilled</th>\n",
       "    </tr>\n",
       "  </thead>\n",
       "  <tbody>\n",
       "    <tr>\n",
       "      <th>11786</th>\n",
       "      <td>19678</td>\n",
       "      <td>Fila Men's Crante Sneakers</td>\n",
       "      <td>3.8</td>\n",
       "      <td>Men</td>\n",
       "      <td>Amazon</td>\n",
       "      <td>781</td>\n",
       "      <td>1706</td>\n",
       "      <td>54.22</td>\n",
       "      <td>41.0</td>\n",
       "      <td>NaN</td>\n",
       "      <td>188.8</td>\n",
       "      <td>-227.8</td>\n",
       "      <td>11.0</td>\n",
       "      <td>21</td>\n",
       "      <td>48</td>\n",
       "      <td>1</td>\n",
       "    </tr>\n",
       "  </tbody>\n",
       "</table>\n",
       "</div>"
      ],
      "text/plain": [
       "          id                       title  rating main_category platform  \\\n",
       "11786  19678  Fila Men's Crante Sneakers     3.8           Men   Amazon   \n",
       "\n",
       "       final_price  actual_price  offer_per  norating  noreviews  five_star  \\\n",
       "11786          781          1706      54.22      41.0        NaN      188.8   \n",
       "\n",
       "       four_star  three_star  two_star  one_star  fulfilled  \n",
       "11786     -227.8        11.0        21        48          1  "
      ]
     },
     "execution_count": 50,
     "metadata": {},
     "output_type": "execute_result"
    }
   ],
   "source": [
    "df_train[df_train['four_star'] < 0]"
   ]
  },
  {
   "cell_type": "code",
   "execution_count": 51,
   "metadata": {},
   "outputs": [
    {
     "data": {
      "text/html": [
       "<div>\n",
       "<style scoped>\n",
       "    .dataframe tbody tr th:only-of-type {\n",
       "        vertical-align: middle;\n",
       "    }\n",
       "\n",
       "    .dataframe tbody tr th {\n",
       "        vertical-align: top;\n",
       "    }\n",
       "\n",
       "    .dataframe thead th {\n",
       "        text-align: right;\n",
       "    }\n",
       "</style>\n",
       "<table border=\"1\" class=\"dataframe\">\n",
       "  <thead>\n",
       "    <tr style=\"text-align: right;\">\n",
       "      <th></th>\n",
       "      <th>id</th>\n",
       "      <th>title</th>\n",
       "      <th>rating</th>\n",
       "      <th>main_category</th>\n",
       "      <th>platform</th>\n",
       "      <th>actual_price</th>\n",
       "      <th>norating</th>\n",
       "      <th>noreviews</th>\n",
       "      <th>five_star</th>\n",
       "      <th>four_star</th>\n",
       "      <th>three_star</th>\n",
       "      <th>two_star</th>\n",
       "      <th>one_star</th>\n",
       "      <th>fulfilled</th>\n",
       "    </tr>\n",
       "  </thead>\n",
       "  <tbody>\n",
       "    <tr>\n",
       "      <th>1045</th>\n",
       "      <td>906</td>\n",
       "      <td>1402 Slip On For Men  (Brown)</td>\n",
       "      <td>NaN</td>\n",
       "      <td>Men</td>\n",
       "      <td>Flipkart</td>\n",
       "      <td>2628</td>\n",
       "      <td>10</td>\n",
       "      <td>1</td>\n",
       "      <td>7.0</td>\n",
       "      <td>3</td>\n",
       "      <td>2</td>\n",
       "      <td>3</td>\n",
       "      <td>-5.0</td>\n",
       "      <td>0</td>\n",
       "    </tr>\n",
       "    <tr>\n",
       "      <th>1707</th>\n",
       "      <td>227</td>\n",
       "      <td>Women SL-123 Magenta Baby Pink Walking Shoes F...</td>\n",
       "      <td>NaN</td>\n",
       "      <td>Women</td>\n",
       "      <td>Flipkart</td>\n",
       "      <td>934</td>\n",
       "      <td>9003</td>\n",
       "      <td>1322</td>\n",
       "      <td>10980.0</td>\n",
       "      <td>2344</td>\n",
       "      <td>940</td>\n",
       "      <td>261</td>\n",
       "      <td>-5522.0</td>\n",
       "      <td>1</td>\n",
       "    </tr>\n",
       "    <tr>\n",
       "      <th>1811</th>\n",
       "      <td>244</td>\n",
       "      <td>Slides</td>\n",
       "      <td>NaN</td>\n",
       "      <td>Women</td>\n",
       "      <td>Flipkart</td>\n",
       "      <td>477</td>\n",
       "      <td>258</td>\n",
       "      <td>37</td>\n",
       "      <td>256.0</td>\n",
       "      <td>69</td>\n",
       "      <td>26</td>\n",
       "      <td>8</td>\n",
       "      <td>-101.0</td>\n",
       "      <td>0</td>\n",
       "    </tr>\n",
       "    <tr>\n",
       "      <th>2251</th>\n",
       "      <td>522</td>\n",
       "      <td>Women Black Wedges Sandal</td>\n",
       "      <td>4.0</td>\n",
       "      <td>Women</td>\n",
       "      <td>Flipkart</td>\n",
       "      <td>957</td>\n",
       "      <td>679</td>\n",
       "      <td>102</td>\n",
       "      <td>292.0</td>\n",
       "      <td>325</td>\n",
       "      <td>102</td>\n",
       "      <td>56</td>\n",
       "      <td>-96.0</td>\n",
       "      <td>0</td>\n",
       "    </tr>\n",
       "  </tbody>\n",
       "</table>\n",
       "</div>"
      ],
      "text/plain": [
       "       id                                              title  rating  \\\n",
       "1045  906                      1402 Slip On For Men  (Brown)     NaN   \n",
       "1707  227  Women SL-123 Magenta Baby Pink Walking Shoes F...     NaN   \n",
       "1811  244                                             Slides     NaN   \n",
       "2251  522                          Women Black Wedges Sandal     4.0   \n",
       "\n",
       "     main_category  platform  actual_price  norating  noreviews  five_star  \\\n",
       "1045           Men  Flipkart          2628        10          1        7.0   \n",
       "1707         Women  Flipkart           934      9003       1322    10980.0   \n",
       "1811         Women  Flipkart           477       258         37      256.0   \n",
       "2251         Women  Flipkart           957       679        102      292.0   \n",
       "\n",
       "      four_star  three_star  two_star  one_star  fulfilled  \n",
       "1045          3           2         3      -5.0          0  \n",
       "1707       2344         940       261   -5522.0          1  \n",
       "1811         69          26         8    -101.0          0  \n",
       "2251        325         102        56     -96.0          0  "
      ]
     },
     "execution_count": 51,
     "metadata": {},
     "output_type": "execute_result"
    }
   ],
   "source": [
    "df_test[df_test['one_star'] < 0]"
   ]
  },
  {
   "cell_type": "markdown",
   "metadata": {},
   "source": [
    "- From Above we got to know that there are few values where star value is negative but this is not possible, hence we can make these values as positive\n",
    "- There were few cases in both training and test data where the sum of the star values is greater than norating, hence following the same trend we are going to make these negative star values as positive"
   ]
  },
  {
   "cell_type": "code",
   "execution_count": 52,
   "metadata": {},
   "outputs": [],
   "source": [
    "star_col = ['one_star','two_star','three_star','four_star','five_star']\n",
    "df_train[star_col] = df_train[star_col].abs()\n",
    "df_test[star_col] = df_test[star_col].abs()"
   ]
  },
  {
   "cell_type": "markdown",
   "metadata": {},
   "source": [
    "- Let's fill the remaining missing values for the star with the gradual increasing value of the star, as one_star =0 , two_star = 2*one_star , three_star = 3*one_star + 2*two_star and so on"
   ]
  },
  {
   "cell_type": "code",
   "execution_count": 53,
   "metadata": {},
   "outputs": [],
   "source": [
    "def fill_rest_star(df):\n",
    "    if pd.isna(df['one_star']):\n",
    "        df['one_star'] = 0\n",
    "    if pd.isna(df['two_star']):\n",
    "        df['two_star'] = 2*df['one_star']\n",
    "    if pd.isna(df['three_star']):\n",
    "        df['three_star'] = 3*df['one_star'] + 2*df['two_star']\n",
    "    if pd.isna(df['four_star']):\n",
    "        df['four_star'] = 4*df['one_star'] + 3*df['two_star'] + 2*df['three_star']\n",
    "    if pd.isna(df['five_star']):\n",
    "        df['five_star'] = 5*df['one_star'] + 4*df['two_star'] + 3*df['three_star'] + 2*df['four_star']\n",
    "    return df"
   ]
  },
  {
   "cell_type": "code",
   "execution_count": 54,
   "metadata": {},
   "outputs": [],
   "source": [
    "df_train = df_train.apply(lambda x: fill_rest_star(x), axis=1)"
   ]
  },
  {
   "cell_type": "code",
   "execution_count": 55,
   "metadata": {},
   "outputs": [],
   "source": [
    "df_test = df_test.apply(lambda x: fill_rest_star(x), axis=1)"
   ]
  },
  {
   "cell_type": "code",
   "execution_count": 56,
   "metadata": {},
   "outputs": [
    {
     "data": {
      "text/plain": [
       "id                 0\n",
       "title              0\n",
       "rating             0\n",
       "main_category      0\n",
       "platform           0\n",
       "final_price        0\n",
       "actual_price       0\n",
       "offer_per          0\n",
       "norating         676\n",
       "noreviews        576\n",
       "five_star          0\n",
       "four_star          0\n",
       "three_star         0\n",
       "two_star           0\n",
       "one_star           0\n",
       "fulfilled          0\n",
       "dtype: int64"
      ]
     },
     "execution_count": 56,
     "metadata": {},
     "output_type": "execute_result"
    }
   ],
   "source": [
    "df_train.isna().sum()"
   ]
  },
  {
   "cell_type": "code",
   "execution_count": 57,
   "metadata": {},
   "outputs": [
    {
     "data": {
      "text/plain": [
       "id                 0\n",
       "title              0\n",
       "rating           203\n",
       "main_category      0\n",
       "platform           0\n",
       "actual_price       0\n",
       "norating           0\n",
       "noreviews          0\n",
       "five_star          0\n",
       "four_star          0\n",
       "three_star         0\n",
       "two_star           0\n",
       "one_star           0\n",
       "fulfilled          0\n",
       "dtype: int64"
      ]
     },
     "execution_count": 57,
     "metadata": {},
     "output_type": "execute_result"
    }
   ],
   "source": [
    "df_test.isna().sum()"
   ]
  },
  {
   "cell_type": "markdown",
   "metadata": {},
   "source": [
    "- Hence we have filled all the values of the stars, let's move to the next column"
   ]
  },
  {
   "cell_type": "markdown",
   "metadata": {},
   "source": [
    "### norating"
   ]
  },
  {
   "cell_type": "markdown",
   "metadata": {},
   "source": [
    "- There are some rows where all the stars values are zero and at the same time no. of rating is also zero , but rating is not zero as this is only present in train data , we can think that this could be a mistake in the rating or no. of rating and all the stars columns\n",
    "- We can't guess this hence we are dropping these rows"
   ]
  },
  {
   "cell_type": "code",
   "execution_count": 58,
   "metadata": {},
   "outputs": [
    {
     "data": {
      "text/html": [
       "<div>\n",
       "<style scoped>\n",
       "    .dataframe tbody tr th:only-of-type {\n",
       "        vertical-align: middle;\n",
       "    }\n",
       "\n",
       "    .dataframe tbody tr th {\n",
       "        vertical-align: top;\n",
       "    }\n",
       "\n",
       "    .dataframe thead th {\n",
       "        text-align: right;\n",
       "    }\n",
       "</style>\n",
       "<table border=\"1\" class=\"dataframe\">\n",
       "  <thead>\n",
       "    <tr style=\"text-align: right;\">\n",
       "      <th></th>\n",
       "      <th>id</th>\n",
       "      <th>title</th>\n",
       "      <th>rating</th>\n",
       "      <th>main_category</th>\n",
       "      <th>platform</th>\n",
       "      <th>final_price</th>\n",
       "      <th>actual_price</th>\n",
       "      <th>offer_per</th>\n",
       "      <th>norating</th>\n",
       "      <th>noreviews</th>\n",
       "      <th>five_star</th>\n",
       "      <th>four_star</th>\n",
       "      <th>three_star</th>\n",
       "      <th>two_star</th>\n",
       "      <th>one_star</th>\n",
       "      <th>fulfilled</th>\n",
       "    </tr>\n",
       "  </thead>\n",
       "  <tbody>\n",
       "    <tr>\n",
       "      <th>2519</th>\n",
       "      <td>7417</td>\n",
       "      <td>Hush Berry Mens Loafer for Mens Casuals For Me...</td>\n",
       "      <td>3.9</td>\n",
       "      <td>Men</td>\n",
       "      <td>Flipkart</td>\n",
       "      <td>569</td>\n",
       "      <td>1249</td>\n",
       "      <td>54.44</td>\n",
       "      <td>NaN</td>\n",
       "      <td>155.0</td>\n",
       "      <td>0.0</td>\n",
       "      <td>0.0</td>\n",
       "      <td>0.0</td>\n",
       "      <td>0</td>\n",
       "      <td>0</td>\n",
       "      <td>1</td>\n",
       "    </tr>\n",
       "    <tr>\n",
       "      <th>2947</th>\n",
       "      <td>2693</td>\n",
       "      <td>Slippers</td>\n",
       "      <td>4.8</td>\n",
       "      <td>Women</td>\n",
       "      <td>Flipkart</td>\n",
       "      <td>695</td>\n",
       "      <td>799</td>\n",
       "      <td>13.02</td>\n",
       "      <td>NaN</td>\n",
       "      <td>1.0</td>\n",
       "      <td>0.0</td>\n",
       "      <td>0.0</td>\n",
       "      <td>0.0</td>\n",
       "      <td>0</td>\n",
       "      <td>0</td>\n",
       "      <td>1</td>\n",
       "    </tr>\n",
       "    <tr>\n",
       "      <th>4180</th>\n",
       "      <td>17828</td>\n",
       "      <td>Bellies For Women  (Black)</td>\n",
       "      <td>4.5</td>\n",
       "      <td>Women</td>\n",
       "      <td>Flipkart</td>\n",
       "      <td>549</td>\n",
       "      <td>999</td>\n",
       "      <td>45.05</td>\n",
       "      <td>NaN</td>\n",
       "      <td>NaN</td>\n",
       "      <td>0.0</td>\n",
       "      <td>0.0</td>\n",
       "      <td>0.0</td>\n",
       "      <td>0</td>\n",
       "      <td>0</td>\n",
       "      <td>0</td>\n",
       "    </tr>\n",
       "    <tr>\n",
       "      <th>4461</th>\n",
       "      <td>7891</td>\n",
       "      <td>Drift Cat 5 Core Sneakers For Women  (White)</td>\n",
       "      <td>5.0</td>\n",
       "      <td>Women</td>\n",
       "      <td>Flipkart</td>\n",
       "      <td>5998</td>\n",
       "      <td>5999</td>\n",
       "      <td>0.02</td>\n",
       "      <td>NaN</td>\n",
       "      <td>NaN</td>\n",
       "      <td>0.0</td>\n",
       "      <td>0.0</td>\n",
       "      <td>0.0</td>\n",
       "      <td>0</td>\n",
       "      <td>0</td>\n",
       "      <td>1</td>\n",
       "    </tr>\n",
       "    <tr>\n",
       "      <th>6662</th>\n",
       "      <td>17039</td>\n",
       "      <td>Boots For Women  (Brown)</td>\n",
       "      <td>4.3</td>\n",
       "      <td>Women</td>\n",
       "      <td>Flipkart</td>\n",
       "      <td>365</td>\n",
       "      <td>999</td>\n",
       "      <td>63.46</td>\n",
       "      <td>NaN</td>\n",
       "      <td>NaN</td>\n",
       "      <td>0.0</td>\n",
       "      <td>0.0</td>\n",
       "      <td>0.0</td>\n",
       "      <td>0</td>\n",
       "      <td>0</td>\n",
       "      <td>0</td>\n",
       "    </tr>\n",
       "    <tr>\n",
       "      <th>7180</th>\n",
       "      <td>8536</td>\n",
       "      <td>Flip Flops</td>\n",
       "      <td>4.3</td>\n",
       "      <td>Women</td>\n",
       "      <td>Flipkart</td>\n",
       "      <td>629</td>\n",
       "      <td>899</td>\n",
       "      <td>30.03</td>\n",
       "      <td>NaN</td>\n",
       "      <td>NaN</td>\n",
       "      <td>0.0</td>\n",
       "      <td>0.0</td>\n",
       "      <td>0.0</td>\n",
       "      <td>0</td>\n",
       "      <td>0</td>\n",
       "      <td>1</td>\n",
       "    </tr>\n",
       "    <tr>\n",
       "      <th>7398</th>\n",
       "      <td>20083</td>\n",
       "      <td>Latest Collection, Comfortable &amp; Fashionable B...</td>\n",
       "      <td>3.9</td>\n",
       "      <td>Women</td>\n",
       "      <td>Flipkart</td>\n",
       "      <td>449</td>\n",
       "      <td>999</td>\n",
       "      <td>55.06</td>\n",
       "      <td>NaN</td>\n",
       "      <td>37.0</td>\n",
       "      <td>0.0</td>\n",
       "      <td>0.0</td>\n",
       "      <td>0.0</td>\n",
       "      <td>0</td>\n",
       "      <td>0</td>\n",
       "      <td>0</td>\n",
       "    </tr>\n",
       "    <tr>\n",
       "      <th>8367</th>\n",
       "      <td>13656</td>\n",
       "      <td>Boots For Women  (Tan)</td>\n",
       "      <td>4.7</td>\n",
       "      <td>Women</td>\n",
       "      <td>Flipkart</td>\n",
       "      <td>1899</td>\n",
       "      <td>5599</td>\n",
       "      <td>66.08</td>\n",
       "      <td>NaN</td>\n",
       "      <td>NaN</td>\n",
       "      <td>0.0</td>\n",
       "      <td>0.0</td>\n",
       "      <td>0.0</td>\n",
       "      <td>0</td>\n",
       "      <td>0</td>\n",
       "      <td>0</td>\n",
       "    </tr>\n",
       "    <tr>\n",
       "      <th>8723</th>\n",
       "      <td>5924</td>\n",
       "      <td>Wedding Wear Ethnic Wear Party Wear Punjabi Bl...</td>\n",
       "      <td>4.5</td>\n",
       "      <td>Men</td>\n",
       "      <td>Flipkart</td>\n",
       "      <td>499</td>\n",
       "      <td>999</td>\n",
       "      <td>50.05</td>\n",
       "      <td>NaN</td>\n",
       "      <td>NaN</td>\n",
       "      <td>0.0</td>\n",
       "      <td>0.0</td>\n",
       "      <td>0.0</td>\n",
       "      <td>0</td>\n",
       "      <td>0</td>\n",
       "      <td>0</td>\n",
       "    </tr>\n",
       "    <tr>\n",
       "      <th>9976</th>\n",
       "      <td>3633</td>\n",
       "      <td>Fire run IDP Running Shoes For Women  (Pink)</td>\n",
       "      <td>4.4</td>\n",
       "      <td>Women</td>\n",
       "      <td>Flipkart</td>\n",
       "      <td>2998</td>\n",
       "      <td>2999</td>\n",
       "      <td>0.03</td>\n",
       "      <td>NaN</td>\n",
       "      <td>0.0</td>\n",
       "      <td>0.0</td>\n",
       "      <td>0.0</td>\n",
       "      <td>0.0</td>\n",
       "      <td>0</td>\n",
       "      <td>0</td>\n",
       "      <td>1</td>\n",
       "    </tr>\n",
       "    <tr>\n",
       "      <th>10879</th>\n",
       "      <td>15999</td>\n",
       "      <td>Women Black Wedges Sandal</td>\n",
       "      <td>5.0</td>\n",
       "      <td>Women</td>\n",
       "      <td>Flipkart</td>\n",
       "      <td>399</td>\n",
       "      <td>999</td>\n",
       "      <td>60.06</td>\n",
       "      <td>NaN</td>\n",
       "      <td>NaN</td>\n",
       "      <td>0.0</td>\n",
       "      <td>0.0</td>\n",
       "      <td>0.0</td>\n",
       "      <td>0</td>\n",
       "      <td>0</td>\n",
       "      <td>0</td>\n",
       "    </tr>\n",
       "    <tr>\n",
       "      <th>11512</th>\n",
       "      <td>9976</td>\n",
       "      <td>Women Gold Heels Sandal</td>\n",
       "      <td>5.0</td>\n",
       "      <td>Women</td>\n",
       "      <td>Flipkart</td>\n",
       "      <td>648</td>\n",
       "      <td>3495</td>\n",
       "      <td>81.46</td>\n",
       "      <td>NaN</td>\n",
       "      <td>NaN</td>\n",
       "      <td>0.0</td>\n",
       "      <td>0.0</td>\n",
       "      <td>0.0</td>\n",
       "      <td>0</td>\n",
       "      <td>0</td>\n",
       "      <td>0</td>\n",
       "    </tr>\n",
       "  </tbody>\n",
       "</table>\n",
       "</div>"
      ],
      "text/plain": [
       "          id                                              title  rating  \\\n",
       "2519    7417  Hush Berry Mens Loafer for Mens Casuals For Me...     3.9   \n",
       "2947    2693                                           Slippers     4.8   \n",
       "4180   17828                         Bellies For Women  (Black)     4.5   \n",
       "4461    7891       Drift Cat 5 Core Sneakers For Women  (White)     5.0   \n",
       "6662   17039                           Boots For Women  (Brown)     4.3   \n",
       "7180    8536                                         Flip Flops     4.3   \n",
       "7398   20083  Latest Collection, Comfortable & Fashionable B...     3.9   \n",
       "8367   13656                             Boots For Women  (Tan)     4.7   \n",
       "8723    5924  Wedding Wear Ethnic Wear Party Wear Punjabi Bl...     4.5   \n",
       "9976    3633       Fire run IDP Running Shoes For Women  (Pink)     4.4   \n",
       "10879  15999                          Women Black Wedges Sandal     5.0   \n",
       "11512   9976                            Women Gold Heels Sandal     5.0   \n",
       "\n",
       "      main_category  platform  final_price  actual_price  offer_per  norating  \\\n",
       "2519            Men  Flipkart          569          1249      54.44       NaN   \n",
       "2947          Women  Flipkart          695           799      13.02       NaN   \n",
       "4180          Women  Flipkart          549           999      45.05       NaN   \n",
       "4461          Women  Flipkart         5998          5999       0.02       NaN   \n",
       "6662          Women  Flipkart          365           999      63.46       NaN   \n",
       "7180          Women  Flipkart          629           899      30.03       NaN   \n",
       "7398          Women  Flipkart          449           999      55.06       NaN   \n",
       "8367          Women  Flipkart         1899          5599      66.08       NaN   \n",
       "8723            Men  Flipkart          499           999      50.05       NaN   \n",
       "9976          Women  Flipkart         2998          2999       0.03       NaN   \n",
       "10879         Women  Flipkart          399           999      60.06       NaN   \n",
       "11512         Women  Flipkart          648          3495      81.46       NaN   \n",
       "\n",
       "       noreviews  five_star  four_star  three_star  two_star  one_star  \\\n",
       "2519       155.0        0.0        0.0         0.0         0         0   \n",
       "2947         1.0        0.0        0.0         0.0         0         0   \n",
       "4180         NaN        0.0        0.0         0.0         0         0   \n",
       "4461         NaN        0.0        0.0         0.0         0         0   \n",
       "6662         NaN        0.0        0.0         0.0         0         0   \n",
       "7180         NaN        0.0        0.0         0.0         0         0   \n",
       "7398        37.0        0.0        0.0         0.0         0         0   \n",
       "8367         NaN        0.0        0.0         0.0         0         0   \n",
       "8723         NaN        0.0        0.0         0.0         0         0   \n",
       "9976         0.0        0.0        0.0         0.0         0         0   \n",
       "10879        NaN        0.0        0.0         0.0         0         0   \n",
       "11512        NaN        0.0        0.0         0.0         0         0   \n",
       "\n",
       "       fulfilled  \n",
       "2519           1  \n",
       "2947           1  \n",
       "4180           0  \n",
       "4461           1  \n",
       "6662           0  \n",
       "7180           1  \n",
       "7398           0  \n",
       "8367           0  \n",
       "8723           0  \n",
       "9976           1  \n",
       "10879          0  \n",
       "11512          0  "
      ]
     },
     "execution_count": 58,
     "metadata": {},
     "output_type": "execute_result"
    }
   ],
   "source": [
    "ind = df_train[(df_train['five_star']==0) & (df_train['four_star']==0) & (df_train['three_star']==0) & (df_train['two_star']==0) & (df_train['one_star']==0)].index\n",
    "df_train[(df_train['five_star']==0) & (df_train['four_star']==0) & (df_train['three_star']==0) & (df_train['two_star']==0) & (df_train['one_star']==0)]"
   ]
  },
  {
   "cell_type": "code",
   "execution_count": 59,
   "metadata": {},
   "outputs": [
    {
     "data": {
      "text/html": [
       "<div>\n",
       "<style scoped>\n",
       "    .dataframe tbody tr th:only-of-type {\n",
       "        vertical-align: middle;\n",
       "    }\n",
       "\n",
       "    .dataframe tbody tr th {\n",
       "        vertical-align: top;\n",
       "    }\n",
       "\n",
       "    .dataframe thead th {\n",
       "        text-align: right;\n",
       "    }\n",
       "</style>\n",
       "<table border=\"1\" class=\"dataframe\">\n",
       "  <thead>\n",
       "    <tr style=\"text-align: right;\">\n",
       "      <th></th>\n",
       "      <th>id</th>\n",
       "      <th>title</th>\n",
       "      <th>rating</th>\n",
       "      <th>main_category</th>\n",
       "      <th>platform</th>\n",
       "      <th>actual_price</th>\n",
       "      <th>norating</th>\n",
       "      <th>noreviews</th>\n",
       "      <th>five_star</th>\n",
       "      <th>four_star</th>\n",
       "      <th>three_star</th>\n",
       "      <th>two_star</th>\n",
       "      <th>one_star</th>\n",
       "      <th>fulfilled</th>\n",
       "    </tr>\n",
       "  </thead>\n",
       "  <tbody>\n",
       "  </tbody>\n",
       "</table>\n",
       "</div>"
      ],
      "text/plain": [
       "Empty DataFrame\n",
       "Columns: [id, title, rating, main_category, platform, actual_price, norating, noreviews, five_star, four_star, three_star, two_star, one_star, fulfilled]\n",
       "Index: []"
      ]
     },
     "execution_count": 59,
     "metadata": {},
     "output_type": "execute_result"
    }
   ],
   "source": [
    "df_test[(df_test['five_star']==0) & (df_test['four_star']==0) & (df_test['three_star']==0) & (df_test['two_star']==0) & (df_test['one_star']==0)]"
   ]
  },
  {
   "cell_type": "code",
   "execution_count": 60,
   "metadata": {},
   "outputs": [],
   "source": [
    "df_train.drop(ind, inplace=True)"
   ]
  },
  {
   "cell_type": "markdown",
   "metadata": {},
   "source": [
    "- As we have filled all the stars values, we can fill the norating values with the sum of the stars values"
   ]
  },
  {
   "cell_type": "code",
   "execution_count": 61,
   "metadata": {},
   "outputs": [],
   "source": [
    "df_train['norating'] = df_train['one_star'] + df_train['two_star'] + df_train['three_star'] + df_train['four_star'] + df_train['five_star']"
   ]
  },
  {
   "cell_type": "code",
   "execution_count": 62,
   "metadata": {},
   "outputs": [
    {
     "data": {
      "text/plain": [
       "id                 0\n",
       "title              0\n",
       "rating             0\n",
       "main_category      0\n",
       "platform           0\n",
       "final_price        0\n",
       "actual_price       0\n",
       "offer_per          0\n",
       "norating           0\n",
       "noreviews        568\n",
       "five_star          0\n",
       "four_star          0\n",
       "three_star         0\n",
       "two_star           0\n",
       "one_star           0\n",
       "fulfilled          0\n",
       "dtype: int64"
      ]
     },
     "execution_count": 62,
     "metadata": {},
     "output_type": "execute_result"
    }
   ],
   "source": [
    "df_train.isna().sum()"
   ]
  },
  {
   "cell_type": "code",
   "execution_count": 63,
   "metadata": {},
   "outputs": [
    {
     "data": {
      "text/html": [
       "<div>\n",
       "<style scoped>\n",
       "    .dataframe tbody tr th:only-of-type {\n",
       "        vertical-align: middle;\n",
       "    }\n",
       "\n",
       "    .dataframe tbody tr th {\n",
       "        vertical-align: top;\n",
       "    }\n",
       "\n",
       "    .dataframe thead th {\n",
       "        text-align: right;\n",
       "    }\n",
       "</style>\n",
       "<table border=\"1\" class=\"dataframe\">\n",
       "  <thead>\n",
       "    <tr style=\"text-align: right;\">\n",
       "      <th></th>\n",
       "      <th>id</th>\n",
       "      <th>title</th>\n",
       "      <th>rating</th>\n",
       "      <th>main_category</th>\n",
       "      <th>platform</th>\n",
       "      <th>final_price</th>\n",
       "      <th>actual_price</th>\n",
       "      <th>offer_per</th>\n",
       "      <th>norating</th>\n",
       "      <th>noreviews</th>\n",
       "      <th>five_star</th>\n",
       "      <th>four_star</th>\n",
       "      <th>three_star</th>\n",
       "      <th>two_star</th>\n",
       "      <th>one_star</th>\n",
       "      <th>fulfilled</th>\n",
       "    </tr>\n",
       "  </thead>\n",
       "  <tbody>\n",
       "  </tbody>\n",
       "</table>\n",
       "</div>"
      ],
      "text/plain": [
       "Empty DataFrame\n",
       "Columns: [id, title, rating, main_category, platform, final_price, actual_price, offer_per, norating, noreviews, five_star, four_star, three_star, two_star, one_star, fulfilled]\n",
       "Index: []"
      ]
     },
     "execution_count": 63,
     "metadata": {},
     "output_type": "execute_result"
    }
   ],
   "source": [
    "df_train[df_train['norating'] == 0]"
   ]
  },
  {
   "cell_type": "code",
   "execution_count": 64,
   "metadata": {},
   "outputs": [
    {
     "data": {
      "text/html": [
       "<div>\n",
       "<style scoped>\n",
       "    .dataframe tbody tr th:only-of-type {\n",
       "        vertical-align: middle;\n",
       "    }\n",
       "\n",
       "    .dataframe tbody tr th {\n",
       "        vertical-align: top;\n",
       "    }\n",
       "\n",
       "    .dataframe thead th {\n",
       "        text-align: right;\n",
       "    }\n",
       "</style>\n",
       "<table border=\"1\" class=\"dataframe\">\n",
       "  <thead>\n",
       "    <tr style=\"text-align: right;\">\n",
       "      <th></th>\n",
       "      <th>id</th>\n",
       "      <th>title</th>\n",
       "      <th>rating</th>\n",
       "      <th>main_category</th>\n",
       "      <th>platform</th>\n",
       "      <th>actual_price</th>\n",
       "      <th>norating</th>\n",
       "      <th>noreviews</th>\n",
       "      <th>five_star</th>\n",
       "      <th>four_star</th>\n",
       "      <th>three_star</th>\n",
       "      <th>two_star</th>\n",
       "      <th>one_star</th>\n",
       "      <th>fulfilled</th>\n",
       "    </tr>\n",
       "  </thead>\n",
       "  <tbody>\n",
       "  </tbody>\n",
       "</table>\n",
       "</div>"
      ],
      "text/plain": [
       "Empty DataFrame\n",
       "Columns: [id, title, rating, main_category, platform, actual_price, norating, noreviews, five_star, four_star, three_star, two_star, one_star, fulfilled]\n",
       "Index: []"
      ]
     },
     "execution_count": 64,
     "metadata": {},
     "output_type": "execute_result"
    }
   ],
   "source": [
    "df_test[df_test['norating'] == 0]"
   ]
  },
  {
   "cell_type": "markdown",
   "metadata": {},
   "source": [
    "### noreviews"
   ]
  },
  {
   "cell_type": "code",
   "execution_count": 65,
   "metadata": {},
   "outputs": [
    {
     "data": {
      "text/html": [
       "<div>\n",
       "<style scoped>\n",
       "    .dataframe tbody tr th:only-of-type {\n",
       "        vertical-align: middle;\n",
       "    }\n",
       "\n",
       "    .dataframe tbody tr th {\n",
       "        vertical-align: top;\n",
       "    }\n",
       "\n",
       "    .dataframe thead th {\n",
       "        text-align: right;\n",
       "    }\n",
       "</style>\n",
       "<table border=\"1\" class=\"dataframe\">\n",
       "  <thead>\n",
       "    <tr style=\"text-align: right;\">\n",
       "      <th></th>\n",
       "      <th>norating</th>\n",
       "      <th>noreviews</th>\n",
       "    </tr>\n",
       "  </thead>\n",
       "  <tbody>\n",
       "    <tr>\n",
       "      <th>count</th>\n",
       "      <td>15716.000000</td>\n",
       "      <td>15148.000000</td>\n",
       "    </tr>\n",
       "    <tr>\n",
       "      <th>mean</th>\n",
       "      <td>3375.126597</td>\n",
       "      <td>424.075522</td>\n",
       "    </tr>\n",
       "    <tr>\n",
       "      <th>std</th>\n",
       "      <td>14320.472675</td>\n",
       "      <td>1768.453002</td>\n",
       "    </tr>\n",
       "    <tr>\n",
       "      <th>min</th>\n",
       "      <td>1.000000</td>\n",
       "      <td>0.000000</td>\n",
       "    </tr>\n",
       "    <tr>\n",
       "      <th>25%</th>\n",
       "      <td>70.750000</td>\n",
       "      <td>9.000000</td>\n",
       "    </tr>\n",
       "    <tr>\n",
       "      <th>50%</th>\n",
       "      <td>314.000000</td>\n",
       "      <td>44.000000</td>\n",
       "    </tr>\n",
       "    <tr>\n",
       "      <th>75%</th>\n",
       "      <td>1625.000000</td>\n",
       "      <td>215.000000</td>\n",
       "    </tr>\n",
       "    <tr>\n",
       "      <th>max</th>\n",
       "      <td>699170.000000</td>\n",
       "      <td>45448.000000</td>\n",
       "    </tr>\n",
       "  </tbody>\n",
       "</table>\n",
       "</div>"
      ],
      "text/plain": [
       "            norating     noreviews\n",
       "count   15716.000000  15148.000000\n",
       "mean     3375.126597    424.075522\n",
       "std     14320.472675   1768.453002\n",
       "min         1.000000      0.000000\n",
       "25%        70.750000      9.000000\n",
       "50%       314.000000     44.000000\n",
       "75%      1625.000000    215.000000\n",
       "max    699170.000000  45448.000000"
      ]
     },
     "execution_count": 65,
     "metadata": {},
     "output_type": "execute_result"
    }
   ],
   "source": [
    "df_train.describe()[['norating','noreviews']]"
   ]
  },
  {
   "cell_type": "markdown",
   "metadata": {},
   "source": [
    "- As we know that noreviews are usually lesser than norating, so we can fill the noreviews with the 1/7th of the norating, as this is the relation between their median"
   ]
  },
  {
   "cell_type": "code",
   "execution_count": 66,
   "metadata": {},
   "outputs": [],
   "source": [
    "def fill_noreviews(df):\n",
    "    if pd.isna(df['noreviews']):\n",
    "        df['noreviews'] = df['norating']/7\n",
    "    return df"
   ]
  },
  {
   "cell_type": "code",
   "execution_count": 67,
   "metadata": {},
   "outputs": [],
   "source": [
    "df_train =df_train.apply(lambda x: fill_noreviews(x), axis=1)"
   ]
  },
  {
   "cell_type": "markdown",
   "metadata": {},
   "source": [
    "### rating"
   ]
  },
  {
   "cell_type": "markdown",
   "metadata": {},
   "source": [
    "- We can fill the rating with the weighted average of the stars values"
   ]
  },
  {
   "cell_type": "code",
   "execution_count": 68,
   "metadata": {},
   "outputs": [],
   "source": [
    "def fill_rating(df):\n",
    "    if pd.isna(df['rating']):\n",
    "        df['rating'] = ( df['one_star'] + 2*df['two_star'] + 3*df['three_star'] + 4*df['four_star'] + 5*df['five_star'] ) / df['norating']\n",
    "    return df"
   ]
  },
  {
   "cell_type": "code",
   "execution_count": 69,
   "metadata": {},
   "outputs": [],
   "source": [
    "df_test = df_test.apply(lambda x: fill_rating(x), axis=1)"
   ]
  },
  {
   "cell_type": "markdown",
   "metadata": {},
   "source": [
    "- saving the result"
   ]
  },
  {
   "cell_type": "code",
   "execution_count": 70,
   "metadata": {},
   "outputs": [],
   "source": [
    "df_train.to_csv('data/train_filled.csv', index=False)\n",
    "df_test.to_csv('data/test_filled.csv', index=False)"
   ]
  }
 ],
 "metadata": {
  "kernelspec": {
   "display_name": "Python 3.10.4 ('mlearning')",
   "language": "python",
   "name": "python3"
  },
  "language_info": {
   "codemirror_mode": {
    "name": "ipython",
    "version": 3
   },
   "file_extension": ".py",
   "mimetype": "text/x-python",
   "name": "python",
   "nbconvert_exporter": "python",
   "pygments_lexer": "ipython3",
   "version": "3.10.4"
  },
  "orig_nbformat": 4,
  "vscode": {
   "interpreter": {
    "hash": "1eb649f6f8cececb32e27a7c74ff0c8a2304f0589778cec0736ca47bbe35202a"
   }
  }
 },
 "nbformat": 4,
 "nbformat_minor": 2
}
