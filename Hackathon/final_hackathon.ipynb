{
 "cells": [
  {
   "cell_type": "markdown",
   "metadata": {},
   "source": [
    "# Final Hackathon Project"
   ]
  },
  {
   "cell_type": "markdown",
   "metadata": {},
   "source": [
    "## Description\n",
    "\n",
    "Artificial Intelligence is an integral part of all major e-commerce companies today. Today's online retail platforms are heavily powered by algorithms and applications that use AI. Machine learning is used in a variety of ways, from inventory control and quality assurance in the warehouse to product recommendations and sales demographics on the website.\n",
    "\n",
    "Let’s say you want to create a promotional campaign for an e-commerce store and offer discounts to customers in the hopes that this might increase your sales.\n",
    "\n",
    "You have been provided descriptions of products on Amazon and Flipkart, including details like product title, ratings, reviews, and actual prices. In this challenge, you will predict discounted prices of the listed products based on their ratings and actual prices. "
   ]
  },
  {
   "cell_type": "markdown",
   "metadata": {},
   "source": [
    "## Introduction\n",
    "\n",
    "Columns\n",
    "\n",
    "    title - Name of the product\n",
    "    Rating- average rating given to a product\n",
    "    maincateg - category that the product is listed under(men/women)\n",
    "    platform - platform on which it is sold on (Eg. Amazon, Flipkart)\n",
    "    price1 - Discounted Price of the listed product\n",
    "    actprice1 - Actual price of the listed product\n",
    "    Offer % - Discount percent\n",
    "    norating1 - number of ratings available for a particular product\n",
    "    noreviews1 - number of reviews available for a particular product\n",
    "    star_5f - number of five star ratings given to a particular product\n",
    "    star_4f - number of four star ratings given to a particular product\n",
    "    star_3f - number of three star ratings given to a particular product\n",
    "    star_2f - number of two star ratings given to a particular product\n",
    "    star_1f - number of one star ratings given to a particular product\n",
    "    fulfilled1- whether it is Amazon fulfilled or not\n"
   ]
  },
  {
   "cell_type": "code",
   "execution_count": 1,
   "metadata": {},
   "outputs": [],
   "source": [
    "import pandas as pd\n",
    "import numpy as np\n",
    "import matplotlib.pyplot as plt\n",
    "import seaborn as sns\n",
    "import math"
   ]
  },
  {
   "cell_type": "code",
   "execution_count": 2,
   "metadata": {},
   "outputs": [],
   "source": [
    "df_train = pd.read_csv('data/train.csv')\n",
    "df_test = pd.read_csv('data/test.csv')"
   ]
  },
  {
   "cell_type": "code",
   "execution_count": 3,
   "metadata": {},
   "outputs": [
    {
     "data": {
      "text/html": [
       "<div>\n",
       "<style scoped>\n",
       "    .dataframe tbody tr th:only-of-type {\n",
       "        vertical-align: middle;\n",
       "    }\n",
       "\n",
       "    .dataframe tbody tr th {\n",
       "        vertical-align: top;\n",
       "    }\n",
       "\n",
       "    .dataframe thead th {\n",
       "        text-align: right;\n",
       "    }\n",
       "</style>\n",
       "<table border=\"1\" class=\"dataframe\">\n",
       "  <thead>\n",
       "    <tr style=\"text-align: right;\">\n",
       "      <th></th>\n",
       "      <th>id</th>\n",
       "      <th>title</th>\n",
       "      <th>Rating</th>\n",
       "      <th>maincateg</th>\n",
       "      <th>platform</th>\n",
       "      <th>price1</th>\n",
       "      <th>actprice1</th>\n",
       "      <th>Offer %</th>\n",
       "      <th>norating1</th>\n",
       "      <th>noreviews1</th>\n",
       "      <th>star_5f</th>\n",
       "      <th>star_4f</th>\n",
       "      <th>star_3f</th>\n",
       "      <th>star_2f</th>\n",
       "      <th>star_1f</th>\n",
       "      <th>fulfilled1</th>\n",
       "    </tr>\n",
       "  </thead>\n",
       "  <tbody>\n",
       "    <tr>\n",
       "      <th>0</th>\n",
       "      <td>16695</td>\n",
       "      <td>Fashionable &amp; Comfortable Bellies For Women  (...</td>\n",
       "      <td>3.9</td>\n",
       "      <td>Women</td>\n",
       "      <td>Flipkart</td>\n",
       "      <td>698</td>\n",
       "      <td>999</td>\n",
       "      <td>30.13%</td>\n",
       "      <td>38.0</td>\n",
       "      <td>7.0</td>\n",
       "      <td>17.0</td>\n",
       "      <td>9.0</td>\n",
       "      <td>6.0</td>\n",
       "      <td>3</td>\n",
       "      <td>3</td>\n",
       "      <td>0</td>\n",
       "    </tr>\n",
       "    <tr>\n",
       "      <th>1</th>\n",
       "      <td>5120</td>\n",
       "      <td>Combo Pack of 4 Casual Shoes Sneakers For Men ...</td>\n",
       "      <td>3.8</td>\n",
       "      <td>Men</td>\n",
       "      <td>Flipkart</td>\n",
       "      <td>999</td>\n",
       "      <td>1999</td>\n",
       "      <td>50.03%</td>\n",
       "      <td>531.0</td>\n",
       "      <td>69.0</td>\n",
       "      <td>264.0</td>\n",
       "      <td>92.0</td>\n",
       "      <td>73.0</td>\n",
       "      <td>29</td>\n",
       "      <td>73</td>\n",
       "      <td>1</td>\n",
       "    </tr>\n",
       "    <tr>\n",
       "      <th>2</th>\n",
       "      <td>18391</td>\n",
       "      <td>Cilia Mode Leo Sneakers For Women  (White)</td>\n",
       "      <td>4.4</td>\n",
       "      <td>Women</td>\n",
       "      <td>Flipkart</td>\n",
       "      <td>2749</td>\n",
       "      <td>4999</td>\n",
       "      <td>45.01%</td>\n",
       "      <td>17.0</td>\n",
       "      <td>4.0</td>\n",
       "      <td>11.0</td>\n",
       "      <td>3.0</td>\n",
       "      <td>2.0</td>\n",
       "      <td>1</td>\n",
       "      <td>0</td>\n",
       "      <td>1</td>\n",
       "    </tr>\n",
       "    <tr>\n",
       "      <th>3</th>\n",
       "      <td>495</td>\n",
       "      <td>Men Black Sports Sandal</td>\n",
       "      <td>4.2</td>\n",
       "      <td>Men</td>\n",
       "      <td>Flipkart</td>\n",
       "      <td>518</td>\n",
       "      <td>724</td>\n",
       "      <td>15.85%</td>\n",
       "      <td>46413.0</td>\n",
       "      <td>6229.0</td>\n",
       "      <td>1045.0</td>\n",
       "      <td>12416.0</td>\n",
       "      <td>5352.0</td>\n",
       "      <td>701</td>\n",
       "      <td>4595</td>\n",
       "      <td>1</td>\n",
       "    </tr>\n",
       "    <tr>\n",
       "      <th>4</th>\n",
       "      <td>16408</td>\n",
       "      <td>Men Green Sports Sandal</td>\n",
       "      <td>3.9</td>\n",
       "      <td>Men</td>\n",
       "      <td>Flipkart</td>\n",
       "      <td>1379</td>\n",
       "      <td>2299</td>\n",
       "      <td>40.02%</td>\n",
       "      <td>77.0</td>\n",
       "      <td>3.0</td>\n",
       "      <td>35.0</td>\n",
       "      <td>21.0</td>\n",
       "      <td>7.0</td>\n",
       "      <td>7</td>\n",
       "      <td>7</td>\n",
       "      <td>1</td>\n",
       "    </tr>\n",
       "  </tbody>\n",
       "</table>\n",
       "</div>"
      ],
      "text/plain": [
       "      id                                              title  Rating maincateg  \\\n",
       "0  16695  Fashionable & Comfortable Bellies For Women  (...     3.9     Women   \n",
       "1   5120  Combo Pack of 4 Casual Shoes Sneakers For Men ...     3.8       Men   \n",
       "2  18391         Cilia Mode Leo Sneakers For Women  (White)     4.4     Women   \n",
       "3    495                            Men Black Sports Sandal     4.2       Men   \n",
       "4  16408                            Men Green Sports Sandal     3.9       Men   \n",
       "\n",
       "   platform  price1  actprice1 Offer %  norating1  noreviews1  star_5f  \\\n",
       "0  Flipkart     698        999  30.13%       38.0         7.0     17.0   \n",
       "1  Flipkart     999       1999  50.03%      531.0        69.0    264.0   \n",
       "2  Flipkart    2749       4999  45.01%       17.0         4.0     11.0   \n",
       "3  Flipkart     518        724  15.85%    46413.0      6229.0   1045.0   \n",
       "4  Flipkart    1379       2299  40.02%       77.0         3.0     35.0   \n",
       "\n",
       "   star_4f  star_3f  star_2f  star_1f  fulfilled1  \n",
       "0      9.0      6.0        3        3           0  \n",
       "1     92.0     73.0       29       73           1  \n",
       "2      3.0      2.0        1        0           1  \n",
       "3  12416.0   5352.0      701     4595           1  \n",
       "4     21.0      7.0        7        7           1  "
      ]
     },
     "execution_count": 3,
     "metadata": {},
     "output_type": "execute_result"
    }
   ],
   "source": [
    "df_train.head()"
   ]
  },
  {
   "cell_type": "markdown",
   "metadata": {},
   "source": [
    "- Renaming the columns name"
   ]
  },
  {
   "cell_type": "code",
   "execution_count": 4,
   "metadata": {},
   "outputs": [],
   "source": [
    "col = ['id', 'title', 'rating', 'main_category', 'platform', 'final_price', 'actual_price',\n",
    "       'offer_per', 'norating', 'noreviews', 'five_star', 'four_star', 'three_star',\n",
    "       'two_star', 'one_star', 'fulfilled']\n",
    "df_train.columns = col"
   ]
  },
  {
   "cell_type": "code",
   "execution_count": 5,
   "metadata": {},
   "outputs": [],
   "source": [
    "col = ['id', 'title', 'rating', 'main_category', 'platform', 'actual_price',\n",
    "       'norating', 'noreviews', 'five_star', 'four_star', 'three_star', 'two_star',\n",
    "       'one_star', 'fulfilled']\n",
    "df_test.columns = col"
   ]
  },
  {
   "cell_type": "markdown",
   "metadata": {},
   "source": [
    "## Cleaning the data"
   ]
  },
  {
   "cell_type": "markdown",
   "metadata": {},
   "source": [
    "- Removing the % symbol from the offer_per feature and converting it to float"
   ]
  },
  {
   "cell_type": "code",
   "execution_count": 6,
   "metadata": {},
   "outputs": [],
   "source": [
    "df_train['offer_per'] =df_train.offer_per.apply(lambda x: x.replace('%', '')).astype(float)"
   ]
  },
  {
   "cell_type": "code",
   "execution_count": 7,
   "metadata": {},
   "outputs": [
    {
     "name": "stdout",
     "output_type": "stream",
     "text": [
      "<class 'pandas.core.frame.DataFrame'>\n",
      "RangeIndex: 15730 entries, 0 to 15729\n",
      "Data columns (total 16 columns):\n",
      " #   Column         Non-Null Count  Dtype  \n",
      "---  ------         --------------  -----  \n",
      " 0   id             15730 non-null  int64  \n",
      " 1   title          15730 non-null  object \n",
      " 2   rating         15730 non-null  float64\n",
      " 3   main_category  15204 non-null  object \n",
      " 4   platform       15730 non-null  object \n",
      " 5   final_price    15730 non-null  int64  \n",
      " 6   actual_price   15730 non-null  int64  \n",
      " 7   offer_per      15730 non-null  float64\n",
      " 8   norating       15052 non-null  float64\n",
      " 9   noreviews      15152 non-null  float64\n",
      " 10  five_star      15142 non-null  float64\n",
      " 11  four_star      15191 non-null  float64\n",
      " 12  three_star     15499 non-null  float64\n",
      " 13  two_star       15730 non-null  int64  \n",
      " 14  one_star       15730 non-null  int64  \n",
      " 15  fulfilled      15730 non-null  int64  \n",
      "dtypes: float64(7), int64(6), object(3)\n",
      "memory usage: 1.9+ MB\n"
     ]
    }
   ],
   "source": [
    "df_train.info()"
   ]
  },
  {
   "cell_type": "code",
   "execution_count": 8,
   "metadata": {},
   "outputs": [
    {
     "data": {
      "text/plain": [
       "id                 0\n",
       "title              0\n",
       "rating             0\n",
       "main_category    526\n",
       "platform           0\n",
       "final_price        0\n",
       "actual_price       0\n",
       "offer_per          0\n",
       "norating         678\n",
       "noreviews        578\n",
       "five_star        588\n",
       "four_star        539\n",
       "three_star       231\n",
       "two_star           0\n",
       "one_star           0\n",
       "fulfilled          0\n",
       "dtype: int64"
      ]
     },
     "execution_count": 8,
     "metadata": {},
     "output_type": "execute_result"
    }
   ],
   "source": [
    "df_train.isna().sum()"
   ]
  },
  {
   "cell_type": "code",
   "execution_count": 9,
   "metadata": {},
   "outputs": [
    {
     "data": {
      "text/plain": [
       "id                 0\n",
       "title              0\n",
       "rating           203\n",
       "main_category     67\n",
       "platform           0\n",
       "actual_price       0\n",
       "norating           0\n",
       "noreviews          0\n",
       "five_star         68\n",
       "four_star          0\n",
       "three_star         0\n",
       "two_star           0\n",
       "one_star         186\n",
       "fulfilled          0\n",
       "dtype: int64"
      ]
     },
     "execution_count": 9,
     "metadata": {},
     "output_type": "execute_result"
    }
   ],
   "source": [
    "df_test.isna().sum()"
   ]
  },
  {
   "cell_type": "markdown",
   "metadata": {},
   "source": [
    "- Both test and train data have missing values."
   ]
  },
  {
   "cell_type": "markdown",
   "metadata": {},
   "source": [
    "### Maincategory"
   ]
  },
  {
   "cell_type": "markdown",
   "metadata": {},
   "source": [
    "Collecting the Keywords ('Men and Women') from the title "
   ]
  },
  {
   "cell_type": "code",
   "execution_count": 10,
   "metadata": {},
   "outputs": [],
   "source": [
    "def get_keword(title):\n",
    "    if ( \"women\"  in title.lower() ) or ( \"girl\"  in title.lower() ): # Checking Women first as Men word is present in Women\n",
    "        return \"Women\"\n",
    "    elif ( \"men\"  in title.lower() ) or ( \"boy\"  in title.lower() ):\n",
    "        return \"Men\"\n",
    "    else:  #if Neither Men nor Women is in main_category then returning Other\n",
    "        return 'Other'"
   ]
  },
  {
   "cell_type": "code",
   "execution_count": 11,
   "metadata": {},
   "outputs": [
    {
     "data": {
      "text/plain": [
       "(array(['Men', 'Other', 'Women'], dtype='<U5'), array([5851, 1590, 8289]))"
      ]
     },
     "execution_count": 11,
     "metadata": {},
     "output_type": "execute_result"
    }
   ],
   "source": [
    "np.unique(np.vectorize(get_keword)(df_train['title']), return_counts=True)"
   ]
  },
  {
   "cell_type": "code",
   "execution_count": 12,
   "metadata": {},
   "outputs": [],
   "source": [
    "def main_category(cat,title_):\n",
    "    if pd.notna(cat):\n",
    "        return cat\n",
    "    elif pd.isna(cat):  # Replacing the main_category with the keyword only if it is Nan type\n",
    "        return get_keword(title_)  "
   ]
  },
  {
   "cell_type": "code",
   "execution_count": 13,
   "metadata": {},
   "outputs": [
    {
     "data": {
      "text/plain": [
       "(array(['Men', 'Other', 'Women'], dtype='<U5'), array([6615,   56, 9059]))"
      ]
     },
     "execution_count": 13,
     "metadata": {},
     "output_type": "execute_result"
    }
   ],
   "source": [
    "np.unique(np.vectorize(main_category)(df_train['main_category'],df_train['title']), return_counts=True)"
   ]
  },
  {
   "cell_type": "markdown",
   "metadata": {},
   "source": [
    "- As we see that after applying this only 56  'nan' main_category will remain left names as 'Other' hence going for this"
   ]
  },
  {
   "cell_type": "code",
   "execution_count": 14,
   "metadata": {},
   "outputs": [],
   "source": [
    "df_train['main_category'] = np.vectorize(main_category)(df_train['main_category'],df_train['title'])"
   ]
  },
  {
   "cell_type": "markdown",
   "metadata": {},
   "source": [
    "- Applying the same for test dataset"
   ]
  },
  {
   "cell_type": "code",
   "execution_count": 15,
   "metadata": {},
   "outputs": [
    {
     "data": {
      "text/plain": [
       "(array(['Men', 'Other', 'Women'], dtype='<U5'), array([2169,    7, 3068]))"
      ]
     },
     "execution_count": 15,
     "metadata": {},
     "output_type": "execute_result"
    }
   ],
   "source": [
    "np.unique(np.vectorize(main_category)(df_test['main_category'],df_test['title']), return_counts=True)"
   ]
  },
  {
   "cell_type": "code",
   "execution_count": 16,
   "metadata": {},
   "outputs": [],
   "source": [
    "df_test['main_category'] = np.vectorize(main_category)(df_test['main_category'],df_test['title'])"
   ]
  },
  {
   "cell_type": "code",
   "execution_count": 17,
   "metadata": {},
   "outputs": [
    {
     "data": {
      "text/plain": [
       "(0.0, 60.0)"
      ]
     },
     "execution_count": 17,
     "metadata": {},
     "output_type": "execute_result"
    },
    {
     "data": {
      "image/png": "[encoded data removed]",
      "text/plain": [
       "<Figure size 1152x432 with 2 Axes>"
      ]
     },
     "metadata": {
      "needs_background": "light"
     },
     "output_type": "display_data"
    }
   ],
   "source": [
    "fig, ax = plt.subplots(figsize=(16,6), ncols=2)\n",
    "sns.countplot(x='platform', data=df_train,hue='main_category', ax=ax[0])\n",
    "sns.countplot(x='platform', data=df_train,hue='main_category', ax=ax[1])\n",
    "plt.ylim(0,60)"
   ]
  },
  {
   "cell_type": "markdown",
   "metadata": {},
   "source": [
    "- Found That very few products are sold on Amazon"
   ]
  },
  {
   "cell_type": "code",
   "execution_count": 18,
   "metadata": {},
   "outputs": [
    {
     "data": {
      "text/plain": [
       "<AxesSubplot:xlabel='main_category', ylabel='offer_per'>"
      ]
     },
     "execution_count": 18,
     "metadata": {},
     "output_type": "execute_result"
    },
    {
     "data": {
      "image/png": "[encoded data removed]",
      "text/plain": [
       "<Figure size 432x288 with 1 Axes>"
      ]
     },
     "metadata": {
      "needs_background": "light"
     },
     "output_type": "display_data"
    }
   ],
   "source": [
    "sns.boxplot(x='main_category', y='offer_per', data=df_train,hue='platform')"
   ]
  },
  {
   "cell_type": "markdown",
   "metadata": {},
   "source": [
    "- No pattern is found in the above analysis,\n",
    "let's see if we can find anything in the data"
   ]
  },
  {
   "cell_type": "markdown",
   "metadata": {},
   "source": [
    "- Found that there are few keywords used in the title of the products"
   ]
  },
  {
   "cell_type": "code",
   "execution_count": 19,
   "metadata": {},
   "outputs": [
    {
     "data": {
      "text/plain": [
       "Men      330\n",
       "Women    248\n",
       "Other     17\n",
       "Name: main_category, dtype: int64"
      ]
     },
     "execution_count": 19,
     "metadata": {},
     "output_type": "execute_result"
    }
   ],
   "source": [
    "df_train[df_train.apply(lambda x:True if 'Slides' in x['title'] else False, axis=1)]['main_category'].value_counts()"
   ]
  },
  {
   "cell_type": "code",
   "execution_count": 20,
   "metadata": {},
   "outputs": [
    {
     "data": {
      "text/plain": [
       "Women    355\n",
       "Men      266\n",
       "Other     18\n",
       "Name: main_category, dtype: int64"
      ]
     },
     "execution_count": 20,
     "metadata": {},
     "output_type": "execute_result"
    }
   ],
   "source": [
    "df_train[df_train.apply(lambda x:True if 'Slippers' in x['title'] else False, axis=1)]['main_category'].value_counts()"
   ]
  },
  {
   "cell_type": "code",
   "execution_count": 21,
   "metadata": {},
   "outputs": [
    {
     "data": {
      "text/plain": [
       "Women    436\n",
       "Men      410\n",
       "Other     18\n",
       "Name: main_category, dtype: int64"
      ]
     },
     "execution_count": 21,
     "metadata": {},
     "output_type": "execute_result"
    }
   ],
   "source": [
    "df_train[df_train.apply(lambda x:True if 'Flip Flop' in x['title'] else False, axis=1)]['main_category'].value_counts()"
   ]
  },
  {
   "cell_type": "code",
   "execution_count": 22,
   "metadata": {},
   "outputs": [
    {
     "data": {
      "text/plain": [
       "Women    3\n",
       "Other    1\n",
       "Name: main_category, dtype: int64"
      ]
     },
     "execution_count": 22,
     "metadata": {},
     "output_type": "execute_result"
    }
   ],
   "source": [
    "df_train[df_train.apply(lambda x:True if 'Gliders' in x['title'] else False, axis=1)]['main_category'].value_counts()"
   ]
  },
  {
   "cell_type": "markdown",
   "metadata": {},
   "source": [
    "- from above we can fill the main_category by the mode of the main_category in the train dataset on the basis of the keywords in the title like ('Slippers' , 'Slides' , 'Flip Flop')"
   ]
  },
  {
   "cell_type": "code",
   "execution_count": 23,
   "metadata": {},
   "outputs": [],
   "source": [
    "def find_mode(word):\n",
    "    return df_train[df_train.apply(lambda x:True if word in x['title'] else False, axis=1)]['main_category'].mode()[0]\n",
    "\n",
    "def replace_by_other_keywords(cat, title):\n",
    "    if cat == \"Other\":\n",
    "        \n",
    "        if 'Slippers' in title:\n",
    "            return find_mode('Slippers')\n",
    "        elif 'Flip Flop' in title:\n",
    "            return find_mode('Flip Flop')\n",
    "        elif 'Gliders' in title:\n",
    "            return find_mode('Gliders')\n",
    "        elif 'Slides' in title:\n",
    "            return find_mode('Slides')\n",
    "        else:\n",
    "            return cat\n",
    "    else:\n",
    "        return cat"
   ]
  },
  {
   "cell_type": "code",
   "execution_count": 24,
   "metadata": {},
   "outputs": [],
   "source": [
    "df_train['main_category'] = np.vectorize(replace_by_other_keywords)(df_train['main_category'],df_train['title'])"
   ]
  },
  {
   "cell_type": "code",
   "execution_count": 25,
   "metadata": {},
   "outputs": [
    {
     "data": {
      "text/plain": [
       "Women    9096\n",
       "Men      6632\n",
       "Other       2\n",
       "Name: main_category, dtype: int64"
      ]
     },
     "execution_count": 25,
     "metadata": {},
     "output_type": "execute_result"
    }
   ],
   "source": [
    "df_train['main_category'].value_counts()"
   ]
  },
  {
   "cell_type": "code",
   "execution_count": 26,
   "metadata": {},
   "outputs": [],
   "source": [
    "df_test['main_category'] = np.vectorize(replace_by_other_keywords)(df_test['main_category'],df_test['title'])"
   ]
  },
  {
   "cell_type": "code",
   "execution_count": 27,
   "metadata": {},
   "outputs": [
    {
     "data": {
      "text/plain": [
       "Women    3073\n",
       "Men      2171\n",
       "Name: main_category, dtype: int64"
      ]
     },
     "execution_count": 27,
     "metadata": {},
     "output_type": "execute_result"
    }
   ],
   "source": [
    "df_test['main_category'].value_counts()"
   ]
  },
  {
   "cell_type": "markdown",
   "metadata": {},
   "source": [
    "- As of now we hve filled almost all the missing values in the main_category column , except 2 left in trainingset, let's see them in detail"
   ]
  },
  {
   "cell_type": "code",
   "execution_count": 28,
   "metadata": {},
   "outputs": [
    {
     "data": {
      "text/html": [
       "<div>\n",
       "<style scoped>\n",
       "    .dataframe tbody tr th:only-of-type {\n",
       "        vertical-align: middle;\n",
       "    }\n",
       "\n",
       "    .dataframe tbody tr th {\n",
       "        vertical-align: top;\n",
       "    }\n",
       "\n",
       "    .dataframe thead th {\n",
       "        text-align: right;\n",
       "    }\n",
       "</style>\n",
       "<table border=\"1\" class=\"dataframe\">\n",
       "  <thead>\n",
       "    <tr style=\"text-align: right;\">\n",
       "      <th></th>\n",
       "      <th>id</th>\n",
       "      <th>title</th>\n",
       "      <th>rating</th>\n",
       "      <th>main_category</th>\n",
       "      <th>platform</th>\n",
       "      <th>final_price</th>\n",
       "      <th>actual_price</th>\n",
       "      <th>offer_per</th>\n",
       "      <th>norating</th>\n",
       "      <th>noreviews</th>\n",
       "      <th>five_star</th>\n",
       "      <th>four_star</th>\n",
       "      <th>three_star</th>\n",
       "      <th>two_star</th>\n",
       "      <th>one_star</th>\n",
       "      <th>fulfilled</th>\n",
       "    </tr>\n",
       "  </thead>\n",
       "  <tbody>\n",
       "    <tr>\n",
       "      <th>5885</th>\n",
       "      <td>17515</td>\n",
       "      <td>crocs Unisex's Classic Clogs</td>\n",
       "      <td>4.3</td>\n",
       "      <td>Other</td>\n",
       "      <td>Amazon</td>\n",
       "      <td>1494</td>\n",
       "      <td>2495</td>\n",
       "      <td>40.12</td>\n",
       "      <td>NaN</td>\n",
       "      <td>NaN</td>\n",
       "      <td>NaN</td>\n",
       "      <td>NaN</td>\n",
       "      <td>NaN</td>\n",
       "      <td>23</td>\n",
       "      <td>62</td>\n",
       "      <td>0</td>\n",
       "    </tr>\n",
       "    <tr>\n",
       "      <th>10461</th>\n",
       "      <td>9108</td>\n",
       "      <td>ASIAN Captain-12 Latest Casual Sneakers,Lace u...</td>\n",
       "      <td>3.7</td>\n",
       "      <td>Other</td>\n",
       "      <td>Amazon</td>\n",
       "      <td>599</td>\n",
       "      <td>674</td>\n",
       "      <td>11.13</td>\n",
       "      <td>NaN</td>\n",
       "      <td>NaN</td>\n",
       "      <td>NaN</td>\n",
       "      <td>NaN</td>\n",
       "      <td>12.0</td>\n",
       "      <td>34</td>\n",
       "      <td>32</td>\n",
       "      <td>1</td>\n",
       "    </tr>\n",
       "  </tbody>\n",
       "</table>\n",
       "</div>"
      ],
      "text/plain": [
       "          id                                              title  rating  \\\n",
       "5885   17515                       crocs Unisex's Classic Clogs     4.3   \n",
       "10461   9108  ASIAN Captain-12 Latest Casual Sneakers,Lace u...     3.7   \n",
       "\n",
       "      main_category platform  final_price  actual_price  offer_per  norating  \\\n",
       "5885          Other   Amazon         1494          2495      40.12       NaN   \n",
       "10461         Other   Amazon          599           674      11.13       NaN   \n",
       "\n",
       "       noreviews  five_star  four_star  three_star  two_star  one_star  \\\n",
       "5885         NaN        NaN        NaN         NaN        23        62   \n",
       "10461        NaN        NaN        NaN        12.0        34        32   \n",
       "\n",
       "       fulfilled  \n",
       "5885           0  \n",
       "10461          1  "
      ]
     },
     "execution_count": 28,
     "metadata": {},
     "output_type": "execute_result"
    }
   ],
   "source": [
    "df_train[df_train['main_category'] == 'Other']"
   ]
  },
  {
   "cell_type": "markdown",
   "metadata": {},
   "source": [
    "- As both of them are likely to be a Unisex Product and most of the values are missing in both of them , we don't have any such product in Test dataset, hence Dopping them"
   ]
  },
  {
   "cell_type": "code",
   "execution_count": 29,
   "metadata": {},
   "outputs": [],
   "source": [
    "df_train = df_train.drop(index=[5885,10461])"
   ]
  },
  {
   "cell_type": "markdown",
   "metadata": {},
   "source": [
    "- Hence it's done with the main_category column let's move to another column"
   ]
  },
  {
   "cell_type": "markdown",
   "metadata": {},
   "source": [
    "### one_star / two_star / three_star / four_star / five_star"
   ]
  },
  {
   "cell_type": "markdown",
   "metadata": {},
   "source": [
    "- As these nan values can be filled with zero because it is possible that these products haven't been given that particular star rating"
   ]
  },
  {
   "cell_type": "code",
   "execution_count": 30,
   "metadata": {},
   "outputs": [
    {
     "data": {
      "text/plain": [
       "rating          0\n",
       "norating      676\n",
       "five_star     586\n",
       "four_star     537\n",
       "three_star    230\n",
       "two_star        0\n",
       "one_star        0\n",
       "dtype: int64"
      ]
     },
     "execution_count": 30,
     "metadata": {},
     "output_type": "execute_result"
    }
   ],
   "source": [
    "df_train[['rating','norating','five_star','four_star','three_star','two_star','one_star']].isna().sum()"
   ]
  },
  {
   "cell_type": "code",
   "execution_count": 31,
   "metadata": {},
   "outputs": [
    {
     "data": {
      "text/plain": [
       "rating        203\n",
       "norating        0\n",
       "five_star      68\n",
       "four_star       0\n",
       "three_star      0\n",
       "two_star        0\n",
       "one_star      186\n",
       "dtype: int64"
      ]
     },
     "execution_count": 31,
     "metadata": {},
     "output_type": "execute_result"
    }
   ],
   "source": [
    "df_test[['rating','norating','five_star','four_star','three_star','two_star','one_star']].isna().sum()"
   ]
  },
  {
   "cell_type": "markdown",
   "metadata": {},
   "source": [
    "- We know that norating is the sum of one_star, two_star, three_star, four_star, five_star\n",
    "- Hence calculating those star values in which any one of the star has missing values provided that norating is not zero"
   ]
  },
  {
   "cell_type": "code",
   "execution_count": 32,
   "metadata": {},
   "outputs": [],
   "source": [
    "import math"
   ]
  },
  {
   "cell_type": "code",
   "execution_count": 33,
   "metadata": {},
   "outputs": [],
   "source": [
    "def fill_single_star(df):\n",
    "    if not math.isnan(df['norating']):\n",
    "        stars = ['one_star','two_star','three_star','four_star','five_star']\n",
    "        for i in range(len(stars)):\n",
    "            if pd.isna(df[stars[i%5]]) & pd.notna(df[stars[(i+1)%5]]) & pd.notna(df[stars[(i+2)%5]]) & pd.notna(df[stars[(i+3)%5]]) & pd.notna(df[stars[(i+4)%5]]):\n",
    "                sum = df[stars[(i+1)%5]] + df[stars[(i+2)%5]] + df[stars[(i+3)%5]] + df[stars[(i+4)%5]]\n",
    "                df[stars[i%5]] = df['norating'] - sum\n",
    "        return df\n",
    "    else:\n",
    "        return df"
   ]
  },
  {
   "cell_type": "code",
   "execution_count": 34,
   "metadata": {},
   "outputs": [],
   "source": [
    "df_train = df_train.apply(lambda x: fill_single_star(x), axis=1)"
   ]
  },
  {
   "cell_type": "code",
   "execution_count": 35,
   "metadata": {},
   "outputs": [
    {
     "data": {
      "text/plain": [
       "rating          0\n",
       "norating      676\n",
       "five_star     567\n",
       "four_star     526\n",
       "three_star    225\n",
       "two_star        0\n",
       "one_star        0\n",
       "dtype: int64"
      ]
     },
     "execution_count": 35,
     "metadata": {},
     "output_type": "execute_result"
    }
   ],
   "source": [
    "df_train[['rating','norating','five_star','four_star','three_star','two_star','one_star']].isna().sum()"
   ]
  },
  {
   "cell_type": "code",
   "execution_count": 36,
   "metadata": {},
   "outputs": [],
   "source": [
    "df_test = df_test.apply(lambda x: fill_single_star(x), axis=1)"
   ]
  },
  {
   "cell_type": "code",
   "execution_count": 37,
   "metadata": {},
   "outputs": [
    {
     "data": {
      "text/plain": [
       "rating        203\n",
       "norating        0\n",
       "five_star      45\n",
       "four_star       0\n",
       "three_star      0\n",
       "two_star        0\n",
       "one_star       45\n",
       "dtype: int64"
      ]
     },
     "execution_count": 37,
     "metadata": {},
     "output_type": "execute_result"
    }
   ],
   "source": [
    "df_test[['rating','norating','five_star','four_star','three_star','two_star','one_star']].isna().sum()"
   ]
  },
  {
   "cell_type": "markdown",
   "metadata": {},
   "source": [
    "- Now considering those rows where norating and rating both are not null and two of the stars are null\n",
    "- In this case we have two equation and two variable , hence we can solve that equation and find the stars value"
   ]
  },
  {
   "cell_type": "code",
   "execution_count": 38,
   "metadata": {},
   "outputs": [],
   "source": [
    "def fill_double_star(df):\n",
    "    if (not math.isnan(df['norating'])) & (not math.isnan(df['rating'])):\n",
    "        stars = ['one_star','two_star','three_star','four_star','five_star']\n",
    "        value = {'one_star':1,'two_star':2,'three_star':3,'four_star':4,'five_star':5}\n",
    "        for i in range(len(stars) - 1):\n",
    "            for j in range(i+1, len(stars)):\n",
    "                if pd.isna(df[stars[i%5]]) & pd.isna(df[stars[(j)%5]]) & pd.notna(df[stars[(j+1)%5]]) & pd.notna(df[stars[(j+2)%5]]) & pd.notna(df[stars[(j+3)%5]]):\n",
    "                    sum = df[stars[(j+1)%5]] + df[stars[(j+2)%5]] + df[stars[(j+3)%5]]\n",
    "                    weighted_sum = value[stars[(j+1)%5]]*df[stars[(j+1)%5]] +  value[stars[(j+2)%5]]*df[stars[(j+2)%5]] +  value[stars[(j+3)%5]]*df[stars[(j+3)%5]]\n",
    "                    \n",
    "                    \n",
    "                    left_sum = df['norating'] - sum                     #             df[stars[i%5]] +             df[stars[j%5]] = left_sum \n",
    "                    left_weighted_sum = df['norating']*df['rating'] - weighted_sum   # ( (i+1)%5 )*df[stars[i%5]] + ( (j+1)%5 )*df[stars[j%5]] = left_weighted_sum\n",
    "\n",
    "\n",
    "                    df[stars[i%5]] = (-( (j+1)%6 )*left_sum + left_weighted_sum  )/ ( (i-j) )\n",
    "                    df[stars[j%5]] = (-( (i+1)%6 )*left_sum + left_weighted_sum  )/ ( (j-i) )\n",
    "        return df\n",
    "    else:\n",
    "        return df"
   ]
  },
  {
   "cell_type": "code",
   "execution_count": 39,
   "metadata": {},
   "outputs": [],
   "source": [
    "df_train = df_train.apply(lambda x: fill_double_star(x), axis=1)"
   ]
  },
  {
   "cell_type": "code",
   "execution_count": 40,
   "metadata": {},
   "outputs": [
    {
     "data": {
      "text/plain": [
       "rating          0\n",
       "norating      676\n",
       "five_star     531\n",
       "four_star     482\n",
       "three_star    217\n",
       "two_star        0\n",
       "one_star        0\n",
       "dtype: int64"
      ]
     },
     "execution_count": 40,
     "metadata": {},
     "output_type": "execute_result"
    }
   ],
   "source": [
    "df_train[['rating','norating','five_star','four_star','three_star','two_star','one_star']].isna().sum()"
   ]
  },
  {
   "cell_type": "code",
   "execution_count": 41,
   "metadata": {},
   "outputs": [],
   "source": [
    "df_test = df_test.apply(lambda x: fill_double_star(x), axis=1)"
   ]
  },
  {
   "cell_type": "code",
   "execution_count": 42,
   "metadata": {},
   "outputs": [
    {
     "data": {
      "text/plain": [
       "rating        203\n",
       "norating        0\n",
       "five_star      45\n",
       "four_star       0\n",
       "three_star      0\n",
       "two_star        0\n",
       "one_star       45\n",
       "dtype: int64"
      ]
     },
     "execution_count": 42,
     "metadata": {},
     "output_type": "execute_result"
    }
   ],
   "source": [
    "df_test[['rating','norating','five_star','four_star','three_star','two_star','one_star']].isna().sum()"
   ]
  },
  {
   "cell_type": "markdown",
   "metadata": {},
   "source": [
    "- By this way we got very less values filled by this technique, let's see if we can do anything else"
   ]
  },
  {
   "cell_type": "code",
   "execution_count": 43,
   "metadata": {},
   "outputs": [
    {
     "data": {
      "text/html": [
       "<div>\n",
       "<style scoped>\n",
       "    .dataframe tbody tr th:only-of-type {\n",
       "        vertical-align: middle;\n",
       "    }\n",
       "\n",
       "    .dataframe tbody tr th {\n",
       "        vertical-align: top;\n",
       "    }\n",
       "\n",
       "    .dataframe thead th {\n",
       "        text-align: right;\n",
       "    }\n",
       "</style>\n",
       "<table border=\"1\" class=\"dataframe\">\n",
       "  <thead>\n",
       "    <tr style=\"text-align: right;\">\n",
       "      <th></th>\n",
       "      <th>id</th>\n",
       "      <th>rating</th>\n",
       "      <th>final_price</th>\n",
       "      <th>actual_price</th>\n",
       "      <th>offer_per</th>\n",
       "      <th>norating</th>\n",
       "      <th>noreviews</th>\n",
       "      <th>five_star</th>\n",
       "      <th>four_star</th>\n",
       "      <th>three_star</th>\n",
       "      <th>two_star</th>\n",
       "      <th>one_star</th>\n",
       "      <th>fulfilled</th>\n",
       "    </tr>\n",
       "  </thead>\n",
       "  <tbody>\n",
       "    <tr>\n",
       "      <th>count</th>\n",
       "      <td>15728.000000</td>\n",
       "      <td>15728.000000</td>\n",
       "      <td>15728.000000</td>\n",
       "      <td>15728.000000</td>\n",
       "      <td>15728.000000</td>\n",
       "      <td>15052.000000</td>\n",
       "      <td>15152.000000</td>\n",
       "      <td>15197.000000</td>\n",
       "      <td>15246.000000</td>\n",
       "      <td>15511.000000</td>\n",
       "      <td>15728.000000</td>\n",
       "      <td>15728.000000</td>\n",
       "      <td>15728.000000</td>\n",
       "    </tr>\n",
       "    <tr>\n",
       "      <th>mean</th>\n",
       "      <td>10479.181460</td>\n",
       "      <td>4.012875</td>\n",
       "      <td>688.025114</td>\n",
       "      <td>1369.259410</td>\n",
       "      <td>46.805184</td>\n",
       "      <td>3057.660776</td>\n",
       "      <td>423.976307</td>\n",
       "      <td>1593.620991</td>\n",
       "      <td>657.355680</td>\n",
       "      <td>357.306176</td>\n",
       "      <td>155.101284</td>\n",
       "      <td>275.529629</td>\n",
       "      <td>0.601539</td>\n",
       "    </tr>\n",
       "    <tr>\n",
       "      <th>std</th>\n",
       "      <td>6080.284218</td>\n",
       "      <td>0.298439</td>\n",
       "      <td>649.418691</td>\n",
       "      <td>1240.934276</td>\n",
       "      <td>19.267727</td>\n",
       "      <td>11846.965689</td>\n",
       "      <td>1768.230384</td>\n",
       "      <td>6193.343872</td>\n",
       "      <td>2854.452307</td>\n",
       "      <td>1401.884615</td>\n",
       "      <td>558.683947</td>\n",
       "      <td>958.646546</td>\n",
       "      <td>0.489597</td>\n",
       "    </tr>\n",
       "    <tr>\n",
       "      <th>min</th>\n",
       "      <td>3.000000</td>\n",
       "      <td>0.000000</td>\n",
       "      <td>69.000000</td>\n",
       "      <td>42.000000</td>\n",
       "      <td>0.000000</td>\n",
       "      <td>1.000000</td>\n",
       "      <td>0.000000</td>\n",
       "      <td>0.000000</td>\n",
       "      <td>-227.800000</td>\n",
       "      <td>0.000000</td>\n",
       "      <td>0.000000</td>\n",
       "      <td>0.000000</td>\n",
       "      <td>0.000000</td>\n",
       "    </tr>\n",
       "    <tr>\n",
       "      <th>25%</th>\n",
       "      <td>5210.750000</td>\n",
       "      <td>3.900000</td>\n",
       "      <td>349.000000</td>\n",
       "      <td>699.000000</td>\n",
       "      <td>35.940000</td>\n",
       "      <td>63.000000</td>\n",
       "      <td>9.000000</td>\n",
       "      <td>30.000000</td>\n",
       "      <td>12.000000</td>\n",
       "      <td>7.000000</td>\n",
       "      <td>3.000000</td>\n",
       "      <td>6.000000</td>\n",
       "      <td>0.000000</td>\n",
       "    </tr>\n",
       "    <tr>\n",
       "      <th>50%</th>\n",
       "      <td>10458.500000</td>\n",
       "      <td>4.000000</td>\n",
       "      <td>474.000000</td>\n",
       "      <td>999.000000</td>\n",
       "      <td>50.070000</td>\n",
       "      <td>308.000000</td>\n",
       "      <td>44.000000</td>\n",
       "      <td>151.000000</td>\n",
       "      <td>60.000000</td>\n",
       "      <td>34.000000</td>\n",
       "      <td>17.000000</td>\n",
       "      <td>30.000000</td>\n",
       "      <td>1.000000</td>\n",
       "    </tr>\n",
       "    <tr>\n",
       "      <th>75%</th>\n",
       "      <td>15766.250000</td>\n",
       "      <td>4.200000</td>\n",
       "      <td>699.000000</td>\n",
       "      <td>1299.000000</td>\n",
       "      <td>60.160000</td>\n",
       "      <td>1526.000000</td>\n",
       "      <td>215.000000</td>\n",
       "      <td>789.000000</td>\n",
       "      <td>301.000000</td>\n",
       "      <td>172.000000</td>\n",
       "      <td>77.000000</td>\n",
       "      <td>140.000000</td>\n",
       "      <td>1.000000</td>\n",
       "    </tr>\n",
       "    <tr>\n",
       "      <th>max</th>\n",
       "      <td>20973.000000</td>\n",
       "      <td>5.000000</td>\n",
       "      <td>5998.000000</td>\n",
       "      <td>13499.000000</td>\n",
       "      <td>88.930000</td>\n",
       "      <td>289973.000000</td>\n",
       "      <td>45448.000000</td>\n",
       "      <td>151193.000000</td>\n",
       "      <td>74037.000000</td>\n",
       "      <td>34978.000000</td>\n",
       "      <td>11705.000000</td>\n",
       "      <td>18060.000000</td>\n",
       "      <td>1.000000</td>\n",
       "    </tr>\n",
       "  </tbody>\n",
       "</table>\n",
       "</div>"
      ],
      "text/plain": [
       "                 id        rating   final_price  actual_price     offer_per  \\\n",
       "count  15728.000000  15728.000000  15728.000000  15728.000000  15728.000000   \n",
       "mean   10479.181460      4.012875    688.025114   1369.259410     46.805184   \n",
       "std     6080.284218      0.298439    649.418691   1240.934276     19.267727   \n",
       "min        3.000000      0.000000     69.000000     42.000000      0.000000   \n",
       "25%     5210.750000      3.900000    349.000000    699.000000     35.940000   \n",
       "50%    10458.500000      4.000000    474.000000    999.000000     50.070000   \n",
       "75%    15766.250000      4.200000    699.000000   1299.000000     60.160000   \n",
       "max    20973.000000      5.000000   5998.000000  13499.000000     88.930000   \n",
       "\n",
       "            norating     noreviews      five_star     four_star    three_star  \\\n",
       "count   15052.000000  15152.000000   15197.000000  15246.000000  15511.000000   \n",
       "mean     3057.660776    423.976307    1593.620991    657.355680    357.306176   \n",
       "std     11846.965689   1768.230384    6193.343872   2854.452307   1401.884615   \n",
       "min         1.000000      0.000000       0.000000   -227.800000      0.000000   \n",
       "25%        63.000000      9.000000      30.000000     12.000000      7.000000   \n",
       "50%       308.000000     44.000000     151.000000     60.000000     34.000000   \n",
       "75%      1526.000000    215.000000     789.000000    301.000000    172.000000   \n",
       "max    289973.000000  45448.000000  151193.000000  74037.000000  34978.000000   \n",
       "\n",
       "           two_star      one_star     fulfilled  \n",
       "count  15728.000000  15728.000000  15728.000000  \n",
       "mean     155.101284    275.529629      0.601539  \n",
       "std      558.683947    958.646546      0.489597  \n",
       "min        0.000000      0.000000      0.000000  \n",
       "25%        3.000000      6.000000      0.000000  \n",
       "50%       17.000000     30.000000      1.000000  \n",
       "75%       77.000000    140.000000      1.000000  \n",
       "max    11705.000000  18060.000000      1.000000  "
      ]
     },
     "execution_count": 43,
     "metadata": {},
     "output_type": "execute_result"
    }
   ],
   "source": [
    "df_train.describe()"
   ]
  },
  {
   "cell_type": "code",
   "execution_count": 44,
   "metadata": {},
   "outputs": [
    {
     "data": {
      "text/html": [
       "<div>\n",
       "<style scoped>\n",
       "    .dataframe tbody tr th:only-of-type {\n",
       "        vertical-align: middle;\n",
       "    }\n",
       "\n",
       "    .dataframe tbody tr th {\n",
       "        vertical-align: top;\n",
       "    }\n",
       "\n",
       "    .dataframe thead th {\n",
       "        text-align: right;\n",
       "    }\n",
       "</style>\n",
       "<table border=\"1\" class=\"dataframe\">\n",
       "  <thead>\n",
       "    <tr style=\"text-align: right;\">\n",
       "      <th></th>\n",
       "      <th>id</th>\n",
       "      <th>rating</th>\n",
       "      <th>actual_price</th>\n",
       "      <th>norating</th>\n",
       "      <th>noreviews</th>\n",
       "      <th>five_star</th>\n",
       "      <th>four_star</th>\n",
       "      <th>three_star</th>\n",
       "      <th>two_star</th>\n",
       "      <th>one_star</th>\n",
       "      <th>fulfilled</th>\n",
       "    </tr>\n",
       "  </thead>\n",
       "  <tbody>\n",
       "    <tr>\n",
       "      <th>count</th>\n",
       "      <td>5244.000000</td>\n",
       "      <td>5041.000000</td>\n",
       "      <td>5244.000000</td>\n",
       "      <td>5244.000000</td>\n",
       "      <td>5244.000000</td>\n",
       "      <td>5199.000000</td>\n",
       "      <td>5244.000000</td>\n",
       "      <td>5244.000000</td>\n",
       "      <td>5244.000000</td>\n",
       "      <td>5199.000000</td>\n",
       "      <td>5244.000000</td>\n",
       "    </tr>\n",
       "    <tr>\n",
       "      <th>mean</th>\n",
       "      <td>10507.372616</td>\n",
       "      <td>4.011089</td>\n",
       "      <td>1378.657895</td>\n",
       "      <td>2988.580092</td>\n",
       "      <td>415.491037</td>\n",
       "      <td>1552.905943</td>\n",
       "      <td>639.785469</td>\n",
       "      <td>356.356789</td>\n",
       "      <td>154.139969</td>\n",
       "      <td>281.350067</td>\n",
       "      <td>0.604500</td>\n",
       "    </tr>\n",
       "    <tr>\n",
       "      <th>std</th>\n",
       "      <td>5978.658892</td>\n",
       "      <td>0.301915</td>\n",
       "      <td>1280.630070</td>\n",
       "      <td>12881.253715</td>\n",
       "      <td>1910.726669</td>\n",
       "      <td>6569.846175</td>\n",
       "      <td>2991.065223</td>\n",
       "      <td>1632.732834</td>\n",
       "      <td>611.006799</td>\n",
       "      <td>1261.297302</td>\n",
       "      <td>0.489004</td>\n",
       "    </tr>\n",
       "    <tr>\n",
       "      <th>min</th>\n",
       "      <td>0.000000</td>\n",
       "      <td>0.000000</td>\n",
       "      <td>139.000000</td>\n",
       "      <td>1.000000</td>\n",
       "      <td>0.000000</td>\n",
       "      <td>0.000000</td>\n",
       "      <td>0.000000</td>\n",
       "      <td>0.000000</td>\n",
       "      <td>0.000000</td>\n",
       "      <td>-5522.000000</td>\n",
       "      <td>0.000000</td>\n",
       "    </tr>\n",
       "    <tr>\n",
       "      <th>25%</th>\n",
       "      <td>5286.750000</td>\n",
       "      <td>3.900000</td>\n",
       "      <td>699.000000</td>\n",
       "      <td>66.000000</td>\n",
       "      <td>9.000000</td>\n",
       "      <td>32.000000</td>\n",
       "      <td>12.000000</td>\n",
       "      <td>7.000000</td>\n",
       "      <td>3.000000</td>\n",
       "      <td>6.000000</td>\n",
       "      <td>0.000000</td>\n",
       "    </tr>\n",
       "    <tr>\n",
       "      <th>50%</th>\n",
       "      <td>10561.500000</td>\n",
       "      <td>4.000000</td>\n",
       "      <td>999.000000</td>\n",
       "      <td>307.000000</td>\n",
       "      <td>44.000000</td>\n",
       "      <td>156.000000</td>\n",
       "      <td>61.000000</td>\n",
       "      <td>34.000000</td>\n",
       "      <td>16.000000</td>\n",
       "      <td>29.000000</td>\n",
       "      <td>1.000000</td>\n",
       "    </tr>\n",
       "    <tr>\n",
       "      <th>75%</th>\n",
       "      <td>15636.750000</td>\n",
       "      <td>4.200000</td>\n",
       "      <td>1299.000000</td>\n",
       "      <td>1428.000000</td>\n",
       "      <td>214.250000</td>\n",
       "      <td>763.500000</td>\n",
       "      <td>310.250000</td>\n",
       "      <td>166.000000</td>\n",
       "      <td>75.000000</td>\n",
       "      <td>132.500000</td>\n",
       "      <td>1.000000</td>\n",
       "    </tr>\n",
       "    <tr>\n",
       "      <th>max</th>\n",
       "      <td>20964.000000</td>\n",
       "      <td>5.000000</td>\n",
       "      <td>15999.000000</td>\n",
       "      <td>289973.000000</td>\n",
       "      <td>45448.000000</td>\n",
       "      <td>151193.000000</td>\n",
       "      <td>74037.000000</td>\n",
       "      <td>49924.000000</td>\n",
       "      <td>12629.000000</td>\n",
       "      <td>49784.000000</td>\n",
       "      <td>1.000000</td>\n",
       "    </tr>\n",
       "  </tbody>\n",
       "</table>\n",
       "</div>"
      ],
      "text/plain": [
       "                 id       rating  actual_price       norating     noreviews  \\\n",
       "count   5244.000000  5041.000000   5244.000000    5244.000000   5244.000000   \n",
       "mean   10507.372616     4.011089   1378.657895    2988.580092    415.491037   \n",
       "std     5978.658892     0.301915   1280.630070   12881.253715   1910.726669   \n",
       "min        0.000000     0.000000    139.000000       1.000000      0.000000   \n",
       "25%     5286.750000     3.900000    699.000000      66.000000      9.000000   \n",
       "50%    10561.500000     4.000000    999.000000     307.000000     44.000000   \n",
       "75%    15636.750000     4.200000   1299.000000    1428.000000    214.250000   \n",
       "max    20964.000000     5.000000  15999.000000  289973.000000  45448.000000   \n",
       "\n",
       "           five_star     four_star    three_star      two_star      one_star  \\\n",
       "count    5199.000000   5244.000000   5244.000000   5244.000000   5199.000000   \n",
       "mean     1552.905943    639.785469    356.356789    154.139969    281.350067   \n",
       "std      6569.846175   2991.065223   1632.732834    611.006799   1261.297302   \n",
       "min         0.000000      0.000000      0.000000      0.000000  -5522.000000   \n",
       "25%        32.000000     12.000000      7.000000      3.000000      6.000000   \n",
       "50%       156.000000     61.000000     34.000000     16.000000     29.000000   \n",
       "75%       763.500000    310.250000    166.000000     75.000000    132.500000   \n",
       "max    151193.000000  74037.000000  49924.000000  12629.000000  49784.000000   \n",
       "\n",
       "         fulfilled  \n",
       "count  5244.000000  \n",
       "mean      0.604500  \n",
       "std       0.489004  \n",
       "min       0.000000  \n",
       "25%       0.000000  \n",
       "50%       1.000000  \n",
       "75%       1.000000  \n",
       "max       1.000000  "
      ]
     },
     "execution_count": 44,
     "metadata": {},
     "output_type": "execute_result"
    }
   ],
   "source": [
    "df_test.describe()"
   ]
  },
  {
   "cell_type": "code",
   "execution_count": 45,
   "metadata": {},
   "outputs": [
    {
     "data": {
      "text/html": [
       "<div>\n",
       "<style scoped>\n",
       "    .dataframe tbody tr th:only-of-type {\n",
       "        vertical-align: middle;\n",
       "    }\n",
       "\n",
       "    .dataframe tbody tr th {\n",
       "        vertical-align: top;\n",
       "    }\n",
       "\n",
       "    .dataframe thead th {\n",
       "        text-align: right;\n",
       "    }\n",
       "</style>\n",
       "<table border=\"1\" class=\"dataframe\">\n",
       "  <thead>\n",
       "    <tr style=\"text-align: right;\">\n",
       "      <th></th>\n",
       "      <th>id</th>\n",
       "      <th>title</th>\n",
       "      <th>rating</th>\n",
       "      <th>main_category</th>\n",
       "      <th>platform</th>\n",
       "      <th>final_price</th>\n",
       "      <th>actual_price</th>\n",
       "      <th>offer_per</th>\n",
       "      <th>norating</th>\n",
       "      <th>noreviews</th>\n",
       "      <th>five_star</th>\n",
       "      <th>four_star</th>\n",
       "      <th>three_star</th>\n",
       "      <th>two_star</th>\n",
       "      <th>one_star</th>\n",
       "      <th>fulfilled</th>\n",
       "    </tr>\n",
       "  </thead>\n",
       "  <tbody>\n",
       "    <tr>\n",
       "      <th>11786</th>\n",
       "      <td>19678</td>\n",
       "      <td>Fila Men's Crante Sneakers</td>\n",
       "      <td>3.8</td>\n",
       "      <td>Men</td>\n",
       "      <td>Amazon</td>\n",
       "      <td>781</td>\n",
       "      <td>1706</td>\n",
       "      <td>54.22</td>\n",
       "      <td>41.0</td>\n",
       "      <td>NaN</td>\n",
       "      <td>188.8</td>\n",
       "      <td>-227.8</td>\n",
       "      <td>11.0</td>\n",
       "      <td>21</td>\n",
       "      <td>48</td>\n",
       "      <td>1</td>\n",
       "    </tr>\n",
       "  </tbody>\n",
       "</table>\n",
       "</div>"
      ],
      "text/plain": [
       "          id                       title  rating main_category platform  \\\n",
       "11786  19678  Fila Men's Crante Sneakers     3.8           Men   Amazon   \n",
       "\n",
       "       final_price  actual_price  offer_per  norating  noreviews  five_star  \\\n",
       "11786          781          1706      54.22      41.0        NaN      188.8   \n",
       "\n",
       "       four_star  three_star  two_star  one_star  fulfilled  \n",
       "11786     -227.8        11.0        21        48          1  "
      ]
     },
     "execution_count": 45,
     "metadata": {},
     "output_type": "execute_result"
    }
   ],
   "source": [
    "df_train[df_train['four_star'] < 0]"
   ]
  },
  {
   "cell_type": "code",
   "execution_count": 46,
   "metadata": {},
   "outputs": [
    {
     "data": {
      "text/html": [
       "<div>\n",
       "<style scoped>\n",
       "    .dataframe tbody tr th:only-of-type {\n",
       "        vertical-align: middle;\n",
       "    }\n",
       "\n",
       "    .dataframe tbody tr th {\n",
       "        vertical-align: top;\n",
       "    }\n",
       "\n",
       "    .dataframe thead th {\n",
       "        text-align: right;\n",
       "    }\n",
       "</style>\n",
       "<table border=\"1\" class=\"dataframe\">\n",
       "  <thead>\n",
       "    <tr style=\"text-align: right;\">\n",
       "      <th></th>\n",
       "      <th>id</th>\n",
       "      <th>title</th>\n",
       "      <th>rating</th>\n",
       "      <th>main_category</th>\n",
       "      <th>platform</th>\n",
       "      <th>actual_price</th>\n",
       "      <th>norating</th>\n",
       "      <th>noreviews</th>\n",
       "      <th>five_star</th>\n",
       "      <th>four_star</th>\n",
       "      <th>three_star</th>\n",
       "      <th>two_star</th>\n",
       "      <th>one_star</th>\n",
       "      <th>fulfilled</th>\n",
       "    </tr>\n",
       "  </thead>\n",
       "  <tbody>\n",
       "    <tr>\n",
       "      <th>1045</th>\n",
       "      <td>906</td>\n",
       "      <td>1402 Slip On For Men  (Brown)</td>\n",
       "      <td>NaN</td>\n",
       "      <td>Men</td>\n",
       "      <td>Flipkart</td>\n",
       "      <td>2628</td>\n",
       "      <td>10</td>\n",
       "      <td>1</td>\n",
       "      <td>7.0</td>\n",
       "      <td>3</td>\n",
       "      <td>2</td>\n",
       "      <td>3</td>\n",
       "      <td>-5.0</td>\n",
       "      <td>0</td>\n",
       "    </tr>\n",
       "    <tr>\n",
       "      <th>1707</th>\n",
       "      <td>227</td>\n",
       "      <td>Women SL-123 Magenta Baby Pink Walking Shoes F...</td>\n",
       "      <td>NaN</td>\n",
       "      <td>Women</td>\n",
       "      <td>Flipkart</td>\n",
       "      <td>934</td>\n",
       "      <td>9003</td>\n",
       "      <td>1322</td>\n",
       "      <td>10980.0</td>\n",
       "      <td>2344</td>\n",
       "      <td>940</td>\n",
       "      <td>261</td>\n",
       "      <td>-5522.0</td>\n",
       "      <td>1</td>\n",
       "    </tr>\n",
       "    <tr>\n",
       "      <th>1811</th>\n",
       "      <td>244</td>\n",
       "      <td>Slides</td>\n",
       "      <td>NaN</td>\n",
       "      <td>Women</td>\n",
       "      <td>Flipkart</td>\n",
       "      <td>477</td>\n",
       "      <td>258</td>\n",
       "      <td>37</td>\n",
       "      <td>256.0</td>\n",
       "      <td>69</td>\n",
       "      <td>26</td>\n",
       "      <td>8</td>\n",
       "      <td>-101.0</td>\n",
       "      <td>0</td>\n",
       "    </tr>\n",
       "    <tr>\n",
       "      <th>2251</th>\n",
       "      <td>522</td>\n",
       "      <td>Women Black Wedges Sandal</td>\n",
       "      <td>4.0</td>\n",
       "      <td>Women</td>\n",
       "      <td>Flipkart</td>\n",
       "      <td>957</td>\n",
       "      <td>679</td>\n",
       "      <td>102</td>\n",
       "      <td>292.0</td>\n",
       "      <td>325</td>\n",
       "      <td>102</td>\n",
       "      <td>56</td>\n",
       "      <td>-96.0</td>\n",
       "      <td>0</td>\n",
       "    </tr>\n",
       "  </tbody>\n",
       "</table>\n",
       "</div>"
      ],
      "text/plain": [
       "       id                                              title  rating  \\\n",
       "1045  906                      1402 Slip On For Men  (Brown)     NaN   \n",
       "1707  227  Women SL-123 Magenta Baby Pink Walking Shoes F...     NaN   \n",
       "1811  244                                             Slides     NaN   \n",
       "2251  522                          Women Black Wedges Sandal     4.0   \n",
       "\n",
       "     main_category  platform  actual_price  norating  noreviews  five_star  \\\n",
       "1045           Men  Flipkart          2628        10          1        7.0   \n",
       "1707         Women  Flipkart           934      9003       1322    10980.0   \n",
       "1811         Women  Flipkart           477       258         37      256.0   \n",
       "2251         Women  Flipkart           957       679        102      292.0   \n",
       "\n",
       "      four_star  three_star  two_star  one_star  fulfilled  \n",
       "1045          3           2         3      -5.0          0  \n",
       "1707       2344         940       261   -5522.0          1  \n",
       "1811         69          26         8    -101.0          0  \n",
       "2251        325         102        56     -96.0          0  "
      ]
     },
     "execution_count": 46,
     "metadata": {},
     "output_type": "execute_result"
    }
   ],
   "source": [
    "df_test[df_test['one_star'] < 0]"
   ]
  },
  {
   "cell_type": "markdown",
   "metadata": {},
   "source": [
    "- From Above we got to know that there are few values where star value is negative but this is not possible, hence we can make these values as positive\n",
    "- There were few cases in both training and test data where the sum of the star values is greater than norating, hence following the same trend we are going to make these negative star values as positive"
   ]
  },
  {
   "cell_type": "code",
   "execution_count": 47,
   "metadata": {},
   "outputs": [],
   "source": [
    "star_col = ['one_star','two_star','three_star','four_star','five_star']\n",
    "df_train[star_col] = df_train[star_col].abs()\n",
    "df_test[star_col] = df_test[star_col].abs()"
   ]
  },
  {
   "cell_type": "markdown",
   "metadata": {},
   "source": [
    "- Let's fill the remaining missing values for the star with the gradual increasing value of the star, as one_star =0 , two_star = 2*one_star , three_star = 3*one_star + 2*two_star and so on"
   ]
  },
  {
   "cell_type": "code",
   "execution_count": 48,
   "metadata": {},
   "outputs": [],
   "source": [
    "def fill_rest_star(df):\n",
    "    if pd.isna(df['one_star']):\n",
    "        df['one_star'] = 0\n",
    "    if pd.isna(df['two_star']):\n",
    "        df['two_star'] = 2*df['one_star']\n",
    "    if pd.isna(df['three_star']):\n",
    "        df['three_star'] = 3*df['one_star'] + 2*df['two_star']\n",
    "    if pd.isna(df['four_star']):\n",
    "        df['four_star'] = 4*df['one_star'] + 3*df['two_star'] + 2*df['three_star']\n",
    "    if pd.isna(df['five_star']):\n",
    "        df['five_star'] = 5*df['one_star'] + 4*df['two_star'] + 3*df['three_star'] + 2*df['four_star']\n",
    "    return df"
   ]
  },
  {
   "cell_type": "code",
   "execution_count": 49,
   "metadata": {},
   "outputs": [],
   "source": [
    "df_train = df_train.apply(lambda x: fill_rest_star(x), axis=1)"
   ]
  },
  {
   "cell_type": "code",
   "execution_count": 50,
   "metadata": {},
   "outputs": [],
   "source": [
    "df_test = df_test.apply(lambda x: fill_rest_star(x), axis=1)"
   ]
  },
  {
   "cell_type": "code",
   "execution_count": 51,
   "metadata": {},
   "outputs": [
    {
     "data": {
      "text/plain": [
       "id                 0\n",
       "title              0\n",
       "rating             0\n",
       "main_category      0\n",
       "platform           0\n",
       "final_price        0\n",
       "actual_price       0\n",
       "offer_per          0\n",
       "norating         676\n",
       "noreviews        576\n",
       "five_star          0\n",
       "four_star          0\n",
       "three_star         0\n",
       "two_star           0\n",
       "one_star           0\n",
       "fulfilled          0\n",
       "dtype: int64"
      ]
     },
     "execution_count": 51,
     "metadata": {},
     "output_type": "execute_result"
    }
   ],
   "source": [
    "df_train.isna().sum()"
   ]
  },
  {
   "cell_type": "code",
   "execution_count": 52,
   "metadata": {},
   "outputs": [
    {
     "data": {
      "text/plain": [
       "id                 0\n",
       "title              0\n",
       "rating           203\n",
       "main_category      0\n",
       "platform           0\n",
       "actual_price       0\n",
       "norating           0\n",
       "noreviews          0\n",
       "five_star          0\n",
       "four_star          0\n",
       "three_star         0\n",
       "two_star           0\n",
       "one_star           0\n",
       "fulfilled          0\n",
       "dtype: int64"
      ]
     },
     "execution_count": 52,
     "metadata": {},
     "output_type": "execute_result"
    }
   ],
   "source": [
    "df_test.isna().sum()"
   ]
  },
  {
   "cell_type": "markdown",
   "metadata": {},
   "source": [
    "- Hence we have filled all the values of the stars, let's move to the next column"
   ]
  },
  {
   "cell_type": "markdown",
   "metadata": {},
   "source": [
    "### norating"
   ]
  },
  {
   "cell_type": "markdown",
   "metadata": {},
   "source": [
    "- As we have filled all the stars values, we can fill the norating values with the sum of the stars values"
   ]
  },
  {
   "cell_type": "code",
   "execution_count": 53,
   "metadata": {},
   "outputs": [],
   "source": [
    "df_train['norating'] = df_train['one_star'] + df_train['two_star'] + df_train['three_star'] + df_train['four_star'] + df_train['five_star']"
   ]
  },
  {
   "cell_type": "code",
   "execution_count": 54,
   "metadata": {},
   "outputs": [
    {
     "data": {
      "text/plain": [
       "id                 0\n",
       "title              0\n",
       "rating             0\n",
       "main_category      0\n",
       "platform           0\n",
       "final_price        0\n",
       "actual_price       0\n",
       "offer_per          0\n",
       "norating           0\n",
       "noreviews        576\n",
       "five_star          0\n",
       "four_star          0\n",
       "three_star         0\n",
       "two_star           0\n",
       "one_star           0\n",
       "fulfilled          0\n",
       "dtype: int64"
      ]
     },
     "execution_count": 54,
     "metadata": {},
     "output_type": "execute_result"
    }
   ],
   "source": [
    "df_train.isna().sum()"
   ]
  },
  {
   "cell_type": "markdown",
   "metadata": {},
   "source": [
    "### noreviews"
   ]
  },
  {
   "cell_type": "code",
   "execution_count": 55,
   "metadata": {},
   "outputs": [
    {
     "data": {
      "text/html": [
       "<div>\n",
       "<style scoped>\n",
       "    .dataframe tbody tr th:only-of-type {\n",
       "        vertical-align: middle;\n",
       "    }\n",
       "\n",
       "    .dataframe tbody tr th {\n",
       "        vertical-align: top;\n",
       "    }\n",
       "\n",
       "    .dataframe thead th {\n",
       "        text-align: right;\n",
       "    }\n",
       "</style>\n",
       "<table border=\"1\" class=\"dataframe\">\n",
       "  <thead>\n",
       "    <tr style=\"text-align: right;\">\n",
       "      <th></th>\n",
       "      <th>norating</th>\n",
       "      <th>noreviews</th>\n",
       "    </tr>\n",
       "  </thead>\n",
       "  <tbody>\n",
       "    <tr>\n",
       "      <th>count</th>\n",
       "      <td>15728.000000</td>\n",
       "      <td>15152.000000</td>\n",
       "    </tr>\n",
       "    <tr>\n",
       "      <th>mean</th>\n",
       "      <td>3355.652442</td>\n",
       "      <td>423.976307</td>\n",
       "    </tr>\n",
       "    <tr>\n",
       "      <th>std</th>\n",
       "      <td>14276.143403</td>\n",
       "      <td>1768.230384</td>\n",
       "    </tr>\n",
       "    <tr>\n",
       "      <th>min</th>\n",
       "      <td>0.000000</td>\n",
       "      <td>0.000000</td>\n",
       "    </tr>\n",
       "    <tr>\n",
       "      <th>25%</th>\n",
       "      <td>69.000000</td>\n",
       "      <td>9.000000</td>\n",
       "    </tr>\n",
       "    <tr>\n",
       "      <th>50%</th>\n",
       "      <td>312.000000</td>\n",
       "      <td>44.000000</td>\n",
       "    </tr>\n",
       "    <tr>\n",
       "      <th>75%</th>\n",
       "      <td>1615.000000</td>\n",
       "      <td>215.000000</td>\n",
       "    </tr>\n",
       "    <tr>\n",
       "      <th>max</th>\n",
       "      <td>699170.000000</td>\n",
       "      <td>45448.000000</td>\n",
       "    </tr>\n",
       "  </tbody>\n",
       "</table>\n",
       "</div>"
      ],
      "text/plain": [
       "            norating     noreviews\n",
       "count   15728.000000  15152.000000\n",
       "mean     3355.652442    423.976307\n",
       "std     14276.143403   1768.230384\n",
       "min         0.000000      0.000000\n",
       "25%        69.000000      9.000000\n",
       "50%       312.000000     44.000000\n",
       "75%      1615.000000    215.000000\n",
       "max    699170.000000  45448.000000"
      ]
     },
     "execution_count": 55,
     "metadata": {},
     "output_type": "execute_result"
    }
   ],
   "source": [
    "df_train.describe()[['norating','noreviews']]"
   ]
  },
  {
   "cell_type": "markdown",
   "metadata": {},
   "source": [
    "- As we know that noreviews are usually lesser than norating, so we can fill the noreviews with the 1/7th of the norating, as this is the relation between their median"
   ]
  },
  {
   "cell_type": "code",
   "execution_count": 56,
   "metadata": {},
   "outputs": [],
   "source": [
    "def fill_noreviews(df):\n",
    "    if pd.isna(df['noreviews']):\n",
    "        df['noreviews'] = df['norating']/7\n",
    "    return df"
   ]
  },
  {
   "cell_type": "code",
   "execution_count": 57,
   "metadata": {},
   "outputs": [],
   "source": [
    "df_train =df_train.apply(lambda x: fill_noreviews(x), axis=1)"
   ]
  },
  {
   "cell_type": "markdown",
   "metadata": {},
   "source": [
    "### rating"
   ]
  },
  {
   "cell_type": "markdown",
   "metadata": {},
   "source": [
    "- We can fill the rating with the weighted average of the stars values"
   ]
  },
  {
   "cell_type": "code",
   "execution_count": 58,
   "metadata": {},
   "outputs": [],
   "source": [
    "def fill_rating(df):\n",
    "    if pd.isna(df['rating']):\n",
    "        df['rating'] = ( df['one_star'] + 2*df['two_star'] + 3*df['three_star'] + 4*df['four_star'] + 5*df['five_star'] ) / df['norating']\n",
    "    return df"
   ]
  },
  {
   "cell_type": "code",
   "execution_count": 59,
   "metadata": {},
   "outputs": [],
   "source": [
    "df_test = df_test.apply(lambda x: fill_rating(x), axis=1)"
   ]
  },
  {
   "cell_type": "markdown",
   "metadata": {},
   "source": [
    "### Dropping the columns"
   ]
  },
  {
   "cell_type": "code",
   "execution_count": 60,
   "metadata": {},
   "outputs": [],
   "source": [
    "df_train.drop(['title','id'], axis=1, inplace=True)\n",
    "df_test.drop(['title'], axis=1, inplace=True)   # haven't dropped Id for future use"
   ]
  },
  {
   "cell_type": "code",
   "execution_count": 61,
   "metadata": {},
   "outputs": [],
   "source": [
    "df_train.to_csv('data/train_filled.csv', index=False)\n",
    "df_test.to_csv('data/test_filled.csv', index=False)"
   ]
  },
  {
   "cell_type": "markdown",
   "metadata": {},
   "source": [
    "# Preprocessing the data"
   ]
  },
  {
   "cell_type": "code",
   "execution_count": 62,
   "metadata": {},
   "outputs": [],
   "source": [
    "train_filled = pd.read_csv('data/train_filled.csv')\n",
    "test_filled = pd.read_csv('data/test_filled.csv')"
   ]
  },
  {
   "cell_type": "markdown",
   "metadata": {},
   "source": [
    "- Applying OneHot Encoding on the main_category, platform, fulfilled columns"
   ]
  },
  {
   "cell_type": "code",
   "execution_count": 63,
   "metadata": {},
   "outputs": [],
   "source": [
    "train_filled = pd.get_dummies(train_filled, columns=['main_category','platform','fulfilled'],drop_first=True)\n",
    "test_filled = pd.get_dummies(test_filled, columns=['main_category','platform','fulfilled'],drop_first=True)"
   ]
  },
  {
   "cell_type": "markdown",
   "metadata": {},
   "source": [
    "- Standardizing the columns 'actual_price' , 'norating' , 'noreviews' ,  \"one_star\" , \"two_star\" , \"three_star\" , \"four_star\" , \"five_star\""
   ]
  },
  {
   "cell_type": "code",
   "execution_count": null,
   "metadata": {},
   "outputs": [],
   "source": []
  },
  {
   "cell_type": "code",
   "execution_count": 64,
   "metadata": {},
   "outputs": [
    {
     "data": {
      "text/plain": [
       "'\\nfrom sklearn.preprocessing import StandardScaler\\nscaler = StandardScaler()\\ncol_to_stand = [\\'actual_price\\' , \\'norating\\' , \\'noreviews\\' ,  \"one_star\" , \"two_star\" , \"three_star\" , \"four_star\" , \"five_star\"]\\ntrain_filled[col_to_stand] = scaler.fit_transform(train_filled[col_to_stand])\\ntest_filled[col_to_stand] = scaler.transform(test_filled[col_to_stand])\\n'"
      ]
     },
     "execution_count": 64,
     "metadata": {},
     "output_type": "execute_result"
    }
   ],
   "source": [
    "\"\"\"\n",
    "from sklearn.preprocessing import StandardScaler\n",
    "scaler = StandardScaler()\n",
    "col_to_stand = ['actual_price' , 'norating' , 'noreviews' ,  \"one_star\" , \"two_star\" , \"three_star\" , \"four_star\" , \"five_star\"]\n",
    "train_filled[col_to_stand] = scaler.fit_transform(train_filled[col_to_stand])\n",
    "test_filled[col_to_stand] = scaler.transform(test_filled[col_to_stand])\n",
    "\"\"\""
   ]
  },
  {
   "cell_type": "code",
   "execution_count": 65,
   "metadata": {},
   "outputs": [],
   "source": [
    "train_filled.to_csv('data/train_filled_scaled.csv', index=False)\n",
    "test_filled.to_csv('data/test_filled_scaled.csv', index=False)"
   ]
  },
  {
   "cell_type": "markdown",
   "metadata": {},
   "source": [
    "# Modeling"
   ]
  },
  {
   "cell_type": "code",
   "execution_count": 185,
   "metadata": {},
   "outputs": [],
   "source": [
    "from sklearn.metrics import mean_squared_error\n",
    "from sklearn.model_selection import GridSearchCV\n",
    "import warnings"
   ]
  },
  {
   "cell_type": "code",
   "execution_count": 186,
   "metadata": {},
   "outputs": [],
   "source": [
    "df = pd.read_csv('data/train_filled_scaled.csv')"
   ]
  },
  {
   "cell_type": "code",
   "execution_count": 187,
   "metadata": {},
   "outputs": [],
   "source": [
    "X = df.drop(['offer_per','final_price'], axis=1)\n",
    "y = df['final_price']"
   ]
  },
  {
   "cell_type": "code",
   "execution_count": 188,
   "metadata": {},
   "outputs": [],
   "source": [
    "from sklearn.model_selection import train_test_split"
   ]
  },
  {
   "cell_type": "code",
   "execution_count": 189,
   "metadata": {},
   "outputs": [],
   "source": [
    "X_train, X_test, y_train, y_test = train_test_split(X, y, test_size=0.20, random_state=42)"
   ]
  },
  {
   "cell_type": "code",
   "execution_count": 190,
   "metadata": {},
   "outputs": [],
   "source": [
    "from sklearn.preprocessing import StandardScaler\n",
    "scaler = StandardScaler()\n",
    "col_to_stand = ['actual_price' , 'norating' , 'noreviews' ,  \"one_star\" , \"two_star\" , \"three_star\" , \"four_star\" , \"five_star\"]\n",
    "X_train[col_to_stand] = scaler.fit_transform(X_train[col_to_stand])\n",
    "X_test[col_to_stand] = scaler.transform(X_test[col_to_stand])"
   ]
  },
  {
   "cell_type": "markdown",
   "metadata": {},
   "source": [
    "### One time call"
   ]
  },
  {
   "cell_type": "code",
   "execution_count": 137,
   "metadata": {},
   "outputs": [],
   "source": [
    "#performance = pd.DataFrame(columns=['model','rmse'])\n",
    "performance = pd.read_csv('data/performance.csv')"
   ]
  },
  {
   "cell_type": "code",
   "execution_count": 138,
   "metadata": {},
   "outputs": [],
   "source": [
    "def run_model(model, X_train=X_train, X_test=X_test, y_train=y_train, y_test=y_test, save=False, fit=True, model_name=None):\n",
    "    if model_name is None:\n",
    "        model_name = model.__class__.__name__\n",
    "\n",
    "    if fit:\n",
    "        model.fit(X_train, y_train)\n",
    "    y_pred = model.predict(X_test)\n",
    "    rmse = np.sqrt(mean_squared_error(y_test, y_pred))\n",
    "\n",
    "    if save:\n",
    "        performance.loc[len(performance)] = [model_name, rmse]\n",
    "\n",
    "    return rmse\n",
    "\n",
    "\n",
    "def run_gridsearch(model, param_grid, X_train=X_train, X_test=X_test, y_train=y_train, y_test=y_test, save=False,model_name=None, **kwargs):\n",
    "    if model_name is None:\n",
    "        model_name = model.__class__.__name__\n",
    "\n",
    "    warnings.filterwarnings('ignore')\n",
    "    gs = GridSearchCV(model, param_grid, cv=5, scoring='neg_mean_squared_error', **kwargs,verbose=1)\n",
    "    gs.fit(X_train, y_train)\n",
    "    y_pred = gs.predict(X_test)\n",
    "    rmse = np.sqrt(mean_squared_error(y_test, y_pred))\n",
    "\n",
    "    if save:\n",
    "        performance.loc[len(performance)] = [model_name, rmse]\n",
    "\n",
    "    print(rmse, gs.best_params_)\n",
    "    return gs"
   ]
  },
  {
   "cell_type": "markdown",
   "metadata": {},
   "source": [
    "### Linear Regression"
   ]
  },
  {
   "cell_type": "code",
   "execution_count": 75,
   "metadata": {},
   "outputs": [],
   "source": [
    "from sklearn.linear_model import LinearRegression"
   ]
  },
  {
   "cell_type": "code",
   "execution_count": 76,
   "metadata": {},
   "outputs": [],
   "source": [
    "lr_base = LinearRegression()"
   ]
  },
  {
   "cell_type": "code",
   "execution_count": 77,
   "metadata": {},
   "outputs": [
    {
     "data": {
      "text/plain": [
       "277.2470940916506"
      ]
     },
     "execution_count": 77,
     "metadata": {},
     "output_type": "execute_result"
    }
   ],
   "source": [
    "run_model(lr_base, save=True)"
   ]
  },
  {
   "cell_type": "code",
   "execution_count": 78,
   "metadata": {},
   "outputs": [
    {
     "data": {
      "text/plain": [
       "292.1631166227186"
      ]
     },
     "execution_count": 78,
     "metadata": {},
     "output_type": "execute_result"
    }
   ],
   "source": [
    "# RMSE on the training set:\n",
    "run_model(lr_base, X_test=X_train,  y_test=y_train, fit=False)"
   ]
  },
  {
   "cell_type": "code",
   "execution_count": 79,
   "metadata": {},
   "outputs": [
    {
     "data": {
      "text/plain": [
       "array([ 152.86376652,  559.2740454 ,   -6.76353077,   30.0485953 ,\n",
       "        -32.8387135 ,   53.68256094,   -6.71548127,  -89.30741333,\n",
       "         53.50913507,   -9.18169549, -252.4625503 ,   61.0043481 ])"
      ]
     },
     "execution_count": 79,
     "metadata": {},
     "output_type": "execute_result"
    }
   ],
   "source": [
    "lr_base.coef_"
   ]
  },
  {
   "cell_type": "markdown",
   "metadata": {},
   "source": [
    "- let's apply some penality on the features that are not important, like norating, noreviews, one_star, two_star, three_star, four_star, five_star"
   ]
  },
  {
   "cell_type": "code",
   "execution_count": 80,
   "metadata": {},
   "outputs": [],
   "source": [
    "from sklearn.linear_model import ElasticNet"
   ]
  },
  {
   "cell_type": "code",
   "execution_count": 81,
   "metadata": {},
   "outputs": [],
   "source": [
    "eln_base = ElasticNet()"
   ]
  },
  {
   "cell_type": "code",
   "execution_count": 82,
   "metadata": {},
   "outputs": [],
   "source": [
    "param_grid = {'alpha': [0.0001, 0.001, 0.01, 0.1, 1, 10, 100, 1000],\n",
    "                'l1_ratio': [0.1, 0.2, 0.3, 0.4, 0.5, 0.6, 0.7, 0.8, 0.9, 1]\n",
    "}"
   ]
  },
  {
   "cell_type": "code",
   "execution_count": 83,
   "metadata": {},
   "outputs": [
    {
     "name": "stdout",
     "output_type": "stream",
     "text": [
      "Fitting 5 folds for each of 80 candidates, totalling 400 fits\n",
      "276.5229705904453 {'alpha': 0.1, 'l1_ratio': 1}\n"
     ]
    }
   ],
   "source": [
    "eln_grid = run_gridsearch(eln_base, param_grid, save=False)"
   ]
  },
  {
   "cell_type": "code",
   "execution_count": 84,
   "metadata": {},
   "outputs": [
    {
     "data": {
      "text/plain": [
       "276.5229705904453"
      ]
     },
     "execution_count": 84,
     "metadata": {},
     "output_type": "execute_result"
    }
   ],
   "source": [
    "run_model(eln_grid.best_estimator_, save=True, model_name='ElasticNet')"
   ]
  },
  {
   "cell_type": "markdown",
   "metadata": {},
   "source": [
    "### KNeighborsRegressor"
   ]
  },
  {
   "cell_type": "code",
   "execution_count": 85,
   "metadata": {},
   "outputs": [],
   "source": [
    "from sklearn.neighbors import KNeighborsRegressor"
   ]
  },
  {
   "cell_type": "markdown",
   "metadata": {},
   "source": [
    "- Find the best value of n_neighbors"
   ]
  },
  {
   "cell_type": "code",
   "execution_count": 86,
   "metadata": {},
   "outputs": [],
   "source": [
    "def find_k(k_max):\n",
    "    error = []\n",
    "    for k in range(1,k_max):\n",
    "        knn = KNeighborsRegressor(n_neighbors=k)\n",
    "        knn.fit(X_train, y_train)\n",
    "        error.append(np.sqrt(mean_squared_error(y_test, knn.predict(X_test))))\n",
    "    return error\n",
    "    "
   ]
  },
  {
   "cell_type": "code",
   "execution_count": 87,
   "metadata": {},
   "outputs": [],
   "source": [
    "k_val = find_k(30)"
   ]
  },
  {
   "cell_type": "code",
   "execution_count": 88,
   "metadata": {},
   "outputs": [
    {
     "data": {
      "image/png": "[encoded data removed]",
      "text/plain": [
       "<Figure size 432x288 with 1 Axes>"
      ]
     },
     "metadata": {
      "needs_background": "light"
     },
     "output_type": "display_data"
    }
   ],
   "source": [
    "plt.plot(range(1,len(k_val)+1), k_val);"
   ]
  },
  {
   "cell_type": "markdown",
   "metadata": {},
   "source": [
    "k = 2 seems to better than k = 1"
   ]
  },
  {
   "cell_type": "code",
   "execution_count": 89,
   "metadata": {},
   "outputs": [],
   "source": [
    "knn_base_2 = KNeighborsRegressor(n_neighbors=2)"
   ]
  },
  {
   "cell_type": "code",
   "execution_count": 95,
   "metadata": {},
   "outputs": [
    {
     "data": {
      "text/plain": [
       "221.8183145491406"
      ]
     },
     "execution_count": 95,
     "metadata": {},
     "output_type": "execute_result"
    }
   ],
   "source": [
    "run_model(knn_base_2, save=True)"
   ]
  },
  {
   "cell_type": "markdown",
   "metadata": {},
   "source": [
    "This seems to give better result than Linear Regression"
   ]
  },
  {
   "cell_type": "markdown",
   "metadata": {},
   "source": [
    "### RandomForestRegressor"
   ]
  },
  {
   "cell_type": "code",
   "execution_count": 96,
   "metadata": {},
   "outputs": [],
   "source": [
    "from sklearn.ensemble import RandomForestRegressor"
   ]
  },
  {
   "cell_type": "code",
   "execution_count": 103,
   "metadata": {},
   "outputs": [],
   "source": [
    "def find_n_estimators(n_max):\n",
    "    error = []\n",
    "    for n in range(100,n_max,200):\n",
    "        rfg = RandomForestRegressor(n_estimators=n, random_state=101, n_jobs=-1)\n",
    "        rfg.fit(X_train, y_train)\n",
    "        error.append(np.sqrt(mean_squared_error(y_test, rfg.predict(X_test))))\n",
    "    return error"
   ]
  },
  {
   "cell_type": "code",
   "execution_count": 104,
   "metadata": {},
   "outputs": [],
   "source": [
    "error = find_n_estimators(2000)"
   ]
  },
  {
   "cell_type": "code",
   "execution_count": 106,
   "metadata": {},
   "outputs": [
    {
     "data": {
      "image/png": "[encoded data removed]",
      "text/plain": [
       "<Figure size 432x288 with 1 Axes>"
      ]
     },
     "metadata": {
      "needs_background": "light"
     },
     "output_type": "display_data"
    }
   ],
   "source": [
    "plt.plot(range(100,2000,200), error);"
   ]
  },
  {
   "cell_type": "markdown",
   "metadata": {},
   "source": [
    "- As after n_estimator = 900 seems to be a good value"
   ]
  },
  {
   "cell_type": "code",
   "execution_count": 252,
   "metadata": {},
   "outputs": [],
   "source": [
    "rfg_base = RandomForestRegressor(n_estimators=900, random_state=101)"
   ]
  },
  {
   "cell_type": "code",
   "execution_count": 253,
   "metadata": {},
   "outputs": [
    {
     "data": {
      "text/plain": [
       "182.7272898092829"
      ]
     },
     "execution_count": 253,
     "metadata": {},
     "output_type": "execute_result"
    }
   ],
   "source": [
    "run_model(rfg_base, save=True)"
   ]
  },
  {
   "cell_type": "code",
   "execution_count": 254,
   "metadata": {},
   "outputs": [
    {
     "data": {
      "text/plain": [
       "80.05476255317228"
      ]
     },
     "execution_count": 254,
     "metadata": {},
     "output_type": "execute_result"
    }
   ],
   "source": [
    "run_model(rfg_base, X_test=X_train,  y_test=y_train, fit=False)"
   ]
  },
  {
   "cell_type": "markdown",
   "metadata": {},
   "source": [
    "- Let's perform the grid search on the parameters of the model"
   ]
  },
  {
   "cell_type": "code",
   "execution_count": 110,
   "metadata": {},
   "outputs": [],
   "source": [
    "rfg_grid_base = RandomForestRegressor(n_estimators=900, random_state=101)"
   ]
  },
  {
   "cell_type": "code",
   "execution_count": 111,
   "metadata": {},
   "outputs": [],
   "source": [
    "param_grid = {\n",
    "                'max_features': [ 1,'sqrt', 'log2', None],\n",
    "                'max_depth': [4, 8, 12,None],\n",
    "                'min_samples_split': [2, 7,  10],\n",
    "                'min_samples_leaf': [1,  6, 10]\n",
    "}"
   ]
  },
  {
   "cell_type": "code",
   "execution_count": null,
   "metadata": {},
   "outputs": [],
   "source": [
    "rfg_grid_1 = run_gridsearch(rfg_grid_base, param_grid, save=True, n_jobs=-1)"
   ]
  },
  {
   "cell_type": "markdown",
   "metadata": {},
   "source": [
    "- It's almost the same result, hence moving towards the next"
   ]
  },
  {
   "cell_type": "markdown",
   "metadata": {},
   "source": [
    "### DecisionTreeRegressor"
   ]
  },
  {
   "cell_type": "code",
   "execution_count": 124,
   "metadata": {},
   "outputs": [],
   "source": [
    "from sklearn.tree import DecisionTreeRegressor"
   ]
  },
  {
   "cell_type": "code",
   "execution_count": 125,
   "metadata": {},
   "outputs": [],
   "source": [
    "dt_base = DecisionTreeRegressor(random_state=101)"
   ]
  },
  {
   "cell_type": "code",
   "execution_count": 126,
   "metadata": {},
   "outputs": [
    {
     "data": {
      "text/plain": [
       "241.38183155829884"
      ]
     },
     "execution_count": 126,
     "metadata": {},
     "output_type": "execute_result"
    }
   ],
   "source": [
    "run_model(dt_base, save=True)"
   ]
  },
  {
   "cell_type": "markdown",
   "metadata": {},
   "source": [
    "This is not that much good model moving towards next "
   ]
  },
  {
   "cell_type": "code",
   "execution_count": 130,
   "metadata": {},
   "outputs": [],
   "source": [
    "performance.to_csv('data/performance.csv')"
   ]
  },
  {
   "cell_type": "markdown",
   "metadata": {},
   "source": [
    "### XGBRegressor"
   ]
  },
  {
   "cell_type": "code",
   "execution_count": 139,
   "metadata": {},
   "outputs": [],
   "source": [
    "from xgboost import XGBRegressor"
   ]
  },
  {
   "cell_type": "code",
   "execution_count": 140,
   "metadata": {},
   "outputs": [],
   "source": [
    "xgb_base = XGBRegressor( random_state=101)"
   ]
  },
  {
   "cell_type": "code",
   "execution_count": 141,
   "metadata": {},
   "outputs": [
    {
     "data": {
      "text/plain": [
       "197.3197970248693"
      ]
     },
     "execution_count": 141,
     "metadata": {},
     "output_type": "execute_result"
    }
   ],
   "source": [
    "run_model(xgb_base, save=False)"
   ]
  },
  {
   "cell_type": "code",
   "execution_count": 142,
   "metadata": {},
   "outputs": [
    {
     "data": {
      "text/plain": [
       "111.74553352809329"
      ]
     },
     "execution_count": 142,
     "metadata": {},
     "output_type": "execute_result"
    }
   ],
   "source": [
    "run_model(xgb_base, X_test=X_train,  y_test=y_train, fit=False)"
   ]
  },
  {
   "cell_type": "markdown",
   "metadata": {},
   "source": [
    "- finding the optimal value of n_estimators"
   ]
  },
  {
   "cell_type": "code",
   "execution_count": 145,
   "metadata": {},
   "outputs": [],
   "source": [
    "def find_n_estimator(n_max):\n",
    "    error = []\n",
    "    for n in range(100,n_max,100):\n",
    "        xgb = XGBRegressor(n_estimators=n, random_state=101,n_jobs=-1)\n",
    "        xgb.fit(X_train, y_train)\n",
    "        error.append(np.sqrt(mean_squared_error(y_test, xgb.predict(X_test))))\n",
    "    return error"
   ]
  },
  {
   "cell_type": "code",
   "execution_count": 146,
   "metadata": {},
   "outputs": [],
   "source": [
    "eroor = find_n_estimator(1500)"
   ]
  },
  {
   "cell_type": "code",
   "execution_count": 147,
   "metadata": {},
   "outputs": [
    {
     "data": {
      "image/png": "[encoded data removed]",
      "text/plain": [
       "<Figure size 432x288 with 1 Axes>"
      ]
     },
     "metadata": {
      "needs_background": "light"
     },
     "output_type": "display_data"
    }
   ],
   "source": [
    "plt.plot(range(100,1500,100), eroor);"
   ]
  },
  {
   "cell_type": "markdown",
   "metadata": {},
   "source": [
    "- We can see that n_estimators = 400, will be a good choice"
   ]
  },
  {
   "cell_type": "code",
   "execution_count": 197,
   "metadata": {},
   "outputs": [],
   "source": [
    "xgb_grid_base = XGBRegressor(n_estimators=400, random_state=101)"
   ]
  },
  {
   "cell_type": "code",
   "execution_count": 198,
   "metadata": {},
   "outputs": [],
   "source": [
    "param_grid = {'max_depth': [3, 8, 12],\n",
    "                'learning_rate': [0.001, 0.01, 0.1, 1],\n",
    "                'min_child_weight': [1, 5, 9],\n",
    "                'gamma': [0, 0.01, 0.1, 0.9, 1]\n",
    "}"
   ]
  },
  {
   "cell_type": "code",
   "execution_count": 199,
   "metadata": {},
   "outputs": [
    {
     "name": "stdout",
     "output_type": "stream",
     "text": [
      "Fitting 5 folds for each of 180 candidates, totalling 900 fits\n",
      "176.24646148366773 {'gamma': 0.9, 'learning_rate': 0.1, 'max_depth': 8, 'min_child_weight': 1}\n"
     ]
    }
   ],
   "source": [
    "xgb_grid_1 = run_gridsearch(xgb_grid_base, param_grid, save=False, n_jobs=-1)"
   ]
  },
  {
   "cell_type": "code",
   "execution_count": 204,
   "metadata": {},
   "outputs": [
    {
     "data": {
      "text/plain": [
       "53.91737293542353"
      ]
     },
     "execution_count": 204,
     "metadata": {},
     "output_type": "execute_result"
    }
   ],
   "source": [
    "run_model(xgb_grid_1.best_estimator_, fit=False, X_test=X_train, y_test=y_train)"
   ]
  },
  {
   "cell_type": "code",
   "execution_count": 181,
   "metadata": {},
   "outputs": [
    {
     "data": {
      "text/plain": [
       "176.24646148366773"
      ]
     },
     "execution_count": 181,
     "metadata": {},
     "output_type": "execute_result"
    }
   ],
   "source": [
    "run_model(model = xgb_grid_1.best_estimator_, save=True,fit=False)"
   ]
  },
  {
   "cell_type": "code",
   "execution_count": 247,
   "metadata": {},
   "outputs": [],
   "source": [
    "performance.to_csv('data/performance.csv')"
   ]
  },
  {
   "cell_type": "markdown",
   "metadata": {},
   "source": [
    "- As this model is overfitting to the training data, while Random Forest is not overfitting to the training data, so we can try to use that model as our final model"
   ]
  },
  {
   "cell_type": "markdown",
   "metadata": {},
   "source": [
    "# Final Model"
   ]
  },
  {
   "cell_type": "markdown",
   "metadata": {},
   "source": [
    "- as we have seen that XGBRegressor with some tunned parameters is the best model, so we will use that model for our final model"
   ]
  },
  {
   "cell_type": "code",
   "execution_count": 240,
   "metadata": {},
   "outputs": [],
   "source": [
    "df = pd.read_csv('data/train_filled_scaled.csv')\n",
    "X_ = df.drop(['offer_per','final_price'], axis=1)\n",
    "y_ = df['final_price']\n",
    "test = pd.read_csv('data/test_filled_scaled.csv')"
   ]
  },
  {
   "cell_type": "code",
   "execution_count": 241,
   "metadata": {},
   "outputs": [],
   "source": [
    "from sklearn.preprocessing import StandardScaler\n",
    "scaler = StandardScaler()\n",
    "col_to_stand = ['actual_price' , 'norating' , 'noreviews' ,  \"one_star\" , \"two_star\" , \"three_star\" , \"four_star\" , \"five_star\"]\n",
    "X_[col_to_stand] = scaler.fit_transform(X_[col_to_stand])\n",
    "test[col_to_stand] = scaler.transform(test[col_to_stand])"
   ]
  },
  {
   "cell_type": "code",
   "execution_count": 257,
   "metadata": {},
   "outputs": [],
   "source": [
    "from sklearn.base import clone\n",
    "final_model = clone(xgb_grid_1.best_estimator_) # Copied the best model's parameters"
   ]
  },
  {
   "cell_type": "code",
   "execution_count": 258,
   "metadata": {},
   "outputs": [],
   "source": [
    "def set_order(df, indexing):\n",
    "    new_df = pd.DataFrame(columns=['id','price1'])\n",
    "    for i in range(len(indexing)):\n",
    "        new_df.loc[i] = [int(indexing[i]), int(df[df['id'] == indexing[i]]['price1'].values[0])]\n",
    "    return new_df"
   ]
  },
  {
   "cell_type": "code",
   "execution_count": 259,
   "metadata": {},
   "outputs": [],
   "source": [
    "def provide_final_output(X,y,test, model):\n",
    "    model.fit(X,y)\n",
    "\n",
    "    id = test.id.values\n",
    "    test_final = test.drop(['id'], axis=1)\n",
    "\n",
    "    pred = model.predict(test_final)\n",
    "    submit = pd.DataFrame({'id':id,'price1':pred})\n",
    "    \n",
    "    indexing = pd.read_csv(\"data/Sample__submission.csv\")['id']\n",
    "    submit  = set_order(submit, indexing)\n",
    "    \n",
    "    return submit"
   ]
  },
  {
   "cell_type": "code",
   "execution_count": 260,
   "metadata": {},
   "outputs": [],
   "source": [
    "s = provide_final_output(X_,y_,test, final_model)"
   ]
  },
  {
   "cell_type": "code",
   "execution_count": 261,
   "metadata": {},
   "outputs": [
    {
     "data": {
      "text/html": [
       "<div>\n",
       "<style scoped>\n",
       "    .dataframe tbody tr th:only-of-type {\n",
       "        vertical-align: middle;\n",
       "    }\n",
       "\n",
       "    .dataframe tbody tr th {\n",
       "        vertical-align: top;\n",
       "    }\n",
       "\n",
       "    .dataframe thead th {\n",
       "        text-align: right;\n",
       "    }\n",
       "</style>\n",
       "<table border=\"1\" class=\"dataframe\">\n",
       "  <thead>\n",
       "    <tr style=\"text-align: right;\">\n",
       "      <th></th>\n",
       "      <th>id</th>\n",
       "      <th>price1</th>\n",
       "    </tr>\n",
       "  </thead>\n",
       "  <tbody>\n",
       "    <tr>\n",
       "      <th>0</th>\n",
       "      <td>19841</td>\n",
       "      <td>755</td>\n",
       "    </tr>\n",
       "    <tr>\n",
       "      <th>1</th>\n",
       "      <td>19157</td>\n",
       "      <td>579</td>\n",
       "    </tr>\n",
       "    <tr>\n",
       "      <th>2</th>\n",
       "      <td>19445</td>\n",
       "      <td>215</td>\n",
       "    </tr>\n",
       "    <tr>\n",
       "      <th>3</th>\n",
       "      <td>8046</td>\n",
       "      <td>457</td>\n",
       "    </tr>\n",
       "    <tr>\n",
       "      <th>4</th>\n",
       "      <td>4571</td>\n",
       "      <td>1424</td>\n",
       "    </tr>\n",
       "  </tbody>\n",
       "</table>\n",
       "</div>"
      ],
      "text/plain": [
       "      id  price1\n",
       "0  19841     755\n",
       "1  19157     579\n",
       "2  19445     215\n",
       "3   8046     457\n",
       "4   4571    1424"
      ]
     },
     "execution_count": 261,
     "metadata": {},
     "output_type": "execute_result"
    }
   ],
   "source": [
    "s.head()"
   ]
  },
  {
   "cell_type": "code",
   "execution_count": 262,
   "metadata": {},
   "outputs": [],
   "source": [
    "s.to_csv('submit.csv', index=False)"
   ]
  }
 ],
 "metadata": {
  "kernelspec": {
   "display_name": "Python 3.10.4 ('mlearning')",
   "language": "python",
   "name": "python3"
  },
  "language_info": {
   "codemirror_mode": {
    "name": "ipython",
    "version": 3
   },
   "file_extension": ".py",
   "mimetype": "text/x-python",
   "name": "python",
   "nbconvert_exporter": "python",
   "pygments_lexer": "ipython3",
   "version": "3.10.4"
  },
  "orig_nbformat": 4,
  "vscode": {
   "interpreter": {
    "hash": "1eb649f6f8cececb32e27a7c74ff0c8a2304f0589778cec0736ca47bbe35202a"
   }
  }
 },
 "nbformat": 4,
 "nbformat_minor": 2
}
