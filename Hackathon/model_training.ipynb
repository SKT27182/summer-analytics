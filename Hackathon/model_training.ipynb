{
 "cells": [
  {
   "cell_type": "code",
   "execution_count": null,
   "metadata": {},
   "outputs": [],
   "source": [
    "import pandas as pd\n",
    "import numpy as np\n",
    "import matplotlib.pyplot as plt\n",
    "from sklearn.metrics import mean_squared_error\n",
    "from sklearn.model_selection import GridSearchCV\n",
    "import warnings\n",
    "import subprocess\n",
    "from sklearn.base import clone"
   ]
  },
  {
   "cell_type": "markdown",
   "metadata": {},
   "source": [
    "# Model Training"
   ]
  },
  {
   "cell_type": "code",
   "execution_count": null,
   "metadata": {},
   "outputs": [],
   "source": [
    "df = pd.read_csv('data/train_filled_scaled.csv')"
   ]
  },
  {
   "cell_type": "code",
   "execution_count": null,
   "metadata": {},
   "outputs": [],
   "source": [
    "X = df.drop(['offer_per','final_price'], axis=1)\n",
    "y = df['offer_per']"
   ]
  },
  {
   "cell_type": "code",
   "execution_count": null,
   "metadata": {},
   "outputs": [],
   "source": [
    "from sklearn.model_selection import train_test_split"
   ]
  },
  {
   "cell_type": "code",
   "execution_count": null,
   "metadata": {},
   "outputs": [],
   "source": [
    "X_train, X_test, y_train, y_test = train_test_split(X, y, test_size=0.20, random_state=42)"
   ]
  },
  {
   "cell_type": "markdown",
   "metadata": {},
   "source": [
    "### One time call"
   ]
  },
  {
   "cell_type": "code",
   "execution_count": null,
   "metadata": {},
   "outputs": [],
   "source": [
    "#performance = pd.DataFrame(columns=['model','rmse_test','rmse_train'])\n",
    "performance = pd.read_csv('data/performance.csv')"
   ]
  },
  {
   "cell_type": "code",
   "execution_count": null,
   "metadata": {},
   "outputs": [],
   "source": [
    "def run_model(model, X_train=X_train, X_test=X_test, y_train=y_train, y_test=y_test, save=False, fit=True, model_name=None):\n",
    "    if model_name is None:\n",
    "        model_name = model.__class__.__name__\n",
    "\n",
    "    if fit:\n",
    "        model.fit(X_train, y_train)\n",
    "\n",
    "\n",
    "    rmse_test = np.sqrt(mean_squared_error(y_test, model.predict(X_test)))\n",
    "    rmse_train = np.sqrt(mean_squared_error(y_train, model.predict(X_train)))\n",
    "\n",
    "    if save:\n",
    "        performance.loc[len(performance)] = [model_name, rmse_test, rmse_train]\n",
    "\n",
    "    print(f'{model_name} test RMSE: {rmse_test} train RMSE: {rmse_train}')\n",
    "\n",
    "\n",
    "def run_gridsearch(model, param_grid, X_train=X_train, X_test=X_test, y_train=y_train, y_test=y_test, save=False,model_name=None, **kwargs):\n",
    "    if model_name is None:\n",
    "        model_name = model.__class__.__name__\n",
    "\n",
    "    warnings.filterwarnings('ignore')\n",
    "    gs = GridSearchCV(model, param_grid, cv=5, scoring='neg_mean_squared_error', **kwargs,verbose=1)\n",
    "    gs.fit(X_train, y_train)\n",
    "\n",
    "    \n",
    "    rmse_test = np.sqrt(mean_squared_error(y_test, gs.predict(X_test)))\n",
    "    rmse_train = np.sqrt(mean_squared_error(y_train, gs.predict(X_train)))\n",
    "\n",
    "    if save:\n",
    "        performance.loc[len(performance)] = [model_name, rmse_test, rmse_train]\n",
    "\n",
    "    \n",
    "    send_notification(f'{model_name} test RMSE: {rmse_test} train RMSE: {rmse_train}')\n",
    "\n",
    "    print(f'{model_name} test RMSE: {rmse_test} train RMSE: {rmse_train}', gs.best_params_)\n",
    "    return gs\n",
    "\n",
    "\n",
    "def send_notification(message='Task Completed'):\n",
    "    subprocess.run(['notify-send' ,message])"
   ]
  },
  {
   "cell_type": "markdown",
   "metadata": {},
   "source": [
    "### Linear Regression"
   ]
  },
  {
   "cell_type": "code",
   "execution_count": null,
   "metadata": {},
   "outputs": [],
   "source": [
    "from sklearn.linear_model import LinearRegression"
   ]
  },
  {
   "cell_type": "code",
   "execution_count": null,
   "metadata": {},
   "outputs": [],
   "source": [
    "lr_base = LinearRegression()"
   ]
  },
  {
   "cell_type": "code",
   "execution_count": null,
   "metadata": {},
   "outputs": [
    {
     "name": "stdout",
     "output_type": "stream",
     "text": [
      "LinearRegression test RMSE: 16.97084156936371 train RMSE: 16.63488559281818\n"
     ]
    }
   ],
   "source": [
    "run_model(lr_base, save=True)"
   ]
  },
  {
   "cell_type": "code",
   "execution_count": null,
   "metadata": {},
   "outputs": [
    {
     "data": {
      "text/plain": [
       "array([-8.68611537e+00,  1.28366325e+01,  2.51368327e-04, -2.25693321e-03,\n",
       "        8.39566887e-01, -3.43181316e+00,  1.82999476e+00,  2.10170069e+00,\n",
       "       -3.87743173e-01,  2.45370878e+00,  3.43418680e+01, -6.33238062e+00,\n",
       "        1.08846930e+00, -1.46526106e-02, -4.82586555e+00,  2.18992510e+00,\n",
       "       -4.34369139e-01,  2.41966485e+00, -3.20566089e+00, -9.51461224e+00,\n",
       "       -1.71184113e+00,  4.83756041e-01])"
      ]
     },
     "metadata": {},
     "output_type": "display_data"
    }
   ],
   "source": [
    "lr_base.coef_"
   ]
  },
  {
   "cell_type": "markdown",
   "metadata": {},
   "source": [
    "- let's apply some penality on the features that are not important, like norating, noreviews, one_star, two_star, three_star, four_star, five_star"
   ]
  },
  {
   "cell_type": "code",
   "execution_count": null,
   "metadata": {},
   "outputs": [],
   "source": [
    "from sklearn.linear_model import ElasticNet"
   ]
  },
  {
   "cell_type": "code",
   "execution_count": null,
   "metadata": {},
   "outputs": [],
   "source": [
    "eln_base = ElasticNet()"
   ]
  },
  {
   "cell_type": "markdown",
   "metadata": {},
   "source": [
    "#### Grid Search"
   ]
  },
  {
   "cell_type": "code",
   "execution_count": null,
   "metadata": {},
   "outputs": [],
   "source": [
    "param_grid = {'alpha': [0.0001, 0.001, 0.01, 0.1, 1, 10, 100, 1000],\n",
    "                'l1_ratio': [0.1, 0.2, 0.3, 0.4, 0.5, 0.6, 0.7, 0.8, 0.9, 1]\n",
    "}"
   ]
  },
  {
   "cell_type": "code",
   "execution_count": null,
   "metadata": {},
   "outputs": [
    {
     "name": "stdout",
     "output_type": "stream",
     "text": [
      "Fitting 5 folds for each of 80 candidates, totalling 400 fits\n",
      "ElasticNet test RMSE: 16.97104946362114 train RMSE: 16.63489941289275 {'alpha': 0.001, 'l1_ratio': 1}\n"
     ]
    }
   ],
   "source": [
    "eln_grid = run_gridsearch(eln_base, param_grid, save=False)"
   ]
  },
  {
   "cell_type": "markdown",
   "metadata": {},
   "source": [
    "- No improvement"
   ]
  },
  {
   "cell_type": "code",
   "execution_count": null,
   "metadata": {},
   "outputs": [
    {
     "name": "stdout",
     "output_type": "stream",
     "text": [
      "ElasticNet test RMSE: 16.97104946362114 train RMSE: 16.63489941289275\n"
     ]
    }
   ],
   "source": [
    "run_model(eln_grid.best_estimator_, save=True, model_name='ElasticNet')"
   ]
  },
  {
   "cell_type": "markdown",
   "metadata": {},
   "source": [
    "### KNeighborsRegressor"
   ]
  },
  {
   "cell_type": "code",
   "execution_count": null,
   "metadata": {},
   "outputs": [],
   "source": [
    "from sklearn.neighbors import KNeighborsRegressor"
   ]
  },
  {
   "cell_type": "markdown",
   "metadata": {},
   "source": [
    "- Find the best value of n_neighbors"
   ]
  },
  {
   "cell_type": "code",
   "execution_count": null,
   "metadata": {},
   "outputs": [],
   "source": [
    "def find_k(k_max):\n",
    "    error = []\n",
    "    for k in range(1,k_max):\n",
    "        knn = KNeighborsRegressor(n_neighbors=k)\n",
    "        knn.fit(X_train, y_train)\n",
    "        error.append(np.sqrt(mean_squared_error(y_test, knn.predict(X_test))))\n",
    "    return error\n",
    "    "
   ]
  },
  {
   "cell_type": "code",
   "execution_count": null,
   "metadata": {},
   "outputs": [],
   "source": [
    "k_val = find_k(50)"
   ]
  },
  {
   "cell_type": "code",
   "execution_count": null,
   "metadata": {},
   "outputs": [
    {
     "data": {
      "image/png": "[encoded data removed]",
      "text/plain": [
       "<Figure size 432x288 with 1 Axes>"
      ]
     },
     "metadata": {},
     "output_type": "display_data"
    }
   ],
   "source": [
    "plt.plot(range(1,len(k_val)+1), k_val);"
   ]
  },
  {
   "cell_type": "markdown",
   "metadata": {},
   "source": [
    "k = 1 seems to better than the previous default value of 5"
   ]
  },
  {
   "cell_type": "code",
   "execution_count": null,
   "metadata": {},
   "outputs": [],
   "source": [
    "knn_base_1 = KNeighborsRegressor(n_neighbors=1)"
   ]
  },
  {
   "cell_type": "code",
   "execution_count": null,
   "metadata": {},
   "outputs": [
    {
     "name": "stdout",
     "output_type": "stream",
     "text": [
      "KNeighborsRegressor test RMSE: 15.71534362407155 train RMSE: 1.5439116026856632\n"
     ]
    }
   ],
   "source": [
    "run_model(knn_base_1, save=True)"
   ]
  },
  {
   "cell_type": "markdown",
   "metadata": {},
   "source": [
    "This seems to give better result than Linear Regression but it is highly overfitted on train data"
   ]
  },
  {
   "cell_type": "markdown",
   "metadata": {},
   "source": [
    "### RandomForestRegressor"
   ]
  },
  {
   "cell_type": "code",
   "execution_count": null,
   "metadata": {},
   "outputs": [],
   "source": [
    "from sklearn.ensemble import RandomForestRegressor"
   ]
  },
  {
   "cell_type": "code",
   "execution_count": null,
   "metadata": {},
   "outputs": [],
   "source": [
    "def find_n_estimators(n_max):\n",
    "    error = []\n",
    "    for n in range(100,n_max,200):\n",
    "        rfg = RandomForestRegressor(n_estimators=n, random_state=101, n_jobs=-1)\n",
    "        rfg.fit(X_train, y_train)\n",
    "        error.append(np.sqrt(mean_squared_error(y_test, rfg.predict(X_test))))\n",
    "    return error"
   ]
  },
  {
   "cell_type": "code",
   "execution_count": null,
   "metadata": {},
   "outputs": [],
   "source": [
    "error = find_n_estimators(2000)"
   ]
  },
  {
   "cell_type": "code",
   "execution_count": null,
   "metadata": {},
   "outputs": [
    {
     "data": {
      "image/png": "[encoded data removed]",
      "text/plain": [
       "<Figure size 432x288 with 1 Axes>"
      ]
     },
     "metadata": {},
     "output_type": "display_data"
    }
   ],
   "source": [
    "plt.plot(range(100,2000,200), error);"
   ]
  },
  {
   "cell_type": "markdown",
   "metadata": {},
   "source": [
    "- optimum value of n_estimators is around 400"
   ]
  },
  {
   "cell_type": "code",
   "execution_count": null,
   "metadata": {},
   "outputs": [],
   "source": [
    "rfg_base = RandomForestRegressor(n_estimators=400, random_state=101)"
   ]
  },
  {
   "cell_type": "code",
   "execution_count": null,
   "metadata": {},
   "outputs": [
    {
     "name": "stdout",
     "output_type": "stream",
     "text": [
      "RandomForestRegressor test RMSE: 9.83973878183564 train RMSE: 3.80122008290703\n"
     ]
    }
   ],
   "source": [
    "run_model(rfg_base, save=True)"
   ]
  },
  {
   "cell_type": "markdown",
   "metadata": {},
   "source": [
    "- Let's perform the grid search on the parameters of the model"
   ]
  },
  {
   "cell_type": "markdown",
   "metadata": {},
   "source": [
    "#### Grid Search"
   ]
  },
  {
   "cell_type": "code",
   "execution_count": null,
   "metadata": {},
   "outputs": [],
   "source": [
    "rfg_grid_base = RandomForestRegressor(n_estimators=400, random_state=101)"
   ]
  },
  {
   "cell_type": "code",
   "execution_count": null,
   "metadata": {},
   "outputs": [],
   "source": [
    "param_grid = {\n",
    "                'max_features': [ 1,'sqrt', 'log2', None],\n",
    "                'max_depth': [4, 8, 12,None],\n",
    "                'min_samples_split': [2, 7,  10],\n",
    "                'min_samples_leaf': [1,  6, 10]\n",
    "}"
   ]
  },
  {
   "cell_type": "code",
   "execution_count": null,
   "metadata": {},
   "outputs": [
    {
     "name": "stdout",
     "output_type": "stream",
     "text": [
      "Fitting 5 folds for each of 144 candidates, totalling 720 fits\n",
      "RandomForestRegressor test RMSE: 9.83973878183564 train RMSE: 3.80122008290703 {'max_depth': None, 'max_features': None, 'min_samples_leaf': 1, 'min_samples_split': 2}\n"
     ]
    }
   ],
   "source": [
    "rfg_grid_1 = run_gridsearch(rfg_grid_base, param_grid, save=False, n_jobs=-1)"
   ]
  },
  {
   "cell_type": "markdown",
   "metadata": {},
   "source": [
    "- It's almost the same result, hence moving towards the next"
   ]
  },
  {
   "cell_type": "markdown",
   "metadata": {},
   "source": [
    "### DecisionTreeRegressor"
   ]
  },
  {
   "cell_type": "code",
   "execution_count": null,
   "metadata": {},
   "outputs": [],
   "source": [
    "from sklearn.tree import DecisionTreeRegressor"
   ]
  },
  {
   "cell_type": "code",
   "execution_count": null,
   "metadata": {},
   "outputs": [],
   "source": [
    "dt_base = DecisionTreeRegressor(random_state=101)"
   ]
  },
  {
   "cell_type": "code",
   "execution_count": null,
   "metadata": {},
   "outputs": [
    {
     "name": "stdout",
     "output_type": "stream",
     "text": [
      "DecisionTreeRegressor test RMSE: 12.967842390686709 train RMSE: 1.0805400730355519\n"
     ]
    }
   ],
   "source": [
    "run_model(dt_base, save=True)"
   ]
  },
  {
   "cell_type": "markdown",
   "metadata": {},
   "source": [
    "- This is overfitting to the train data, let's check another model"
   ]
  },
  {
   "cell_type": "code",
   "execution_count": null,
   "metadata": {},
   "outputs": [],
   "source": [
    "performance.to_csv('data/performance.csv', index=False)"
   ]
  },
  {
   "cell_type": "markdown",
   "metadata": {},
   "source": [
    "### XGBRegressor"
   ]
  },
  {
   "cell_type": "code",
   "execution_count": null,
   "metadata": {},
   "outputs": [],
   "source": [
    "from xgboost import XGBRegressor"
   ]
  },
  {
   "cell_type": "code",
   "execution_count": null,
   "metadata": {},
   "outputs": [],
   "source": [
    "xgb_base = XGBRegressor( random_state=101)"
   ]
  },
  {
   "cell_type": "code",
   "execution_count": null,
   "metadata": {},
   "outputs": [
    {
     "name": "stdout",
     "output_type": "stream",
     "text": [
      "XGBRegressor test RMSE: 11.153442124487407 train RMSE: 7.636570223825932\n"
     ]
    }
   ],
   "source": [
    "run_model(xgb_base, save=True)"
   ]
  },
  {
   "cell_type": "markdown",
   "metadata": {},
   "source": [
    "- finding the optimal value of n_estimators"
   ]
  },
  {
   "cell_type": "code",
   "execution_count": null,
   "metadata": {},
   "outputs": [],
   "source": [
    "def find_n_estimator(n_max):\n",
    "    error = []\n",
    "    error_train = []\n",
    "    for n in range(100,n_max,100):\n",
    "        xgb = XGBRegressor(n_estimators=n, random_state=101,n_jobs=-1)\n",
    "        xgb.fit(X_train, y_train)\n",
    "        error.append(np.sqrt(mean_squared_error(y_test, xgb.predict(X_test))))\n",
    "        error_train.append(np.sqrt(mean_squared_error(y_train, xgb.predict(X_train))))\n",
    "    return error,error_train"
   ]
  },
  {
   "cell_type": "code",
   "execution_count": null,
   "metadata": {},
   "outputs": [],
   "source": [
    "error_test,error_train = find_n_estimator(800)"
   ]
  },
  {
   "cell_type": "code",
   "execution_count": null,
   "metadata": {},
   "outputs": [
    {
     "data": {
      "image/png": "[encoded data removed]",
      "text/plain": [
       "<Figure size 432x288 with 1 Axes>"
      ]
     },
     "metadata": {},
     "output_type": "display_data"
    }
   ],
   "source": [
    "plt.plot(range(100,800,100), error_test);\n",
    "plt.plot(range(100,800,100), error_train);"
   ]
  },
  {
   "cell_type": "markdown",
   "metadata": {},
   "source": [
    "- We can use that n_estimators = 250, to avoid the overfitting"
   ]
  },
  {
   "cell_type": "code",
   "execution_count": null,
   "metadata": {},
   "outputs": [
    {
     "data": {
      "text/plain": [
       "<bound method XGBModel.get_params of XGBRegressor(base_score=0.5, booster='gbtree', callbacks=None,\n",
       "             colsample_bylevel=1, colsample_bynode=1, colsample_bytree=1,\n",
       "             early_stopping_rounds=None, enable_categorical=False,\n",
       "             eval_metric=None, gamma=0, gpu_id=-1, grow_policy='depthwise',\n",
       "             importance_type=None, interaction_constraints='',\n",
       "             learning_rate=0.300000012, max_bin=256, max_cat_to_onehot=4,\n",
       "             max_delta_step=0, max_depth=6, max_leaves=0, min_child_weight=1,\n",
       "             missing=nan, monotone_constraints='()', n_estimators=100, n_jobs=0,\n",
       "             num_parallel_tree=1, predictor='auto', random_state=101,\n",
       "             reg_alpha=0, reg_lambda=1, ...)>"
      ]
     },
     "metadata": {},
     "output_type": "display_data"
    }
   ],
   "source": [
    "xgb_base.get_params"
   ]
  },
  {
   "cell_type": "markdown",
   "metadata": {},
   "source": [
    "#### Grid Search"
   ]
  },
  {
   "cell_type": "code",
   "execution_count": null,
   "metadata": {},
   "outputs": [],
   "source": [
    "xgb_grid_base = XGBRegressor(random_state=101,eval_metric='rmse')"
   ]
  },
  {
   "cell_type": "code",
   "execution_count": null,
   "metadata": {},
   "outputs": [],
   "source": [
    "param_grid = {'max_depth': [3,6,7],\n",
    "                'learning_rate': [ 0.01, 0.1,  1],\n",
    "                'min_child_weight': [1, 5, 9],\n",
    "                'gamma': [0, 0.01, 0.1, 0.9, 1],\n",
    "                'n_estimators': [250]\n",
    "}"
   ]
  },
  {
   "cell_type": "code",
   "execution_count": null,
   "metadata": {},
   "outputs": [
    {
     "name": "stdout",
     "output_type": "stream",
     "text": [
      "Fitting 5 folds for each of 135 candidates, totalling 675 fits\n",
      "XGBRegressor test RMSE: 10.610680114989963 train RMSE: 6.69333125319438 {'gamma': 0.01, 'learning_rate': 0.1, 'max_depth': 7, 'min_child_weight': 1, 'n_estimators': 250}\n"
     ]
    }
   ],
   "source": [
    "xgb_grid_1 = run_gridsearch(xgb_grid_base, param_grid, save=False, n_jobs=-1)"
   ]
  },
  {
   "cell_type": "markdown",
   "metadata": {},
   "source": [
    "- let's try to more tune the hyperparameters"
   ]
  },
  {
   "cell_type": "code",
   "execution_count": null,
   "metadata": {},
   "outputs": [],
   "source": [
    "param_grid = {'max_depth': [7,8],\n",
    "                'learning_rate': [0.1],\n",
    "                'min_child_weight': [1,2],\n",
    "                'gamma': [0.01,0.03,0.06],\n",
    "                'reg_alpha': [0, 0.01, 0.1, 0.9, 1],\n",
    "                'reg_lambda': [0, 0.01, 0.1, 0.9, 1],\n",
    "                'n_estimators': [250]\n",
    "}"
   ]
  },
  {
   "cell_type": "code",
   "execution_count": null,
   "metadata": {},
   "outputs": [
    {
     "name": "stdout",
     "output_type": "stream",
     "text": [
      "Fitting 5 folds for each of 300 candidates, totalling 1500 fits\n",
      "XGBRegressor test RMSE: 9.935892490096593 train RMSE: 4.6134399584340935 {'gamma': 0.03, 'learning_rate': 0.1, 'max_depth': 8, 'min_child_weight': 1, 'n_estimators': 250, 'reg_alpha': 1, 'reg_lambda': 0}\n"
     ]
    }
   ],
   "source": [
    "xgb_grid_2 = run_gridsearch(xgb_grid_base, param_grid, save=False, n_jobs=-1)"
   ]
  },
  {
   "cell_type": "markdown",
   "metadata": {},
   "source": [
    "- let's try to narrow down more"
   ]
  },
  {
   "cell_type": "code",
   "execution_count": null,
   "metadata": {},
   "outputs": [],
   "source": [
    "param_grid = {'max_depth': [8],\n",
    "                'learning_rate': [0.1],\n",
    "                'min_child_weight': [1],\n",
    "                'gamma': [0.03],\n",
    "                'reg_alpha': [0.95, 1],\n",
    "                'reg_lambda': [0,0.005],\n",
    "                'n_estimators': [350]\n",
    "}"
   ]
  },
  {
   "cell_type": "code",
   "execution_count": null,
   "metadata": {},
   "outputs": [
    {
     "data": {
      "text/html": [
       "<div>\n",
       "<style scoped>\n",
       "    .dataframe tbody tr th:only-of-type {\n",
       "        vertical-align: middle;\n",
       "    }\n",
       "\n",
       "    .dataframe tbody tr th {\n",
       "        vertical-align: top;\n",
       "    }\n",
       "\n",
       "    .dataframe thead th {\n",
       "        text-align: right;\n",
       "    }\n",
       "</style>\n",
       "<table border=\"1\" class=\"dataframe\">\n",
       "  <thead>\n",
       "    <tr style=\"text-align: right;\">\n",
       "      <th></th>\n",
       "      <th>model</th>\n",
       "      <th>rmse_test</th>\n",
       "      <th>rmse_train</th>\n",
       "    </tr>\n",
       "  </thead>\n",
       "  <tbody>\n",
       "    <tr>\n",
       "      <th>0</th>\n",
       "      <td>LinearRegression</td>\n",
       "      <td>16.970842</td>\n",
       "      <td>16.634886</td>\n",
       "    </tr>\n",
       "    <tr>\n",
       "      <th>1</th>\n",
       "      <td>ElasticNet</td>\n",
       "      <td>16.971049</td>\n",
       "      <td>16.634899</td>\n",
       "    </tr>\n",
       "    <tr>\n",
       "      <th>2</th>\n",
       "      <td>KNeighborsRegressor</td>\n",
       "      <td>15.715344</td>\n",
       "      <td>1.543912</td>\n",
       "    </tr>\n",
       "    <tr>\n",
       "      <th>3</th>\n",
       "      <td>RandomForestRegressor</td>\n",
       "      <td>9.839739</td>\n",
       "      <td>3.801220</td>\n",
       "    </tr>\n",
       "    <tr>\n",
       "      <th>4</th>\n",
       "      <td>DecisionTreeRegressor</td>\n",
       "      <td>12.967842</td>\n",
       "      <td>1.080540</td>\n",
       "    </tr>\n",
       "    <tr>\n",
       "      <th>5</th>\n",
       "      <td>XGBRegressor</td>\n",
       "      <td>11.153442</td>\n",
       "      <td>7.636570</td>\n",
       "    </tr>\n",
       "  </tbody>\n",
       "</table>\n",
       "</div>"
      ],
      "text/plain": [
       "                   model  rmse_test  rmse_train\n",
       "0       LinearRegression  16.970842   16.634886\n",
       "1             ElasticNet  16.971049   16.634899\n",
       "2    KNeighborsRegressor  15.715344    1.543912\n",
       "3  RandomForestRegressor   9.839739    3.801220\n",
       "4  DecisionTreeRegressor  12.967842    1.080540\n",
       "5           XGBRegressor  11.153442    7.636570"
      ]
     },
     "metadata": {},
     "output_type": "display_data"
    }
   ],
   "source": [
    "performance"
   ]
  },
  {
   "cell_type": "code",
   "execution_count": null,
   "metadata": {},
   "outputs": [
    {
     "name": "stdout",
     "output_type": "stream",
     "text": [
      "Fitting 5 folds for each of 4 candidates, totalling 20 fits\n",
      "XGB Grid test RMSE: 9.674704503565655 train RMSE: 3.4221354335342555 {'gamma': 0.03, 'learning_rate': 0.1, 'max_depth': 8, 'min_child_weight': 1, 'n_estimators': 350, 'reg_alpha': 1, 'reg_lambda': 0}\n"
     ]
    }
   ],
   "source": [
    "xgb_grid_3 = run_gridsearch(xgb_grid_base, param_grid, save=True, n_jobs=-1, model_name='XGB Grid')"
   ]
  },
  {
   "cell_type": "code",
   "execution_count": null,
   "metadata": {},
   "outputs": [],
   "source": [
    "performance.to_csv('data/performance.csv',index=False)"
   ]
  },
  {
   "cell_type": "markdown",
   "metadata": {},
   "source": [
    "- We got two Model with better result (Random Forest grid & xgb_grid_3) hence making an  ensemble of both the models"
   ]
  },
  {
   "cell_type": "markdown",
   "metadata": {},
   "source": [
    "### VotingRegressor"
   ]
  },
  {
   "cell_type": "code",
   "execution_count": null,
   "metadata": {},
   "outputs": [],
   "source": [
    "from sklearn.ensemble import VotingRegressor"
   ]
  },
  {
   "cell_type": "code",
   "execution_count": null,
   "metadata": {},
   "outputs": [
    {
     "data": {
      "text/html": [
       "<div>\n",
       "<style scoped>\n",
       "    .dataframe tbody tr th:only-of-type {\n",
       "        vertical-align: middle;\n",
       "    }\n",
       "\n",
       "    .dataframe tbody tr th {\n",
       "        vertical-align: top;\n",
       "    }\n",
       "\n",
       "    .dataframe thead th {\n",
       "        text-align: right;\n",
       "    }\n",
       "</style>\n",
       "<table border=\"1\" class=\"dataframe\">\n",
       "  <thead>\n",
       "    <tr style=\"text-align: right;\">\n",
       "      <th></th>\n",
       "      <th>model</th>\n",
       "      <th>rmse_test</th>\n",
       "      <th>rmse_train</th>\n",
       "    </tr>\n",
       "  </thead>\n",
       "  <tbody>\n",
       "    <tr>\n",
       "      <th>0</th>\n",
       "      <td>LinearRegression</td>\n",
       "      <td>16.970842</td>\n",
       "      <td>16.634886</td>\n",
       "    </tr>\n",
       "    <tr>\n",
       "      <th>1</th>\n",
       "      <td>ElasticNet</td>\n",
       "      <td>16.971049</td>\n",
       "      <td>16.634899</td>\n",
       "    </tr>\n",
       "    <tr>\n",
       "      <th>2</th>\n",
       "      <td>KNeighborsRegressor</td>\n",
       "      <td>15.715344</td>\n",
       "      <td>1.543912</td>\n",
       "    </tr>\n",
       "    <tr>\n",
       "      <th>3</th>\n",
       "      <td>RandomForestRegressor</td>\n",
       "      <td>9.839739</td>\n",
       "      <td>3.801220</td>\n",
       "    </tr>\n",
       "    <tr>\n",
       "      <th>4</th>\n",
       "      <td>DecisionTreeRegressor</td>\n",
       "      <td>12.967842</td>\n",
       "      <td>1.080540</td>\n",
       "    </tr>\n",
       "    <tr>\n",
       "      <th>5</th>\n",
       "      <td>XGBRegressor</td>\n",
       "      <td>11.153442</td>\n",
       "      <td>7.636570</td>\n",
       "    </tr>\n",
       "    <tr>\n",
       "      <th>6</th>\n",
       "      <td>XGB Grid</td>\n",
       "      <td>9.674705</td>\n",
       "      <td>3.422135</td>\n",
       "    </tr>\n",
       "  </tbody>\n",
       "</table>\n",
       "</div>"
      ],
      "text/plain": [
       "                   model  rmse_test  rmse_train\n",
       "0       LinearRegression  16.970842   16.634886\n",
       "1             ElasticNet  16.971049   16.634899\n",
       "2    KNeighborsRegressor  15.715344    1.543912\n",
       "3  RandomForestRegressor   9.839739    3.801220\n",
       "4  DecisionTreeRegressor  12.967842    1.080540\n",
       "5           XGBRegressor  11.153442    7.636570\n",
       "6               XGB Grid   9.674705    3.422135"
      ]
     },
     "metadata": {},
     "output_type": "display_data"
    }
   ],
   "source": [
    "performance"
   ]
  },
  {
   "cell_type": "code",
   "execution_count": null,
   "metadata": {},
   "outputs": [],
   "source": [
    "rfg = RandomForestRegressor(max_depth= None, max_features= None, min_samples_leaf= 1, min_samples_split= 2, n_estimators=400)\n",
    "\n",
    "xgb = XGBRegressor(gamma= 0.03, learning_rate= 0.1, max_depth= 8, min_child_weight= 1, n_estimators= 350, reg_alpha= 1, reg_lambda= 0, eval_metric='rmse')"
   ]
  },
  {
   "cell_type": "code",
   "execution_count": null,
   "metadata": {},
   "outputs": [],
   "source": [
    "vr_base = VotingRegressor(estimators=[('xgb', xgb), ('rfg', rfg)], weights=[1.5,1])"
   ]
  },
  {
   "cell_type": "code",
   "execution_count": null,
   "metadata": {},
   "outputs": [
    {
     "name": "stdout",
     "output_type": "stream",
     "text": [
      "VotingRegressor test RMSE: 9.50256406646341 train RMSE: 3.3453973166067374\n"
     ]
    }
   ],
   "source": [
    "run_model(vr_base, save=False)"
   ]
  },
  {
   "cell_type": "markdown",
   "metadata": {},
   "source": [
    "# Final Model"
   ]
  },
  {
   "cell_type": "markdown",
   "metadata": {},
   "source": [
    "- as we have seen that XGBRegressor with some tunned parameters is the best model, so we will use that model for our final model"
   ]
  },
  {
   "cell_type": "code",
   "execution_count": null,
   "metadata": {},
   "outputs": [],
   "source": [
    "df = pd.read_csv('data/train_filled_scaled.csv')\n",
    "X_ = df.drop(['offer_per','final_price'], axis=1)\n",
    "y_ = df['offer_per']\n",
    "test = pd.read_csv('data/test_filled_scaled.csv')"
   ]
  },
  {
   "cell_type": "code",
   "execution_count": null,
   "metadata": {},
   "outputs": [],
   "source": [
    "from xgboost import XGBRegressor\n",
    "from sklearn.ensemble import RandomForestRegressor\n",
    "from sklearn.ensemble import VotingRegressor"
   ]
  },
  {
   "cell_type": "code",
   "execution_count": null,
   "metadata": {},
   "outputs": [],
   "source": [
    "rfg = RandomForestRegressor(max_depth= None, max_features= None, min_samples_leaf= 1, min_samples_split= 2, n_estimators=400)"
   ]
  },
  {
   "cell_type": "code",
   "execution_count": null,
   "metadata": {},
   "outputs": [],
   "source": [
    "xgb = XGBRegressor(gamma= 0.03, learning_rate= 0.1, max_depth= 8, min_child_weight= 1, n_estimators= 350, reg_alpha= 1, reg_lambda= 0, eval_metric='rmse')"
   ]
  },
  {
   "cell_type": "code",
   "execution_count": null,
   "metadata": {},
   "outputs": [],
   "source": [
    "final_model = VotingRegressor(estimators=[('xgb', xgb), ('rfg', rfg)], weights=[1.5,1])"
   ]
  },
  {
   "cell_type": "code",
   "execution_count": null,
   "metadata": {},
   "outputs": [],
   "source": [
    "def set_order(df, indexing):\n",
    "    new_df = pd.DataFrame(columns=['id','price1'])\n",
    "    for i in range(len(indexing)):\n",
    "        new_df.loc[i] = [int(indexing[i]), int(round(df[df['id'] == indexing[i]]['price1'].values[0],-1)-1)]\n",
    "    return new_df"
   ]
  },
  {
   "cell_type": "code",
   "execution_count": null,
   "metadata": {},
   "outputs": [],
   "source": [
    "def provide_final_output(X,y,test, model):\n",
    "    model.fit(X,y)\n",
    "\n",
    "    id = test.id.values\n",
    "    actual_price = np.exp(test.actual_price.values)\n",
    "\n",
    "    test_final = test.drop(['id'], axis=1)\n",
    "\n",
    "    \n",
    "    pred = model.predict(test_final)\n",
    "    price1 = actual_price*(1-pred/100)\n",
    "    submit = pd.DataFrame({'id':id,'offer_per':pred,'price1':price1})\n",
    "    \n",
    "    indexing = pd.read_csv(\"data/Sample__submission.csv\")['id']\n",
    "    submit  = set_order(submit, indexing)\n",
    "    \n",
    "    return submit"
   ]
  },
  {
   "cell_type": "code",
   "execution_count": null,
   "metadata": {},
   "outputs": [],
   "source": [
    "s = provide_final_output(X_,y_,test, final_model)"
   ]
  },
  {
   "cell_type": "code",
   "execution_count": null,
   "metadata": {},
   "outputs": [],
   "source": [
    "s.to_csv('submit.csv', index=False)"
   ]
  }
 ],
 "metadata": {
  "kernelspec": {
   "display_name": "Python 3.10.4 ('mlearning')",
   "language": "python",
   "name": "python3"
  },
  "language_info": {
   "name": "python",
   "version": "3.10.4"
  },
  "orig_nbformat": 4,
  "vscode": {
   "interpreter": {
    "hash": "1eb649f6f8cececb32e27a7c74ff0c8a2304f0589778cec0736ca47bbe35202a"
   }
  }
 },
 "nbformat": 4,
 "nbformat_minor": 2
}
